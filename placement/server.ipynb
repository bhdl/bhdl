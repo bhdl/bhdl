{
 "cells": [
  {
   "cell_type": "markdown",
   "metadata": {},
   "source": [
    "# Run julia placement server"
   ]
  },
  {
   "cell_type": "code",
   "execution_count": null,
   "metadata": {},
   "outputs": [],
   "source": [
    "versioninfo()"
   ]
  },
  {
   "cell_type": "code",
   "execution_count": null,
   "metadata": {},
   "outputs": [],
   "source": [
    "ENV[\"JULIA_PKG_SERVER\"] = \"https://mirrors.tuna.tsinghua.edu.cn/julia\""
   ]
  },
  {
   "cell_type": "code",
   "execution_count": null,
   "metadata": {},
   "outputs": [],
   "source": [
    "include(\"server.jl\")"
   ]
  },
  {
   "cell_type": "code",
   "execution_count": null,
   "metadata": {},
   "outputs": [],
   "source": [
    "web_server()"
   ]
  },
  {
   "cell_type": "markdown",
   "metadata": {},
   "source": [
    "# Testing a local place spec:"
   ]
  },
  {
   "cell_type": "code",
   "execution_count": null,
   "metadata": {
    "scrolled": true
   },
   "outputs": [],
   "source": [
    "str = open(\"place-spec.json\") do io\n",
    "    read(io, String)\n",
    "end\n",
    "jobj = JSON.parse(str)\n",
    "xs, ys, as, ws, hs, Es, mask, diearea, params = decode_place_spec(jobj)"
   ]
  },
  {
   "cell_type": "code",
   "execution_count": null,
   "metadata": {},
   "outputs": [],
   "source": [
    "R = Region(xs, ys, ws, hs, diearea, 300)"
   ]
  },
  {
   "cell_type": "code",
   "execution_count": null,
   "metadata": {
    "scrolled": true
   },
   "outputs": [],
   "source": [
    "# global placement\n",
    "solxs, solys = place(xs, ys, ws, hs, Es, mask, diearea,\n",
    "                     nsteps=params[\"place-nsteps\"],\n",
    "                     nbins=params[\"place-nbins\"], vis=true)"
   ]
  },
  {
   "cell_type": "code",
   "execution_count": null,
   "metadata": {
    "scrolled": true
   },
   "outputs": [],
   "source": [
    "solxs2, solys2, solas = simulated_annealing_legalization(\n",
    "    solxs, solys, as, ws, hs, mask, diearea,\n",
    "    # vis=true,\n",
    "    ncycles=params[\"sa-ncycles\"],\n",
    "    nsteps=params[\"sa-nsteps\"],\n",
    "    stepsize=params[\"sa-stepsize\"],\n",
    "    theta_stepsize=params[\"sa-theta-stepsize\"])"
   ]
  }
 ],
 "metadata": {
  "kernelspec": {
   "display_name": "Julia 1.5.0",
   "language": "julia",
   "name": "julia-1.5"
  },
  "language_info": {
   "file_extension": ".jl",
   "mimetype": "application/julia",
   "name": "julia",
   "version": "1.5.0"
  }
 },
 "nbformat": 4,
 "nbformat_minor": 4
}
