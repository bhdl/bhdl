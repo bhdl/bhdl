{
 "cells": [
  {
   "cell_type": "code",
   "execution_count": null,
   "metadata": {},
   "outputs": [],
   "source": [
    "(version)"
   ]
  },
  {
   "cell_type": "code",
   "execution_count": null,
   "metadata": {},
   "outputs": [],
   "source": [
    "#lang iracket/lang #:require bhdl/splicing #:reader bhdl/splicing"
   ]
  },
  {
   "cell_type": "code",
   "execution_count": null,
   "metadata": {},
   "outputs": [],
   "source": [
    "(list (list 1 2 3) ..)"
   ]
  },
  {
   "cell_type": "code",
   "execution_count": null,
   "metadata": {},
   "outputs": [],
   "source": [
    "(putenv \"BHDL_LIBRARY_PATH\" \"~/bhdl/bhdl-footprints\")\n",
    "(getenv \"BHDL_LIBRARY_PATH\")"
   ]
  },
  {
   "cell_type": "code",
   "execution_count": null,
   "metadata": {},
   "outputs": [],
   "source": [
    "(require racket/list\n",
    "         racket/format\n",
    "         (prefix-in pict: pict))"
   ]
  },
  {
   "cell_type": "code",
   "execution_count": null,
   "metadata": {},
   "outputs": [],
   "source": [
    "(require bhdl)"
   ]
  },
  {
   "cell_type": "code",
   "execution_count": null,
   "metadata": {},
   "outputs": [],
   "source": [
    "(define (add-ghost-top p sep)\n",
    "  \"Add some space on top of picture\"\n",
    "  (vc-append (pict:ghost (pict:rectangle 1 sep)) p))"
   ]
  },
  {
   "cell_type": "code",
   "execution_count": null,
   "metadata": {},
   "outputs": [],
   "source": [
    "(define spreadboard\n",
    "  (make-circuit\n",
    "   ;; FIXME inset a little bit\n",
    "   #:vars ([jumper-mini-nano-SCL (PinHeader 3)]  ;j3\n",
    "           [jumper-mini-nano-SDA (PinHeader 3)]  ;j4\n",
    "           [jumper-micro-SDA (PinHeader 3)]      ;j10\n",
    "           [jumper-micro-SCL (PinHeader 3)]      ;j11\n",
    "           [jumper-micro-mini-VCC (PinHeader 3)] ;J1\n",
    "           [jumper-mkr-MOSI (PinHeader 3)]       ;J5\n",
    "           [jumper-mkr-SCK (PinHeader 3)]        ;J6\n",
    "           [jumper-mkr-SDA (PinHeader 3)]        ;J8\n",
    "           [jumper-mkr-SCL (PinHeader 3)]        ;J9\n",
    "           [uno1 (Arduino-Uno)]\n",
    "           [uno2 (Arduino-Uno)]\n",
    "           [uno3 (Arduino-Uno-ICSP)]\n",
    "           [uno4 (Arduino-Uno-ICSP)]\n",
    "           [micro (Arduino-Micro)]\n",
    "           [mini (Arduino-Mini)]\n",
    "           [nano (Arduino-Nano)]\n",
    "           [mkr (Arduino-MKR)])\n",
    "   ;; The bunch of connections across all Arduinos\n",
    "   #:connect\n",
    "   (*=\n",
    "    ;; TODO TX RX RESET VIN AREF IOREF\n",
    "    (uno1  [A0 A1 A2 A3 A4 A5 -  -  -  -  D2 D3 D4 D5 D6 D7 D8 D9 D10 D11 D12 D13 -   GND 3V3 5V])\n",
    "    (uno2  [A0 A1 A2 A3 A4 A5 -  -  -  -  D2 D3 D4 D5 D6 D7 D8 D9 D10 D11 D12 D13 -   GND 3V3 5V])\n",
    "    (uno3  [A0 A1 A2 A3 A4 A5 -  -  -  -  D2 D3 D4 D5 D6 D7 D8 D9 D10 D11 D12 D13 VCC GND 3V3 5V])\n",
    "    (uno4  [A0 A1 A2 A3 A4 A5 -  -  -  -  D2 D3 D4 D5 D6 D7 D8 D9 D10 D11 D12 D13 VCC GND 3V3 5V])\n",
    "    (micro [A0 A1 A2 A3 -  -  -  -  -  -  -  -  D4 D5 D6 D7 D8 D9 D10 -   -   -   -   GND -   -])\n",
    "    (mini  [A0 A1 A2 A3 -  -  A6 A7 -  -  D2 D3 D4 D5 D6 D7 D8 D9 D10 D11 D12 D13 -   GND -   -])\n",
    "    (nano  [A0 A1 A2 A3 -  -  A6 A7 D0 D1 D2 D3 D4 D5 D6 D7 D8 D9 D10 D11 D12 D13 -   GND 3V3 5V])\n",
    "    ;; FIXME mkr doesn't have A7, but has D14\n",
    "    (mkr   [A0 A1 A2 A3 A4 A5 A6 -  D0 D1 D2 D3 D4 D5 D6 D7 -  -  D10 -   -   D13 -   GND 3V3 5V]))\n",
    "   ;; TODO define some global signal for e.g. uno1.SDA\n",
    "   #:connect (list (*= (jumper-mkr-SDA [1 2 3])\n",
    "                       ([uno1.D11 mkr.D11 uno1.SDA]))\n",
    "                   (*= (jumper-mkr-SCL [1 2 3])\n",
    "                       ([uno1.D12 mkr.D12 uno1.SCL]))\n",
    "                   (*= (jumper-mkr-MOSI [1 2 3])\n",
    "                       ;; CAUTION only Uno with ICSP headers has the MOSI pin\n",
    "                       ([uno3.D8 mkr.D8 uno3.MOSI]))\n",
    "                   (*= (jumper-mkr-SCK [1 2 3])\n",
    "                       ([uno3.D9 mkr.D9 uno3.SCK]))\n",
    "                   (*= (jumper-micro-SDA [1 2 3])\n",
    "                       ([uno1.D2 micro.D2 uno1.SDA]))\n",
    "                   (*= (jumper-micro-SCL [1 2 3])\n",
    "                       ([uno1.D3 micro.D3 uno1.SCL]))\n",
    "                   ;; jumpter mini/nano\n",
    "                   (*- jumper-mini-nano-SCL.2 mini.A5 nano.A5)\n",
    "                   (*- jumper-mini-nano-SCL.1 uno1.A5)\n",
    "                   (*- jumper-mini-nano-SCL.3 uno1.SCL)\n",
    "                   (*- jumper-mini-nano-SDA.2 mini.A4 nano.A4)\n",
    "                   (*- jumper-mini-nano-SDA.1 uno1.A4)\n",
    "                   (*- jumper-mini-nano-SDA.3 uno1.SDA)\n",
    "                   ;; jumper micro mini\n",
    "                   (*- jumper-micro-mini-VCC.2 micro.VCC mini.VCC)\n",
    "                   (*- jumper-micro-mini-VCC.1 uno1.3V3)\n",
    "                   (*- jumper-micro-mini-VCC.3 uno1.5V)\n",
    "                   )\n",
    "   #:layout (let ([g1 (ct-superimpose\n",
    "                       uno1\n",
    "                       (vc-append\n",
    "                        10\n",
    "                        (add-ghost-top mini 50)\n",
    "                        (vc-append (rotate jumper-mini-nano-SCL (/ pi 2))\n",
    "                                   (rotate jumper-mini-nano-SDA (/ pi 2)))))]\n",
    "                  [g2 (ct-superimpose\n",
    "                       uno2\n",
    "                       (vc-append\n",
    "                        10\n",
    "                        (add-ghost-top micro 50)\n",
    "                        (vc-append (rotate jumper-micro-SDA (/ pi 2))\n",
    "                                   (rotate jumper-micro-SCL (/ pi 2))))\n",
    "                       (rotate jumper-micro-mini-VCC (/ pi 2)))]\n",
    "                  [g3 (ct-superimpose\n",
    "                       uno3\n",
    "                       (hc-append 10\n",
    "                                  (vc-append (rotate jumper-mkr-MOSI (/ pi 2))\n",
    "                                             (rotate jumper-mkr-SCK (/ pi 2))\n",
    "                                             (rotate jumper-mkr-SDA (/ pi 2))\n",
    "                                             (rotate jumper-mkr-SCL (/ pi 2)))\n",
    "                                  (add-ghost-top (rotate mkr pi) 50)))]\n",
    "                  [g4 (ct-superimpose uno4 (add-ghost-top nano 50))])\n",
    "              (inset (vc-append \n",
    "               (ht-append 20 g1 g2)\n",
    "               (ht-append 20 g3 g4))\n",
    "                     20 20 20 -50))))"
   ]
  },
  {
   "cell_type": "code",
   "execution_count": null,
   "metadata": {},
   "outputs": [],
   "source": [
    "(parameterize ([current-directory \"./out/spreadboard\"]\n",
    "               [padding-general 2])\n",
    "    (circuit-export spreadboard\n",
    "                    #:auto-place #t\n",
    "                    #:formats '(kicad pdf)))"
   ]
  }
 ],
 "metadata": {
  "kernelspec": {
   "display_name": "Racket",
   "language": "racket",
   "name": "racket"
  },
  "language_info": {
   "codemirror_mode": "scheme",
   "file_extension": ".rkt",
   "mimetype": "text/x-racket",
   "name": "Racket",
   "pygments_lexer": "racket",
   "version": "7.7"
  }
 },
 "nbformat": 4,
 "nbformat_minor": 4
}
