{
 "cells": [
  {
   "cell_type": "markdown",
   "metadata": {},
   "source": [
    "# racket v7.8 bug demo"
   ]
  },
  {
   "cell_type": "code",
   "execution_count": null,
   "metadata": {},
   "outputs": [],
   "source": [
    "(version)"
   ]
  },
  {
   "cell_type": "code",
   "execution_count": null,
   "metadata": {},
   "outputs": [],
   "source": [
    "(putenv \"BHDL_LIBRARY_PATH\" \"~/bhdl/bhdl-footprints\")\n",
    "(getenv \"BHDL_LIBRARY_PATH\")"
   ]
  },
  {
   "cell_type": "code",
   "execution_count": null,
   "metadata": {},
   "outputs": [],
   "source": [
    "(require racket/list\n",
    "         racket/format\n",
    "         (prefix-in pict: pict))"
   ]
  },
  {
   "cell_type": "code",
   "execution_count": null,
   "metadata": {},
   "outputs": [],
   "source": [
    "(require bhdl)"
   ]
  },
  {
   "cell_type": "code",
   "execution_count": null,
   "metadata": {},
   "outputs": [],
   "source": [
    "(require \"fitboard-lib.rkt\")"
   ]
  },
  {
   "cell_type": "code",
   "execution_count": null,
   "metadata": {},
   "outputs": [],
   "source": [
    "(define-key-matrix matrix\n",
    "  ([(esc 1.5)    1 2 3 4    5       -         -        6 7 8  9  0   (backspace 1.5)]\n",
    "   [(tab 1.5)    Q  W  E  R     T        -         -        Y  U  I   O   P    (\\\\ 1.5)]\n",
    "   [(caps 1.5)   A  S  D  F     G        (lmid1 1.5) (rmid1 1.5)        H  J  K   L   \\;  (enter 1.5)]\n",
    "   [(lshift 1.5) Z  X  C  V     B        (lmid2 1.5) (rmid2 1.5)        N  M  \\, \\. \\/  (rshift 1.5)]\n",
    "   [lctrl lfn lsuper lalt lTBD (lspace 2.75) - - (rspace 2.75) rTBD ralt rsuper rfn rctrl]))"
   ]
  },
  {
   "cell_type": "code",
   "execution_count": null,
   "metadata": {},
   "outputs": [],
   "source": [
    "(define m33 (rotate (hb-append (vc-append kQ kA kZ)\n",
    "                               (vc-append kW kS kX)\n",
    "                               (vc-append kE kD kC))\n",
    "                   (- (/ pi 10))\n",
    "                    ))\n",
    "(pict:frame m33)"
   ]
  },
  {
   "cell_type": "code",
   "execution_count": null,
   "metadata": {},
   "outputs": [],
   "source": [
    "(pict:cc-find (pict:frame m33) (show-layout kQ))"
   ]
  }
 ],
 "metadata": {
  "kernelspec": {
   "display_name": "Racket",
   "language": "racket",
   "name": "racket"
  },
  "language_info": {
   "codemirror_mode": "scheme",
   "file_extension": ".rkt",
   "mimetype": "text/x-racket",
   "name": "Racket",
   "pygments_lexer": "racket",
   "version": "7.7"
  }
 },
 "nbformat": 4,
 "nbformat_minor": 4
}
