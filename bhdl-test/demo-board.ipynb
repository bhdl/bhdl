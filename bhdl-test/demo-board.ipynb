{
 "cells": [
  {
   "cell_type": "code",
   "execution_count": null,
   "metadata": {},
   "outputs": [],
   "source": [
    "(version)"
   ]
  },
  {
   "cell_type": "code",
   "execution_count": null,
   "metadata": {},
   "outputs": [],
   "source": [
    "#lang iracket/lang #:require bhdl/splicing #:reader bhdl/splicing"
   ]
  },
  {
   "cell_type": "code",
   "execution_count": null,
   "metadata": {},
   "outputs": [],
   "source": [
    "(list (list 1 2 3) ..)"
   ]
  },
  {
   "cell_type": "code",
   "execution_count": null,
   "metadata": {},
   "outputs": [],
   "source": [
    "(putenv \"BHDL_LIBRARY_PATH\" \"~/bhdl/bhdl-footprints\")\n",
    "(require bhdl)"
   ]
  },
  {
   "cell_type": "code",
   "execution_count": null,
   "metadata": {},
   "outputs": [],
   "source": [
    "(require racket/list\n",
    "         racket/format\n",
    "         (prefix-in pict: pict))"
   ]
  },
  {
   "cell_type": "code",
   "execution_count": null,
   "metadata": {},
   "outputs": [],
   "source": [
    "(define global\n",
    "  (make-circuit\n",
    "   #:external-pins (GND 3V3 5V VCC USB5V)))"
   ]
  },
  {
   "cell_type": "markdown",
   "metadata": {},
   "source": [
    "# Keyboard Matrix"
   ]
  },
  {
   "cell_type": "code",
   "execution_count": null,
   "metadata": {},
   "outputs": [],
   "source": [
    ";; A small circuit with one key and one diode\n",
    "(define (key-with-diode)\n",
    "  (make-circuit \n",
    "   #:external-pins (left right)\n",
    "   #:vars ([d (1N4148W)]\n",
    "           [key (kailh-socket 1)])\n",
    "   #:connect (*- self.left key d self.right)\n",
    "   #:layout (vc-append key d)))"
   ]
  },
  {
   "cell_type": "code",
   "execution_count": null,
   "metadata": {},
   "outputs": [],
   "source": [
    "(show-layout (key-with-diode))"
   ]
  },
  {
   "cell_type": "code",
   "execution_count": null,
   "metadata": {},
   "outputs": [],
   "source": [
    ";; create a 4x5 matrix\n",
    "(define matrix\n",
    "  (for/list ([row (in-range 4)])\n",
    "            (for/list ([col (in-range 5)])\n",
    "                      (key-with-diode))))"
   ]
  },
  {
   "cell_type": "code",
   "execution_count": null,
   "metadata": {},
   "outputs": [],
   "source": [
    ";; connect the matrix\n",
    "(define matrix-module\n",
    "  (make-circuit \n",
    "   #:external-pins (row[4] col[5])\n",
    "   ;; col in, row out\n",
    "   #:connect (for*/list ([i (in-range 4)]\n",
    "                        [j (in-range 5)])\n",
    "                       (debug \"connecting\" i j)\n",
    "                       (*- self.col[j]\n",
    "                           (list-ref (list-ref matrix i) j)\n",
    "                           self.row[i]))\n",
    "   #:layout (inset (vc-append\n",
    "             (for/list ([row matrix])\n",
    "                      (hc-append row ..)\n",
    "                      ) ..)\n",
    "                   20)))"
   ]
  },
  {
   "cell_type": "code",
   "execution_count": null,
   "metadata": {},
   "outputs": [],
   "source": [
    "(parameterize ([current-directory \"./out/demo-board/matrix\"]\n",
    "               [padding-general 2])\n",
    "    (circuit-export matrix-module\n",
    "                    #:auto-place #f\n",
    "                    #:formats '(kicad pdf png svg)))"
   ]
  },
  {
   "cell_type": "markdown",
   "metadata": {},
   "source": [
    "# MCU Board"
   ]
  },
  {
   "cell_type": "code",
   "execution_count": null,
   "metadata": {},
   "outputs": [],
   "source": [
    "(define (icsp-header)\n",
    "   (make-circuit #:vars ([h (PinHeader2 3)])\n",
    "                   #:external-pins (MOSI SCK MISO RESET VCC GND)\n",
    "                   #:connect (*= (self (MISO VCC SCK MOSI RESET GND))\n",
    "                                 (h [1 2 3 4 5 6]))\n",
    "                   #:layout h))"
   ]
  },
  {
   "cell_type": "code",
   "execution_count": null,
   "metadata": {},
   "outputs": [],
   "source": [
    ";; Now using the Atmega32u4 from the arduino board\n",
    "(define mcu-module \n",
    "  (make-circuit \n",
    " #:vars ([mcu (ATmega32U4 #:FP \"TQFP-44\")]\n",
    "         [usb (USB-Micro)]\n",
    "         [icsp (icsp-header)]\n",
    "         [xtal (Crystal-4 '16MHz)])\n",
    " #:external-pins (row[4] col[5])\n",
    " #:layout (vc-append 50 (rotate usb pi) mcu icsp)\n",
    " ;; define what are the row and col scan pins\n",
    " #:connect (*= (self row [0 3])\n",
    "               (self row [0 3])\n",
    "               (mcu [PB0 PB4 PB5 PB6]))\n",
    " #:connect (*= (self col [0 4])\n",
    "                 (mcu [PD0 PD1 PD2 PD3 PD4]))\n",
    "   ;; use a Pin for blinking LED\n",
    "   #:connect (*- mcu.PC6 (R '1k) (LED0603 'red) global.GND)\n",
    "                    \n",
    " ;; connect the ICSP header\n",
    " #:connect (*= (mcu (MOSI SCLK MISO RESET VCC GND))\n",
    "               (icsp (MOSI SCK MISO RESET VCC GND)))\n",
    " #:connect\n",
    " (list (*- mcu.VCC mcu.UVCC mcu.AVCC global.VCC)\n",
    "         (*- mcu.GND mcu.UGND global.GND)\n",
    "         ;; reset circuit and switch\n",
    "         (*- mcu.RESET (*< (LL4148)\n",
    "                           (R '10k)) global.5V)\n",
    "       ;; FIXME [-1] because (Switch) is parsed as the index otherwise\n",
    "         (*- mcu.RESET[-1] (Switch) global.GND)\n",
    "       ;; capacitors\n",
    "       (*- mcu.UCAP (C '1uf) global.GND)\n",
    "       (*- global.VCC (*< (C '1uf)\n",
    "                          (C '100nf)\n",
    "                          (C '100nf)\n",
    "                          (C '100nf)\n",
    "                          (C '100nf))\n",
    "           global.GND)\n",
    "         ;; crystal\n",
    "       (*- mcu.XTAL1 xtal.XIN)\n",
    "       (*- xtal.XOUT mcu.XTAL2)\n",
    "       (*- xtal.GND global.GND)\n",
    "         (*- mcu.XTAL1 (C '22pf) global.GND)\n",
    "         (*- mcu.XTAL2 (C '22pf) global.GND)\n",
    "       ;; USB\n",
    "       (*- mcu.D+ (R 22) usb.D+)\n",
    "       (*- mcu.D- (R 22) usb.D-)\n",
    "       ;; just use USB for supplying power\n",
    "       (*- mcu.VBUS usb.VBUS global.VCC)\n",
    "       (*- mcu.UGND usb.GND global.GND)\n",
    "       )))"
   ]
  },
  {
   "cell_type": "code",
   "execution_count": null,
   "metadata": {},
   "outputs": [],
   "source": [
    ";; connect MCU\n",
    "(define mcu-board\n",
    "  (make-circuit \n",
    "   #:layout (inset (cb-superimpose mcu-module) 50 0)\n",
    "   #:connect mcu-module))"
   ]
  },
  {
   "cell_type": "code",
   "execution_count": null,
   "metadata": {},
   "outputs": [],
   "source": [
    "(parameterize ([current-directory \"./out/demo-board/mcu-board\"]\n",
    "               [padding-general 2])\n",
    "    (circuit-export mcu-board\n",
    "                    #:auto-place #t\n",
    "                    #:formats '(kicad pdf bom png)))"
   ]
  },
  {
   "cell_type": "markdown",
   "metadata": {},
   "source": [
    "# Integrate MCU and Key matrix"
   ]
  },
  {
   "cell_type": "code",
   "execution_count": null,
   "metadata": {},
   "outputs": [],
   "source": [
    "(define keyboard (make-circuit\n",
    " #:connect (*= (mcu-module row [0 3])\n",
    "               (matrix-module row [0 3]))\n",
    " #:connect (*= (mcu-module col [0 4])\n",
    "               (matrix-module col [0 4]))\n",
    " #:layout (vc-append mcu-module matrix-module)\n",
    "                  ))"
   ]
  },
  {
   "cell_type": "code",
   "execution_count": null,
   "metadata": {},
   "outputs": [],
   "source": [
    "(parameterize ([current-directory \"./out/demo-board/keyboard\"]\n",
    "                 [padding-general 2])\n",
    "                (circuit-export keyboard \n",
    "                                #:auto-place #t\n",
    "                                #:formats '(kicad pdf png bom)))"
   ]
  }
 ],
 "metadata": {
  "kernelspec": {
   "display_name": "Racket",
   "language": "racket",
   "name": "racket"
  },
  "language_info": {
   "codemirror_mode": "scheme",
   "file_extension": ".rkt",
   "mimetype": "text/x-racket",
   "name": "Racket",
   "pygments_lexer": "racket",
   "version": "7.7"
  }
 },
 "nbformat": 4,
 "nbformat_minor": 4
}
