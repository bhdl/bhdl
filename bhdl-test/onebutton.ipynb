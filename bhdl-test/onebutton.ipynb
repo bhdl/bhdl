{
 "cells": [
  {
   "cell_type": "code",
   "execution_count": null,
   "metadata": {},
   "outputs": [],
   "source": [
    "(version)"
   ]
  },
  {
   "cell_type": "code",
   "execution_count": null,
   "metadata": {},
   "outputs": [],
   "source": [
    "#lang iracket/lang #:require bhdl/splicing #:reader bhdl/splicing"
   ]
  },
  {
   "cell_type": "code",
   "execution_count": null,
   "metadata": {},
   "outputs": [],
   "source": [
    "(list (list 1 2 3) ..)"
   ]
  },
  {
   "cell_type": "code",
   "execution_count": null,
   "metadata": {},
   "outputs": [],
   "source": [
    "(putenv \"BHDL_LIBRARY_PATH\" \"~/bhdl/bhdl-footprints\")\n",
    "(getenv \"BHDL_LIBRARY_PATH\")"
   ]
  },
  {
   "cell_type": "code",
   "execution_count": null,
   "metadata": {},
   "outputs": [],
   "source": [
    "(require racket/list\n",
    "         racket/format\n",
    "         (prefix-in pict: pict))"
   ]
  },
  {
   "cell_type": "code",
   "execution_count": null,
   "metadata": {},
   "outputs": [],
   "source": [
    "(require bhdl)"
   ]
  },
  {
   "cell_type": "code",
   "execution_count": null,
   "metadata": {},
   "outputs": [],
   "source": [
    ";; FIXME use global?\n",
    "(define global\n",
    "  (make-circuit\n",
    "   #:external-pins (GND 3V3 5V VCC USB5V)))"
   ]
  },
  {
   "cell_type": "code",
   "execution_count": null,
   "metadata": {},
   "outputs": [],
   "source": []
  },
  {
   "cell_type": "markdown",
   "metadata": {},
   "source": [
    "# simple RC circuit"
   ]
  },
  {
   "cell_type": "code",
   "execution_count": null,
   "metadata": {},
   "outputs": [],
   "source": [
    "(define (RC-fixed)\n",
    "         (make-circuit\n",
    "              #:external-pins (In Out GND)\n",
    "              #:vars ([R1 (R '1k)]\n",
    "                      [C1 (C '1p)])\n",
    "          #:connect (list (*- self.In R1.1)\n",
    "                          (*- R1.2 C1.1 self.Out)\n",
    "                          (*- C1.2 self.Out))\n",
    "          #:layout (inset (vc-append R1 C1) 20)))"
   ]
  },
  {
   "cell_type": "code",
   "execution_count": null,
   "metadata": {},
   "outputs": [],
   "source": [
    "(show-layout (RC-fixed))"
   ]
  },
  {
   "cell_type": "code",
   "execution_count": null,
   "metadata": {},
   "outputs": [],
   "source": [
    "(circuit-plot (RC-fixed))"
   ]
  },
  {
   "cell_type": "markdown",
   "metadata": {},
   "source": [
    "# A delayed push trigger"
   ]
  },
  {
   "cell_type": "code",
   "execution_count": null,
   "metadata": {},
   "outputs": [],
   "source": [
    ";; some component libraries\n",
    "(define/IC (MOSFET)\n",
    "           #:FP ((lcsc->fp \"C727149\") 1 2 3))"
   ]
  },
  {
   "cell_type": "code",
   "execution_count": null,
   "metadata": {},
   "outputs": [],
   "source": [
    "(define/IC (SW_Push)\n",
    "           #:FP ((kicad->fp \"Button_Switch_THT.pretty/\"\n",
    "                                 \"SW_PUSH_6mm.kicad_mod\")\n",
    "                 1 1 2 2)\n",
    "           #:LEFT 1\n",
    "           #:RIGHT 2)"
   ]
  },
  {
   "cell_type": "code",
   "execution_count": null,
   "metadata": {},
   "outputs": [],
   "source": [
    "(define (delay-push-fixed [btn #f])\n",
    "  (make-circuit\n",
    "      #:external-pins (VCC GND Ctrl)\n",
    "      #:vars ((RC1 (RC-fixed))\n",
    "              [D1 (Diode '1N4148)]\n",
    "              [R4 (R '1k)]\n",
    "              [SW1 (if btn btn (SW_Push))]\n",
    "              [Q1 (MOSFET '2N7002)]\n",
    "              [R2 (R '10k)]\n",
    "              [D2 (LED)])\n",
    "      #:connect (list (*- RC1.Out D1.anode Q1.1)\n",
    "                      (*- RC1.GND Q1.2)\n",
    "                      (*- Q1.3 self.Ctrl))\n",
    "   #:connect (list (*- self.VCC SW1 D1.cathode RC1.In self.GND)\n",
    "                   (*- self.VCC D2 self.Ctrl))\n",
    "   ;; TODO implement a default layout\n",
    ";;    #:layout (pict:rectangle 200 200)\n",
    "   #:layout (inset SW1 50)\n",
    "   ))"
   ]
  },
  {
   "cell_type": "code",
   "execution_count": null,
   "metadata": {},
   "outputs": [],
   "source": [
    ";; FIXME this does not seem to be deterministic\n",
    ";; TODO implement copy-on-assign semantic, like pict?\n",
    "(parameterize ([current-directory \"./out/onebutton/delay-push-fixed\"]\n",
    "               [padding-general 2])\n",
    "    (circuit-export (delay-push-fixed)\n",
    "                    #:auto-place #t\n",
    "                    #:formats '(kicad pdf png)))"
   ]
  },
  {
   "cell_type": "markdown",
   "metadata": {},
   "source": [
    "# connect ESP-01 module"
   ]
  },
  {
   "cell_type": "code",
   "execution_count": null,
   "metadata": {},
   "outputs": [],
   "source": [
    "(define/IC (ESP01)\n",
    "           #:FP ((lcsc->fp \"C503581\") \n",
    "                 GND GPIO2 GPIO0 URXD\n",
    "                 UTXD CH_PD RST VCC))"
   ]
  },
  {
   "cell_type": "code",
   "execution_count": null,
   "metadata": {},
   "outputs": [],
   "source": [
    "(define/IC (OneBattery)\n",
    "           ;; FIXME using pinheader for battery holder?\n",
    "           #:FP ((kicad->fp \"kicad-footprints\" \n",
    "                           \"Connector_PinHeader_2.54mm.pretty\"\n",
    "                           \"PinHeader_1x02_P2.54mm_Horizontal.kicad_mod\")\n",
    "                 pos neg))"
   ]
  },
  {
   "cell_type": "code",
   "execution_count": null,
   "metadata": {},
   "outputs": [],
   "source": [
    "(atom->fp-pict (OneBattery))"
   ]
  },
  {
   "cell_type": "code",
   "execution_count": null,
   "metadata": {},
   "outputs": [],
   "source": [
    "(define one-button\n",
    "  (make-circuit \n",
    "   #:vars ([btn (SW_Push)]\n",
    "           [delay_sw1 (delay-push-fixed btn)]\n",
    "           [R5 (R '10k)]\n",
    "           [R6 (R '10k)]\n",
    "           [BT1 (OneBattery '3V)]\n",
    "           [U1 (ESP01)])\n",
    "   #:connect (list \n",
    "              ;; FIXME this is not really parallel connection, but split connection\n",
    ";;               (*= [BT1.pos -  U1.VCC]\n",
    ";;                        [BT1.pos R5 U1.RST]\n",
    ";;                        [BT1.pos R6 U1.CH_PD]\n",
    ";;                        [BT1.pos -  delay_sw1.VCC])\n",
    "              (*- BT1.pos (*< (*- R5 U1.RST)\n",
    "                              (*- R6 U1.CH_PD)\n",
    "                              U1.VCC\n",
    "                              delay_sw1.VCC))\n",
    "                   (*- BT1.neg U1.GND delay_sw1.GND)\n",
    "                   (*- U1.RST delay_sw1.Ctrl))\n",
    "   ;; TODO layout\n",
    ";;    #:layout (pict:rectangle 300 300)\n",
    "   #:layout (inset (hc-append 200 btn U1)\n",
    "                   0 20 0 20)))"
   ]
  },
  {
   "cell_type": "code",
   "execution_count": null,
   "metadata": {},
   "outputs": [],
   "source": [
    "(show-layout one-button)"
   ]
  },
  {
   "cell_type": "code",
   "execution_count": null,
   "metadata": {},
   "outputs": [],
   "source": [
    ";; FIXME this does not seem to be deterministic\n",
    ";; TODO implement copy-on-assign semantic, like pict?\n",
    "(parameterize ([current-directory \"./out/onebutton/one\"]\n",
    "               [padding-general 1])\n",
    "    (circuit-export one-button\n",
    "                    #:auto-place #t\n",
    "                    #:formats '(kicad pdf png)))"
   ]
  },
  {
   "cell_type": "markdown",
   "metadata": {},
   "source": [
    "# More delay pushbuttons"
   ]
  },
  {
   "cell_type": "code",
   "execution_count": null,
   "metadata": {},
   "outputs": [],
   "source": [
    "(define three-button\n",
    "  (make-circuit \n",
    "   #:vars ([buttons (for/list ([row (in-range 3)])\n",
    "                              (SW_Push))]\n",
    "           [button-row (for/list ([btn buttons])\n",
    "                                 (delay-push-fixed btn))]\n",
    ";;            [button-row (for/list ([row (in-range 3)])\n",
    ";;                                 (delay-push-fixed))]\n",
    "           ;; TODO use thr-hole footprint for resistors\n",
    "           [R5 (R '10k)]\n",
    "           [R6 (R '10k)]\n",
    "           [BT1 (OneBattery '3V)]\n",
    "           [U1 (ESP01)])\n",
    "   #:connect (list \n",
    "              (*- BT1.pos (*< (*- R5 U1.RST)\n",
    "                              (*- R6 U1.CH_PD)\n",
    "                              U1.VCC))\n",
    "              ;; FIXME\n",
    "              (for/list ([row (in-range 3)])\n",
    "                        (*- BT1.pos (pin-ref (list-ref button-row row) 'VCC)))\n",
    "              ;; neg to GNDs\n",
    "               (for/list ([btn button-row])\n",
    "                         (*- BT1.neg U1.GND btn.GND))\n",
    "              ;; connect GPIOs\n",
    "              (for/list ([btn button-row])\n",
    "                        (*- U1.RST btn.Ctrl))\n",
    "               )\n",
    "   #:layout (inset (hc-append 300 (vc-append buttons ..) U1)\n",
    "                   0)))"
   ]
  },
  {
   "cell_type": "code",
   "execution_count": null,
   "metadata": {},
   "outputs": [],
   "source": [
    "(pict:frame (show-layout three-button))"
   ]
  },
  {
   "cell_type": "code",
   "execution_count": null,
   "metadata": {},
   "outputs": [],
   "source": [
    ";; FIXME this does not seem to be deterministic\n",
    ";; TODO implement copy-on-assign semantic, like pict?\n",
    "(parameterize ([current-directory \"./out/onebutton/three\"]\n",
    "               [padding-general 1])\n",
    "    (circuit-export three-button\n",
    "                    #:auto-place #t\n",
    "                    #:formats '(kicad pdf png)))"
   ]
  },
  {
   "cell_type": "code",
   "execution_count": null,
   "metadata": {},
   "outputs": [],
   "source": []
  },
  {
   "cell_type": "markdown",
   "metadata": {},
   "source": [
    "# Calculating RC values"
   ]
  },
  {
   "cell_type": "code",
   "execution_count": null,
   "metadata": {},
   "outputs": [],
   "source": [
    "(define (get-C tau R)\n",
    "  (/ tau R))"
   ]
  },
  {
   "cell_type": "code",
   "execution_count": null,
   "metadata": {},
   "outputs": [],
   "source": [
    "(define (RC-flexible tau)\n",
    "  (make-circuit\n",
    "   #:external-pins (In Out GND)\n",
    "   #:vars ([R1 (R 1000)]\n",
    "           [C1 (C (get-C tau 1000))])\n",
    "   #:connect (list (*- self.In R1.1)\n",
    "                   (*- R1.2 C1.1 self.Out)\n",
    "                   (*- C1.2 self.Out))\n",
    "   #:layout (inset (vc-append R1 C1) 20)))"
   ]
  },
  {
   "cell_type": "code",
   "execution_count": null,
   "metadata": {},
   "outputs": [],
   "source": [
    "(RC-flexible 1)"
   ]
  },
  {
   "cell_type": "code",
   "execution_count": null,
   "metadata": {},
   "outputs": [],
   "source": [
    ";; FIXME this does not seem to be deterministic\n",
    ";; TODO implement copy-on-assign semantic, like pict?\n",
    "(parameterize ([current-directory \"./out/onebutton/flex\"]\n",
    "               [padding-general 2])\n",
    "    (circuit-export (RC-flexible 1)\n",
    "                    #:auto-place #f\n",
    "                    #:formats '(kicad pdf png bom)))"
   ]
  },
  {
   "cell_type": "code",
   "execution_count": null,
   "metadata": {},
   "outputs": [],
   "source": [
    ";; read the CSV file\n",
    "(call-with-input-file \"out/onebutton/flex/BOM.csv\"\n",
    "                      (lambda (in)\n",
    "                        (displayln (port->string in))))"
   ]
  }
 ],
 "metadata": {
  "kernelspec": {
   "display_name": "Racket",
   "language": "racket",
   "name": "racket"
  },
  "language_info": {
   "codemirror_mode": "scheme",
   "file_extension": ".rkt",
   "mimetype": "text/x-racket",
   "name": "Racket",
   "pygments_lexer": "racket",
   "version": "7.7"
  }
 },
 "nbformat": 4,
 "nbformat_minor": 4
}
