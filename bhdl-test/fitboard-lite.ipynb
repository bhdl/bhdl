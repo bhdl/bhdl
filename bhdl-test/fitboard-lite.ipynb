{
 "cells": [
  {
   "cell_type": "code",
   "execution_count": null,
   "metadata": {},
   "outputs": [],
   "source": [
    "(version)"
   ]
  },
  {
   "cell_type": "code",
   "execution_count": null,
   "metadata": {},
   "outputs": [],
   "source": [
    "#lang iracket/lang #:require bhdl/splicing #:reader bhdl/splicing"
   ]
  },
  {
   "cell_type": "code",
   "execution_count": null,
   "metadata": {},
   "outputs": [],
   "source": [
    "(list (list 1 2 3) ..)"
   ]
  },
  {
   "cell_type": "code",
   "execution_count": null,
   "metadata": {},
   "outputs": [],
   "source": [
    "(putenv \"BHDL_LIBRARY_PATH\" \"~/bhdl/bhdl-footprints\")\n",
    "(getenv \"BHDL_LIBRARY_PATH\")"
   ]
  },
  {
   "cell_type": "code",
   "execution_count": null,
   "metadata": {},
   "outputs": [],
   "source": [
    "(require racket/list\n",
    "         racket/format\n",
    "         (prefix-in pict: pict))"
   ]
  },
  {
   "cell_type": "code",
   "execution_count": null,
   "metadata": {},
   "outputs": [],
   "source": [
    "(require bhdl)"
   ]
  },
  {
   "cell_type": "code",
   "execution_count": null,
   "metadata": {},
   "outputs": [],
   "source": [
    "(require \"fitboard-lib.rkt\")"
   ]
  },
  {
   "cell_type": "code",
   "execution_count": null,
   "metadata": {},
   "outputs": [],
   "source": [
    "(define global\n",
    "  (make-circuit\n",
    "   #:external-pins (GND 3V3 5V VCC USB5V)))"
   ]
  },
  {
   "cell_type": "markdown",
   "metadata": {},
   "source": [
    "# The keyboard matrix"
   ]
  },
  {
   "cell_type": "code",
   "execution_count": null,
   "metadata": {},
   "outputs": [],
   "source": [
    "(define-key-matrix matrix\n",
    "  ([(esc 1.5)    1 2 3 4    5       -         -        6 7 8  9  0   (backspace 1.5)]\n",
    "   [(tab 1.5)    Q  W  E  R     T        -         -        Y  U  I   O   P    (\\\\ 1.5)]\n",
    "   [(caps 1.5)   A  S  D  F     G        (lmid1 1.5) (rmid1 1.5)        H  J  K   L   \\;  (enter 1.5)]\n",
    "   [(lshift 1.5) Z  X  C  V     B        (lmid2 1.5) (rmid2 1.5)        N  M  \\, \\. \\/  (rshift 1.5)]\n",
    "   [lctrl lfn lsuper lalt lTBD (lspace 2.75) - - (rspace 2.75) rTBD ralt rsuper rfn rctrl]))"
   ]
  },
  {
   "cell_type": "code",
   "execution_count": null,
   "metadata": {},
   "outputs": [],
   "source": [
    "kQ"
   ]
  },
  {
   "cell_type": "code",
   "execution_count": null,
   "metadata": {},
   "outputs": [],
   "source": [
    "(show-layout kQ)"
   ]
  },
  {
   "cell_type": "code",
   "execution_count": null,
   "metadata": {},
   "outputs": [],
   "source": [
    ";; FIXME the size is bigger. This might create problems\n",
    "(show-layout klspace)"
   ]
  },
  {
   "cell_type": "code",
   "execution_count": null,
   "metadata": {},
   "outputs": [],
   "source": [
    "(define matrix-module\n",
    "  (make-circuit\n",
    "   ;; FIXME these should be row[5] col[14], or get from matrix\n",
    "   #:external-pins (row1 row2 row3 row4 row5\n",
    "                         col1 col2 col3 col4 col5 col6 col7\n",
    "                         col8 col9 col10 col11 col12 col13 col14)\n",
    "   #:layout (make-fitboard-layout matrix)\n",
    "   ;; connections\n",
    "   #:connect (for/list ([x (range 5)])\n",
    "               (filter-not\n",
    "                void?\n",
    "                (for/list ([y (range 14)])\n",
    "                  (let ([key (keyboard-xy matrix x y)]\n",
    "                        ;; FIXME this is ugly\n",
    "                        [xname (string->symbol (~a \"row\" (add1 x)))]\n",
    "                        [yname (string->symbol (~a \"col\" (add1 y)))])\n",
    "                    (when key\n",
    "                      (*-\n",
    "                       (pin-ref self yname)\n",
    "                       key\n",
    "                       (pin-ref self xname)\n",
    "                       ))))))))"
   ]
  },
  {
   "cell_type": "code",
   "execution_count": null,
   "metadata": {},
   "outputs": [],
   "source": [
    "(show-layout matrix-module)"
   ]
  },
  {
   "cell_type": "markdown",
   "metadata": {},
   "source": [
    "# MCU module"
   ]
  },
  {
   "cell_type": "code",
   "execution_count": null,
   "metadata": {},
   "outputs": [],
   "source": [
    ";; FIXME I actually should not combine two atoms into one, because \n",
    "(define (icsp-header)\n",
    "   (make-circuit #:vars ([h (PinHeader2 3)]\n",
    "                         )\n",
    "                   #:external-pins (MOSI SCK MISO RESET VCC GND)\n",
    "                   #:connect (*= (self (MOSI SCK RESET))\n",
    "                                 (h [1 2 3 4 5 6]))\n",
    "                   #:layout h))"
   ]
  },
  {
   "cell_type": "code",
   "execution_count": null,
   "metadata": {},
   "outputs": [],
   "source": [
    "(show-layout (icsp-header))"
   ]
  },
  {
   "cell_type": "code",
   "execution_count": null,
   "metadata": {},
   "outputs": [],
   "source": [
    ";; Now using the Atmega32u4 from the arduino board\n",
    "(define mcu-module \n",
    "  (make-circuit \n",
    " #:vars ([mcu (ATmega32U4)]\n",
    "         [usb (USB-C-16)]\n",
    "         [icsp (icsp-header)])\n",
    " #:external-pins (\n",
    "               ;; TODO how to abstract over pin names\n",
    "               row1 row2 row3 row4 row5\n",
    "               col1 col2 col3 col4 col5 col6 col7\n",
    "               col8 col9 col10 col11 col12 col13 col14)\n",
    " #:layout (vc-append 50 (rotate usb pi) mcu icsp)\n",
    " ;; define what are the row and col scan pins\n",
    " #:connect (*= (self [row1 row2 row3 row4 row5])\n",
    "                 (mcu [PB0 PB4 PB5 PB6 PB7]))\n",
    " #:connect (*= (self [col1 col2 col3 col4 col5 col6 col7\n",
    "                             col8 col9 col10 col11 col12 col13 col14])\n",
    "                 (mcu [PD0 PD1 PD2 PD3 PD4 PD5 PD6 PD7 PF0 PF1 PF4 PF5 PF6 PF7]))\n",
    "   ;; use a Pin for blinking LED\n",
    "   #:connect (*- mcu.PC6 (R '1k) (LED0603 'red) global.GND)\n",
    "                    \n",
    " ;; connect the ICSP header\n",
    " #:connect (*= (mcu (MOSI SCLK MISO RESET VCC GND))\n",
    "               (icsp (MOSI SCK MISO RESET VCC GND)))\n",
    " #:connect\n",
    " (list (*- mcu.VCC mcu.UVCC mcu.AVCC global.VCC)\n",
    "         (*- mcu.GND mcu.UGND global.GND)\n",
    "         ;; reset circuit and switch\n",
    "         (*- mcu.RESET (*< (Diode)\n",
    "                           (R '10k)) global.5V)\n",
    "         (*- mcu.RESET (Switch) global.GND)\n",
    "       ;; capacitors\n",
    "       (*- mcu.UCAP (C '1uf) global.GND)\n",
    "       (*- global.VCC (*< (C '1uf)\n",
    "                          (C '100nf)\n",
    "                          (C '100nf)\n",
    "                          (C '100nf)\n",
    "                          (C '100nf))\n",
    "           global.GND)\n",
    "         ;; crystal\n",
    "         (*- mcu.XTAL1 (Crystal-2 '16Mhz) mcu.XTAL2)\n",
    "         (*- mcu.XTAL1 (C '22pf) global.GND)\n",
    "         (*- mcu.XTAL2 (C '22pf) global.GND)\n",
    "       ;; USB\n",
    "       (*- mcu.D+ (R 22) usb.D+1)\n",
    "       (*- mcu.D- (R 22) usb.D-1)\n",
    "       ;; just use USB for supplying power\n",
    "       (*- mcu.VBUS usb.VBUS global.VCC)\n",
    "       (*- mcu.UGND usb.GND global.GND)\n",
    "       )))"
   ]
  },
  {
   "cell_type": "code",
   "execution_count": null,
   "metadata": {},
   "outputs": [],
   "source": [
    "(show-layout mcu-module)"
   ]
  },
  {
   "cell_type": "markdown",
   "metadata": {},
   "source": [
    "# Integrate into One board"
   ]
  },
  {
   "cell_type": "code",
   "execution_count": null,
   "metadata": {},
   "outputs": [],
   "source": [
    ";; connect MCU with matrix\n",
    "(define fitboard\n",
    "  (make-circuit\n",
    "   ;; CAUTION just to declare the pict\n",
    "   #:layout (ct-superimpose matrix-module mcu-module)\n",
    "   #:connect (list matrix-module mcu-module\n",
    "                   ;; connect matrix module with gd32 module\n",
    "                   ;; TODO *= connects corresponding pins with same name by default\n",
    "                   (*= (matrix-module [row1 row2 row3 row4 row5])\n",
    "                       (mcu-module [row1 row2 row3 row4 row5]))\n",
    "                   (*= (matrix-module [col1 col2 col3 col4 col5 col6 col7\n",
    "                                            col8 col9 col10 col11 col12 col13 col14])\n",
    "                       (mcu-module [col1 col2 col3 col4 col5 col6 col7\n",
    "                                          col8 col9 col10 col11 col12 col13 col14]))\n",
    "                   )))\n"
   ]
  },
  {
   "cell_type": "code",
   "execution_count": null,
   "metadata": {},
   "outputs": [],
   "source": [
    "(show-layout fitboard)"
   ]
  },
  {
   "cell_type": "code",
   "execution_count": null,
   "metadata": {},
   "outputs": [],
   "source": [
    "(parameterize ([current-directory \"./out/unplaced\"])\n",
    "    (circuit-export fitboard\n",
    "                    #:auto-place #f\n",
    "                    #:formats '(kicad pdf dsn)))"
   ]
  },
  {
   "cell_type": "code",
   "execution_count": null,
   "metadata": {},
   "outputs": [],
   "source": [
    "#;\n",
    "(parameterize ([current-directory \"./out-placed\"])\n",
    "    (circuit-export fitboard\n",
    "                    #:auto-place #t\n",
    "                    #:formats '(kicad pdf dsn)))"
   ]
  },
  {
   "cell_type": "code",
   "execution_count": null,
   "metadata": {},
   "outputs": [],
   "source": [
    ";; This is slow. Disabling\n",
    "#;\n",
    "(parameterize ([current-directory \"./out/placed-5\"]\n",
    "               ;; add more padding\n",
    "               [padding-general 5])\n",
    "    (circuit-export fitboard\n",
    "                    #:auto-place #t\n",
    "                    #:formats '(kicad pdf dsn)))"
   ]
  },
  {
   "cell_type": "markdown",
   "metadata": {},
   "source": [
    "# Modularized Design\n",
    "\n",
    "Separate boards using Link!\n",
    "\n",
    "This is fantastic. I want even further:\n",
    "- save the placement results internally\n",
    "- Use the placed module\n",
    "- route the module and store the routing result\n",
    "\n",
    "Now probably something easier:\n",
    "- just mirror the output header\n",
    "- put the same headers in the outer board\n",
    "\n",
    "I can have more benefit doing this:\n",
    "- the left and right half can be independently manufactured!"
   ]
  },
  {
   "cell_type": "code",
   "execution_count": null,
   "metadata": {},
   "outputs": [],
   "source": [
    ";; actually I want to define the connector module\n",
    "(define the-link\n",
    "  (make-circuit\n",
    "   #:external-pins (row1 row2 row3 row4 row5\n",
    "                          col1 col2 col3 col4 col5 col6 col7\n",
    "                          col8 col9 col10 col11 col12 col13 col14)\n",
    "   #:layout (hb-append 50\n",
    "                       col-left \n",
    "                       (rotate row1 (/ pi 2))\n",
    "                       (rotate row2 (/ pi 2))\n",
    "                       col-right)\n",
    "   #:vars ([row1 (PinHeader 5)]\n",
    "           [row2 (PinHeader 5)]\n",
    "           [col-left (PinHeader 7)]\n",
    "           [col-right (PinHeader 7)])\n",
    "   #:connect (list (*= (self [row1 row2 row3 row4 row5])\n",
    "                       (row1 [1 2 3 4 5])\n",
    "                       (row2 [1 2 3 4 5]))\n",
    "                   (*= (self [col1 col2 col3 col4 col5 col6 col7\n",
    "                                            ])\n",
    "                       (col-left [1 2 3 4 5 6 7]))\n",
    "                   (*= (self [col8 col9 col10 col11 col12 col13 col14])\n",
    "                       (col-right [1 2 3 4 5 6 7])))))"
   ]
  },
  {
   "cell_type": "code",
   "execution_count": null,
   "metadata": {},
   "outputs": [],
   "source": [
    "(show-layout the-link)"
   ]
  },
  {
   "cell_type": "code",
   "execution_count": null,
   "metadata": {},
   "outputs": [],
   "source": [
    ";; connect MCU\n",
    "(define mcu-board\n",
    "  (make-circuit \n",
    "   #:layout (cb-superimpose mcu-module the-link)\n",
    "   #:connect (*= (the-link [row1 row2 row3 row4 row5\n",
    "                          col1 col2 col3 col4 col5 col6 col7\n",
    "                          col8 col9 col10 col11 col12 col13 col14])\n",
    "                 (mcu-module [row1 row2 row3 row4 row5\n",
    "                          col1 col2 col3 col4 col5 col6 col7\n",
    "                          col8 col9 col10 col11 col12 col13 col14]))))"
   ]
  },
  {
   "cell_type": "code",
   "execution_count": null,
   "metadata": {},
   "outputs": [],
   "source": [
    "(show-layout mcu-board)"
   ]
  },
  {
   "cell_type": "code",
   "execution_count": null,
   "metadata": {},
   "outputs": [],
   "source": [
    "(parameterize ([current-directory \"./out/mcu-board\"]\n",
    "               [padding-general 2])\n",
    "    (circuit-export mcu-board\n",
    "                    #:auto-place #t\n",
    "                    #:formats '(kicad pdf dsn)))"
   ]
  },
  {
   "cell_type": "code",
   "execution_count": null,
   "metadata": {},
   "outputs": [],
   "source": [
    "(mounting-hole 3)"
   ]
  },
  {
   "cell_type": "code",
   "execution_count": null,
   "metadata": {},
   "outputs": [],
   "source": [
    "(show-layout (mounting-hole 3))"
   ]
  },
  {
   "cell_type": "code",
   "execution_count": null,
   "metadata": {},
   "outputs": [],
   "source": [
    ";; The matrix\n",
    "(define matrix-board\n",
    "  (make-circuit\n",
    "   #:external-pins (dummy1 dummy2 dummy3 dummy4)\n",
    "   #:layout (cc-superimpose matrix-module\n",
    "                            ;; FIXME simplify the layout\n",
    "                             (vc-append the-link (pict:ghost (pict:rectangle 1 550)))\n",
    "                             (vc-append (hc-append 1200 hole1 hole2)\n",
    "                                        (pict:ghost (pict:rectangle 1 600)))\n",
    "                             (vc-append (pict:ghost (pict:rectangle 1 500))\n",
    "                                        (hc-append 1000 hole3 hole4)))\n",
    "   #:vars ([hole1 (mounting-hole 3)]\n",
    "           [hole2 (mounting-hole 3)]\n",
    "           [hole3 (mounting-hole 3)]\n",
    "           [hole4 (mounting-hole 3)])\n",
    "   #:connect (list (*= (self [dummy1 dummy2 dummy3 dummy4])\n",
    "                       ([hole1.1 hole2.1 hole3.1 hole4.1]))\n",
    "                   (*= (matrix-module [row1 row2 row3 row4 row5])\n",
    "                       (the-link [row1 row2 row3 row4 row5]))\n",
    "                   (*= (matrix-module [col1 col2 col3 col4 col5 col6 col7\n",
    "                                            col8 col9 col10 col11 col12 col13 col14])\n",
    "                       (the-link [col1 col2 col3 col4 col5 col6 col7\n",
    "                                          col8 col9 col10 col11 col12 col13 col14])))))"
   ]
  },
  {
   "cell_type": "code",
   "execution_count": null,
   "metadata": {},
   "outputs": [],
   "source": [
    "(show-layout matrix-board)"
   ]
  },
  {
   "cell_type": "code",
   "execution_count": null,
   "metadata": {},
   "outputs": [],
   "source": [
    "(mounting-hole 3)"
   ]
  },
  {
   "cell_type": "code",
   "execution_count": null,
   "metadata": {},
   "outputs": [],
   "source": [
    "(parameterize ([current-directory \"./out/matrix-board\"]\n",
    "               [padding-general 2])\n",
    "    (circuit-export matrix-board\n",
    "                    #:auto-place #t\n",
    "                    #:formats '(kicad pdf dsn)))"
   ]
  },
  {
   "cell_type": "markdown",
   "metadata": {},
   "source": [
    "# Other Notes"
   ]
  },
  {
   "cell_type": "markdown",
   "metadata": {},
   "source": [
    "## Debug the deterministic"
   ]
  },
  {
   "cell_type": "code",
   "execution_count": null,
   "metadata": {},
   "outputs": [],
   "source": [
    "(define (kailh-socket? x)\n",
    "  (string=? \"kailh-socket\" (IC-name (ICAtom-ic x))))"
   ]
  },
  {
   "cell_type": "code",
   "execution_count": null,
   "metadata": {},
   "outputs": [],
   "source": [
    "(define (kX->X k)\n",
    "  (findf kailh-socket?\n",
    "          (collect-all-atoms k)))"
   ]
  },
  {
   "cell_type": "code",
   "execution_count": null,
   "metadata": {},
   "outputs": [],
   "source": [
    ";; this is deterministic\n",
    "(define Hatom=>index (for/hash ([atom (collect-all-atoms fitboard)]\n",
    "                                [i (in-naturals 1)])\n",
    "          (values atom i)))"
   ]
  },
  {
   "cell_type": "code",
   "execution_count": null,
   "metadata": {},
   "outputs": [],
   "source": [
    ";; Expect 28\n",
    "(hash-ref Hatom=>index (kX->X kQ))"
   ]
  },
  {
   "cell_type": "code",
   "execution_count": null,
   "metadata": {},
   "outputs": [],
   "source": [
    ";; Expect 94\n",
    "(hash-ref Hatom=>index (kX->X kN))"
   ]
  },
  {
   "cell_type": "code",
   "execution_count": null,
   "metadata": {},
   "outputs": [],
   "source": [
    ";; this is different!\n",
    ";; UPDATE ... not very stable\n",
    "(define Hatom=>index2 (for/hash ([atom (collect-all-atoms-random fitboard)]\n",
    "           [i (in-naturals 1)])\n",
    "          (values atom i)))"
   ]
  },
  {
   "cell_type": "code",
   "execution_count": null,
   "metadata": {},
   "outputs": [],
   "source": [
    "(hash-ref Hatom=>index2 (kX->X kQ))"
   ]
  },
  {
   "cell_type": "code",
   "execution_count": null,
   "metadata": {},
   "outputs": [],
   "source": [
    "(hash-ref Hatom=>index2 (kX->X kN))"
   ]
  },
  {
   "cell_type": "markdown",
   "metadata": {},
   "source": [
    "# Generating the BOM\n",
    "\n",
    "- I should have an identifier of which version this board is, so that the deterministic order won't change. Probably associate with git version?"
   ]
  }
 ],
 "metadata": {
  "kernelspec": {
   "display_name": "Racket",
   "language": "racket",
   "name": "racket"
  },
  "language_info": {
   "codemirror_mode": "scheme",
   "file_extension": ".rkt",
   "mimetype": "text/x-racket",
   "name": "Racket",
   "pygments_lexer": "racket",
   "version": "7.7"
  },
  "toc-autonumbering": true
 },
 "nbformat": 4,
 "nbformat_minor": 4
}
