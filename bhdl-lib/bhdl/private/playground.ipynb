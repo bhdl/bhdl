{
 "cells": [
  {
   "cell_type": "markdown",
   "metadata": {},
   "source": [
    "# Playground"
   ]
  },
  {
   "cell_type": "markdown",
   "metadata": {},
   "source": [
    "Polygon (PL):\n",
    "\n",
    "```\n",
    "\"PL~610 130 780 130~#FF0000~5~0~none~gge6\"\n",
    "```\n",
    "\n",
    "- command: PL\n",
    "- points: 610 130 780 130\n",
    "- strokeColor: #FF0000\n",
    "- strokeWidth: 5 //pixel\n",
    "- strokeStyle: 0\n",
    "- fillColor: none\n",
    "- id: gge6\n",
    "- locked:null\n",
    "- Polyline’s attributes and image looks like bellow image:\n",
    "\n",
    "```\n",
    "PL~400 220 400 240 430 240~#000000~1~0~none~gge16~0\n",
    "PL~400 240 370 240~#000000~1~0~none~gge17~0\n",
    "PL~360 250 380 250~#000000~1~0~none~gge48~0\n",
    "PL~440 250 420 250~#000000~1~0~none~gge49~0\n",
    "```"
   ]
  },
  {
   "cell_type": "code",
   "execution_count": null,
   "metadata": {},
   "outputs": [],
   "source": [
    "(require racket/match\n",
    "         racket/string)\n",
    "(putenv \"BHDL_LIBRARY_PATH\" \"~/bhdl/bhdl-footprints\")\n",
    "(getenv \"BHDL_LIBRARY_PATH\")\n",
    "(require \"utils.rkt\"\n",
    "         \"fp-base.rkt\"\n",
    "         \"fp-easyeda.rkt\")"
   ]
  },
  {
   "cell_type": "code",
   "execution_count": null,
   "metadata": {},
   "outputs": [],
   "source": [
    "(append (list 1 2) (list 3 4))"
   ]
  },
  {
   "cell_type": "code",
   "execution_count": null,
   "metadata": {},
   "outputs": [],
   "source": [
    "(uuid->fp \"bd8c6c64dc7b4d18806bb8859f9f2606\")"
   ]
  },
  {
   "cell_type": "code",
   "execution_count": null,
   "metadata": {},
   "outputs": [],
   "source": [
    "(uuid->fp \"ee45c3af6f664b0cbf2307cc71d24263\")"
   ]
  },
  {
   "cell_type": "code",
   "execution_count": null,
   "metadata": {},
   "outputs": [],
   "source": [
    "(define (parse-polygon str)\n",
    "  (match-let* ([(list ANY points color stroke style other ...) (string-split str \"~\")]\n",
    "               [(list xy ...) (compose-pipe points \n",
    "                                            #:> string-split\n",
    "                                            #:.> string->number\n",
    "                                            #:.> 10mil->mm\n",
    "                                            #:> group-by-2)])\n",
    "              ;; return a list of line-spec\n",
    "              (for/list ([xy1 xy]\n",
    "                         ;; FIXME closed or not?\n",
    "                         [xy2 (cdr xy)])\n",
    "                        (match-let ([(list x1 y1) xy1]\n",
    "                                    [(list x2 y2) xy2])\n",
    "                          (line-spec x1 y1 x2 y2 (string->number stroke))))))"
   ]
  },
  {
   "cell_type": "code",
   "execution_count": null,
   "metadata": {},
   "outputs": [],
   "source": [
    "(parse-polygon \"PL~440 250 420 250~#000000~1~0~none~gge49~0\")"
   ]
  },
  {
   "cell_type": "code",
   "execution_count": null,
   "metadata": {},
   "outputs": [],
   "source": [
    "(parse-polygon \"PL~610 130 780 130~#FF0000~5~0~none~gge6\")"
   ]
  },
  {
   "cell_type": "code",
   "execution_count": null,
   "metadata": {},
   "outputs": [],
   "source": [
    "(list (parse-polygon \"PL~400 220 400 240 430 240~#000000~1~0~none~gge16~0\")\n",
    "    (parse-polygon \"PL~400 240 370 240~#000000~1~0~none~gge17~0\")\n",
    "    (parse-polygon \"PL~360 250 380 250~#000000~1~0~none~gge48~0\")\n",
    "    (parse-polygon \"PL~440 250 420 250~#000000~1~0~none~gge49~0\"))"
   ]
  },
  {
   "cell_type": "markdown",
   "metadata": {},
   "source": [
    "Pin (P):\n",
    "\n",
    "```\n",
    "\"P~show~0~1~670~30~~gge23^^670~30^^M 670 30 h -20~#880000^^1~648~33~0~1~end~~11pt^^1~655~29~0~1~start~~11pt^^0~653~30^^0~M 650 27 L 647 30 L 650 33\"\n",
    "```\n",
    "\n",
    "\n",
    "```\n",
    "P~show~0~1~460~250~~gge19~0^^460~250^^M 460 250 h -20~#880000^^1~438~253~0~1~end~~~#0000FF^^1~445~249~0~1~start~~~#0000FF^^0~443~250^^0~M 440 247 L 437 250 L 440 253\n",
    "\n",
    "P~show~0~2~340~250~180~gge26~0^^340~250^^M 340 250 h 20~#880000^^1~362~253~0~2~start~~~#0000FF^^1~355~249~0~2~end~~~#0000FF^^0~357~250^^0~M 360 253 L 363 250 L 360 247\n",
    "```"
   ]
  },
  {
   "cell_type": "markdown",
   "metadata": {},
   "source": [
    "## Layer of pads on EasyEDA footprints"
   ]
  },
  {
   "cell_type": "code",
   "execution_count": null,
   "metadata": {},
   "outputs": [],
   "source": [
    "(putenv \"BHDL_LIBRARY_PATH\" \"~/bhdl/bhdl-footprints\")\n",
    "(require \"fp-easyeda.rkt\"\n",
    "         \"fp-base.rkt\"\n",
    "         \"library-io.rkt\"\n",
    "         \"library-IC.rkt\")\n",
    "(require racket/pretty\n",
    "         racket/match)"
   ]
  },
  {
   "cell_type": "code",
   "execution_count": null,
   "metadata": {},
   "outputs": [],
   "source": [
    ";; let's look at the kailh socket first\n",
    "\n",
    "(define kailh-socket-fp (uuid->fp \"bd8c6c64dc7b4d18806bb8859f9f2606\"))"
   ]
  },
  {
   "cell_type": "code",
   "execution_count": null,
   "metadata": {
    "scrolled": true
   },
   "outputs": [],
   "source": [
    "kailh-socket-fp"
   ]
  },
  {
   "cell_type": "code",
   "execution_count": null,
   "metadata": {},
   "outputs": [],
   "source": []
  },
  {
   "cell_type": "code",
   "execution_count": null,
   "metadata": {
    "scrolled": true
   },
   "outputs": [],
   "source": [
    "(pretty-print (footprint-pads kailh-socket-fp))"
   ]
  },
  {
   "cell_type": "code",
   "execution_count": null,
   "metadata": {},
   "outputs": [],
   "source": [
    "(footprint->pict kailh-socket-fp)"
   ]
  },
  {
   "cell_type": "markdown",
   "metadata": {},
   "source": [
    "# (canceled) functional pict library with floating numbers and a visualization scale\n",
    "\n",
    "The functional pict library of racket only support integers. I would love to have a wrapper to accept floats. When visualized, it is given a scale.\n",
    "\n",
    "This is actually tricky, because I need to hack pict's internal data structure.\n",
    "\n",
    "I probably need to walk around it. I would have an \"append\" wrapper with scale."
   ]
  },
  {
   "cell_type": "markdown",
   "metadata": {},
   "source": [
    "# HACK create kailh socket of different units"
   ]
  },
  {
   "cell_type": "code",
   "execution_count": null,
   "metadata": {},
   "outputs": [],
   "source": [
    "(putenv \"BHDL_LIBRARY_PATH\" \"~/bhdl/bhdl-footprints\")\n",
    "(require \"fp-easyeda.rkt\"\n",
    "         \"fp-base.rkt\"\n",
    "         \"library-io.rkt\"\n",
    "         \"library-IC.rkt\"\n",
    "         \"utils.rkt\")\n",
    "(require racket/pretty\n",
    "         racket/match)"
   ]
  },
  {
   "cell_type": "code",
   "execution_count": null,
   "metadata": {},
   "outputs": [],
   "source": [
    "(footprint->pict (fp-kailh-socket))"
   ]
  },
  {
   "cell_type": "code",
   "execution_count": null,
   "metadata": {},
   "outputs": [],
   "source": [
    "(footprint->pict (fp-kailh-socket 2))"
   ]
  },
  {
   "cell_type": "code",
   "execution_count": null,
   "metadata": {},
   "outputs": [],
   "source": [
    "(footprint->pict (fp-kailh-socket 6.25))"
   ]
  },
  {
   "cell_type": "markdown",
   "metadata": {},
   "source": [
    "# test fp sexp export drill specs"
   ]
  },
  {
   "cell_type": "code",
   "execution_count": null,
   "metadata": {},
   "outputs": [],
   "source": [
    "(putenv \"BHDL_LIBRARY_PATH\" \"~/bhdl/bhdl-footprints\")\n",
    "(require bhdl)\n",
    "(require \"library-IC.rkt\"\n",
    "         \"fp-easyeda.rkt\")"
   ]
  },
  {
   "cell_type": "code",
   "execution_count": null,
   "metadata": {},
   "outputs": [],
   "source": [
    "kailh-socket"
   ]
  },
  {
   "cell_type": "code",
   "execution_count": null,
   "metadata": {},
   "outputs": [],
   "source": [
    "(fp-kailh-socket 1)"
   ]
  },
  {
   "cell_type": "code",
   "execution_count": null,
   "metadata": {},
   "outputs": [],
   "source": [
    "(ICAtom-ic (kailh-socket 1))"
   ]
  },
  {
   "cell_type": "code",
   "execution_count": null,
   "metadata": {
    "scrolled": true
   },
   "outputs": [],
   "source": [
    "(PinHeader 1)"
   ]
  },
  {
   "cell_type": "code",
   "execution_count": null,
   "metadata": {},
   "outputs": [],
   "source": [
    "(atom->fp-sexp (PinHeader 1) 0 0 0 \"ID\" (make-hash) (make-hash))"
   ]
  },
  {
   "cell_type": "code",
   "execution_count": null,
   "metadata": {},
   "outputs": [],
   "source": [
    "(atom->fp-sexp (kailh-socket 1) 0 0 0 \"ID\" (make-hash) (make-hash))"
   ]
  },
  {
   "cell_type": "code",
   "execution_count": null,
   "metadata": {},
   "outputs": [],
   "source": [
    "(atom->fp-sexp (USB-C-16 1) 0 0 0 \"ID\" (make-hash) (make-hash))"
   ]
  },
  {
   "cell_type": "markdown",
   "metadata": {},
   "source": [
    "# array of pins"
   ]
  },
  {
   "cell_type": "code",
   "execution_count": null,
   "metadata": {},
   "outputs": [],
   "source": [
    "#lang iracket/lang #:require bhdl/splicing #:reader bhdl/splicing"
   ]
  },
  {
   "cell_type": "code",
   "execution_count": null,
   "metadata": {},
   "outputs": [],
   "source": [
    "(putenv \"BHDL_LIBRARY_PATH\" \"~/bhdl/bhdl-footprints\")"
   ]
  },
  {
   "cell_type": "code",
   "execution_count": null,
   "metadata": {},
   "outputs": [],
   "source": [
    "(require bhdl)"
   ]
  },
  {
   "cell_type": "code",
   "execution_count": null,
   "metadata": {},
   "outputs": [],
   "source": [
    "(Composite-pinhash (create-simple-Composite a b c))"
   ]
  },
  {
   "cell_type": "code",
   "execution_count": null,
   "metadata": {},
   "outputs": [],
   "source": [
    "(Composite-pinhash (create-simple-Composite a b[4] c))"
   ]
  },
  {
   "cell_type": "code",
   "execution_count": null,
   "metadata": {},
   "outputs": [],
   "source": [
    "(define cirt\n",
    "  (make-circuit \n",
    "   #:external-pins (row[4] col[5])\n",
    "   ;; col in, row out\n",
    "   #:connect (for/list ([i (in-range 4)]\n",
    "                        [j (in-range 5)])\n",
    "                       (*- self.col[i] self.row[j]))))"
   ]
  },
  {
   "cell_type": "code",
   "execution_count": null,
   "metadata": {},
   "outputs": [],
   "source": [
    "cirt"
   ]
  },
  {
   "cell_type": "code",
   "execution_count": null,
   "metadata": {},
   "outputs": [],
   "source": [
    "(Composite-nets cirt)"
   ]
  },
  {
   "cell_type": "code",
   "execution_count": null,
   "metadata": {},
   "outputs": [],
   "source": [
    "(require (for-syntax syntax/parse\n",
    "                     racket/string\n",
    "                     racket/list\n",
    "                     racket/match\n",
    "                     racket/format)\n",
    "         syntax/parse/define)"
   ]
  },
  {
   "cell_type": "code",
   "execution_count": null,
   "metadata": {},
   "outputs": [],
   "source": [
    "(define-syntax (test-dot stx)\n",
    "               (syntax-parse stx\n",
    "                             [(_ node:dot)\n",
    "                              #`(list 'node.lhs 'node.rhs)]))"
   ]
  },
  {
   "cell_type": "code",
   "execution_count": null,
   "metadata": {},
   "outputs": [],
   "source": [
    "(test-dot a.1)"
   ]
  },
  {
   "cell_type": "code",
   "execution_count": null,
   "metadata": {},
   "outputs": [],
   "source": [
    "(test-dot a.1[j])"
   ]
  },
  {
   "cell_type": "code",
   "execution_count": null,
   "metadata": {},
   "outputs": [],
   "source": [
    "(define (parse-maybe-dot stx)\n",
    "   \"Return lhs rhs if there is a dot, else, return itself and (void)\"\n",
    "   (let ([s (symbol->string (syntax-e stx))])\n",
    "     (cond\n",
    "      [(string-contains? s \".\") (match-let ([(list l r) (string-split s \".\")])\n",
    "                                  (let ([l (string->symbol l)]\n",
    "                                        [r (or (string->number r) (string->symbol r))])\n",
    "                                    (datum->syntax\n",
    "                                     stx (list 'pin-ref l (list 'quote r)))))]\n",
    "      [else stx])))"
   ]
  },
  {
   "cell_type": "code",
   "execution_count": null,
   "metadata": {},
   "outputs": [],
   "source": [
    "(parse-maybe-dot #'a.b)"
   ]
  },
  {
   "cell_type": "code",
   "execution_count": null,
   "metadata": {},
   "outputs": [],
   "source": [
    "(parse-maybe-dot #'ab)"
   ]
  },
  {
   "cell_type": "code",
   "execution_count": null,
   "metadata": {},
   "outputs": [],
   "source": []
  }
 ],
 "metadata": {
  "kernelspec": {
   "display_name": "Racket",
   "language": "racket",
   "name": "racket"
  },
  "language_info": {
   "codemirror_mode": "scheme",
   "file_extension": ".rkt",
   "mimetype": "text/x-racket",
   "name": "Racket",
   "pygments_lexer": "racket",
   "version": "7.7"
  }
 },
 "nbformat": 4,
 "nbformat_minor": 4
}
