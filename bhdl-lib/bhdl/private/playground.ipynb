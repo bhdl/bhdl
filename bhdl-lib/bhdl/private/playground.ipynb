{
 "cells": [
  {
   "cell_type": "markdown",
   "metadata": {},
   "source": [
    "# Playground"
   ]
  },
  {
   "cell_type": "markdown",
   "metadata": {},
   "source": [
    "Polygon (PL):\n",
    "\n",
    "```\n",
    "\"PL~610 130 780 130~#FF0000~5~0~none~gge6\"\n",
    "```\n",
    "\n",
    "- command: PL\n",
    "- points: 610 130 780 130\n",
    "- strokeColor: #FF0000\n",
    "- strokeWidth: 5 //pixel\n",
    "- strokeStyle: 0\n",
    "- fillColor: none\n",
    "- id: gge6\n",
    "- locked:null\n",
    "- Polyline’s attributes and image looks like bellow image:\n",
    "\n",
    "```\n",
    "PL~400 220 400 240 430 240~#000000~1~0~none~gge16~0\n",
    "PL~400 240 370 240~#000000~1~0~none~gge17~0\n",
    "PL~360 250 380 250~#000000~1~0~none~gge48~0\n",
    "PL~440 250 420 250~#000000~1~0~none~gge49~0\n",
    "```"
   ]
  },
  {
   "cell_type": "code",
   "execution_count": 1,
   "metadata": {},
   "outputs": [],
   "source": [
    "(require racket/match\n",
    "         racket/string)\n",
    "(putenv \"BHDL_LIBRARY_PATH\" \"~/bhdl/bhdl-footprints\")\n",
    "(getenv \"BHDL_LIBRARY_PATH\")\n",
    "(require \"utils.rkt\"\n",
    "         \"fp-base.rkt\"\n",
    "         \"fp-easyeda.rkt\")"
   ]
  },
  {
   "cell_type": "code",
   "execution_count": 4,
   "metadata": {},
   "outputs": [
    {
     "data": {
      "text/html": [
       "<code>'(1 2 3 4)</code>"
      ],
      "text/plain": [
       "'(1 2 3 4)"
      ]
     },
     "execution_count": 4,
     "metadata": {},
     "output_type": "execute_result"
    }
   ],
   "source": [
    "(append (list 1 2) (list 3 4))"
   ]
  },
  {
   "cell_type": "code",
   "execution_count": 2,
   "metadata": {},
   "outputs": [
    {
     "name": "stdout",
     "output_type": "stream",
     "text": [
      "DEBUG:  unrecognized shape:  HOLE\n",
      "DEBUG:  unrecognized shape:  HOLE\n",
      "DEBUG:  unrecognized shape:  HOLE\n",
      "DEBUG:  unrecognized shape:  HOLE\n",
      "DEBUG:  unrecognized shape:  HOLE\n"
     ]
    },
    {
     "data": {
      "text/html": [
       "<code>'#s(footprint (#s(line-spec -6.999986000000007 -5.999988000000002 -6.999986000000007 -6.999985999999993 0.150114) #s(line-spec -6.999986000000007 -6.999985999999993 -5.999988000000002 -6.999985999999993 0.150114) #s(line-spec -5.999988000000002 6.999986000000007 -6.999986000000007 6.999986000000007 0.150114) #s(line-spec -6.999986000000007 6.999986000000007 -6.999986000000007 5.999988000000016 0.150114) #s(line-spec 6.999986000000007 5.999988000000016 6.999986000000007 6.999986000000007 0.150114) #s(line-spec 6.999986000000007 6.999986000000007 5.999988000000002 6.999986000000007 0.150114) #s(line-spec 5.999988000000002 -6.999985999999993 6.999986000000007 -6.999985999999993 0.150114) #s(line-spec 6.999986000000007 -6.999985999999993 6.999986000000007 -5.999988000000002 0.150114) #s(line-spec -6.8999100000000055 6.8999100000000055 6.8999100000000055 6.8999100000000055 0.150114) #s(line-spec 6.8999100000000055 -6.899909999999991 -6.8999100000000055 -6.899909999999991 0.150114) #s(line-spec 6.8999100000000055 -6.899909999999991 6.8999100000000055 6.8999100000000055 0.150114) #s(line-spec -6.8999100000000055 6.8999100000000055 -6.8999100000000055 -6.899909999999991 0.150114) #s(line-spec -7.499858000000003 -7.499857999999989 7.499857999999989 -7.499857999999989 0.150114) #s(line-spec 7.499857999999989 -7.499857999999989 7.499857999999989 7.499858000000003 0.150114) #s(line-spec 7.499857999999989 7.499858000000003 -7.499858000000003 7.499858000000003 0.150114) #s(line-spec -7.499858000000003 7.499858000000003 -7.499858000000003 -7.499857999999989 0.150114)) (#s(pad-spec \"1\" 6.290056000000007 -5.079999999999998 smd rect (2.549906 2.499868) (0 0)) #s(pad-spec \"2\" -7.560056000000003 -2.539999999999992 smd rect (2.549906 2.499868) (0 0))))</code>"
      ],
      "text/plain": [
       "'#s(footprint (#s(line-spec -6.999986000000007 -5.999988000000002 -6.999986000000007 -6.999985999999993 0.150114) #s(line-spec -6.999986000000007 -6.999985999999993 -5.999988000000002 -6.999985999999993 0.150114) #s(line-spec -5.999988000000002 6.999986000000007 -6.999986000000007 6.999986000000007 0.150114) #s(line-spec -6.999986000000007 6.999986000000007 -6.999986000000007 5.999988000000016 0.150114) #s(line-spec 6.999986000000007 5.999988000000016 6.999986000000007 6.999986000000007 0.150114) #s(line-spec 6.999986000000007 6.999986000000007 5.999988000000002 6.999986000000007 0.150114) #s(line-spec 5.999988000000002 -6.999985999999993 6.999986000000007 -6.999985999999993 0.150114) #s(line-spec 6.999986000000007 -6.999985999999993 6.999986000000007 -5.999988000000002 0.150114) #s(line-spec -6.8999100000000055 6.8999100000000055 6.8999100000000055 6.8999100000000055 0.150114) #s(line-spec 6.8999100000000055 -6.899909999999991 -6.8999100000000055 -6.899909999999991 0.150114) #s(line-spec 6.8999100000000055 -6.899909999999991 6.8999100000000055 6.8999100000000055 0.150114) #s(line-spec -6.8999100000000055 6.8999100000000055 -6.8999100000000055 -6.899909999999991 0.150114) #s(line-spec -7.499858000000003 -7.499857999999989 7.499857999999989 -7.499857999999989 0.150114) #s(line-spec 7.499857999999989 -7.499857999999989 7.499857999999989 7.499858000000003 0.150114) #s(line-spec 7.499857999999989 7.499858000000003 -7.499858000000003 7.499858000000003 0.150114) #s(line-spec -7.499858000000003 7.499858000000003 -7.499858000000003 -7.499857999999989 0.150114)) (#s(pad-spec \"1\" 6.290056000000007 -5.079999999999998 smd rect (2.549906 2.499868) (0 0)) #s(pad-spec \"2\" -7.560056000000003 -2.539999999999992 smd rect (2.549906 2.499868) (0 0))))"
      ]
     },
     "execution_count": 2,
     "metadata": {},
     "output_type": "execute_result"
    }
   ],
   "source": [
    "(uuid->fp \"bd8c6c64dc7b4d18806bb8859f9f2606\")"
   ]
  },
  {
   "cell_type": "code",
   "execution_count": 3,
   "metadata": {},
   "outputs": [
    {
     "name": "stderr",
     "output_type": "stream",
     "text": [
      "string->number: contract violation\n",
      "  expected: string?\n",
      "  given: 4000.0395\n",
      "  context...:\n",
      "   string->number\n",
      "   /home/jupyter-lihebi/bhdl/bhdl-lib/bhdl/private/fp-easyeda.rkt:23:0: read-easyeda\n",
      "   eval-one-top\n",
      "   /usr/racket/share/pkgs/sandbox-lib/racket/sandbox.rkt:510:0: call-with-custodian-shutdown\n",
      "   /usr/racket/collects/racket/private/more-scheme.rkt:148:2: call-with-break-parameterization\n",
      "   .../more-scheme.rkt:261:28\n",
      "   /usr/racket/share/pkgs/sandbox-lib/racket/sandbox.rkt:878:5: loop\n"
     ]
    }
   ],
   "source": [
    "(uuid->fp \"ee45c3af6f664b0cbf2307cc71d24263\")"
   ]
  },
  {
   "cell_type": "code",
   "execution_count": 2,
   "metadata": {},
   "outputs": [],
   "source": [
    "(define (parse-polygon str)\n",
    "  (match-let* ([(list ANY points color stroke style other ...) (string-split str \"~\")]\n",
    "               [(list xy ...) (compose-pipe points \n",
    "                                            #:> string-split\n",
    "                                            #:.> string->number\n",
    "                                            #:.> 10mil->mm\n",
    "                                            #:> group-by-2)])\n",
    "              ;; return a list of line-spec\n",
    "              (for/list ([xy1 xy]\n",
    "                         ;; FIXME closed or not?\n",
    "                         [xy2 (cdr xy)])\n",
    "                        (match-let ([(list x1 y1) xy1]\n",
    "                                    [(list x2 y2) xy2])\n",
    "                          (line-spec x1 y1 x2 y2 (string->number stroke))))))"
   ]
  },
  {
   "cell_type": "code",
   "execution_count": 3,
   "metadata": {},
   "outputs": [
    {
     "data": {
      "text/html": [
       "<code>'(#s(line-spec 111.76 63.5 106.67999999999999 63.5 1))</code>"
      ],
      "text/plain": [
       "'(#s(line-spec 111.76 63.5 106.67999999999999 63.5 1))"
      ]
     },
     "execution_count": 3,
     "metadata": {},
     "output_type": "execute_result"
    }
   ],
   "source": [
    "(parse-polygon \"PL~440 250 420 250~#000000~1~0~none~gge49~0\")"
   ]
  },
  {
   "cell_type": "code",
   "execution_count": 4,
   "metadata": {},
   "outputs": [
    {
     "data": {
      "text/html": [
       "<code>'(#s(line-spec 154.93999999999997 33.019999999999996 198.11999999999998 33.019999999999996 5))</code>"
      ],
      "text/plain": [
       "'(#s(line-spec 154.93999999999997 33.019999999999996 198.11999999999998 33.019999999999996 5))"
      ]
     },
     "execution_count": 4,
     "metadata": {},
     "output_type": "execute_result"
    }
   ],
   "source": [
    "(parse-polygon \"PL~610 130 780 130~#FF0000~5~0~none~gge6\")"
   ]
  },
  {
   "cell_type": "code",
   "execution_count": 7,
   "metadata": {},
   "outputs": [
    {
     "data": {
      "text/html": [
       "<code>'((#s(line-spec 101.6 55.88 101.6 60.959999999999994 1) #s(line-spec 101.6 60.959999999999994 109.21999999999998 60.959999999999994 1)) (#s(line-spec 101.6 60.959999999999994 93.98 60.959999999999994 1)) (#s(line-spec 91.44 63.5 96.52 63.5 1)) (#s(line-spec 111.76 63.5 106.67999999999999 63.5 1)))</code>"
      ],
      "text/plain": [
       "'((#s(line-spec 101.6 55.88 101.6 60.959999999999994 1) #s(line-spec 101.6 60.959999999999994 109.21999999999998 60.959999999999994 1)) (#s(line-spec 101.6 60.959999999999994 93.98 60.959999999999994 1)) (#s(line-spec 91.44 63.5 96.52 63.5 1)) (#s(line-spec 111.76 63.5 106.67999999999999 63.5 1)))"
      ]
     },
     "execution_count": 7,
     "metadata": {},
     "output_type": "execute_result"
    }
   ],
   "source": [
    "(list (parse-polygon \"PL~400 220 400 240 430 240~#000000~1~0~none~gge16~0\")\n",
    "    (parse-polygon \"PL~400 240 370 240~#000000~1~0~none~gge17~0\")\n",
    "    (parse-polygon \"PL~360 250 380 250~#000000~1~0~none~gge48~0\")\n",
    "    (parse-polygon \"PL~440 250 420 250~#000000~1~0~none~gge49~0\"))"
   ]
  },
  {
   "cell_type": "markdown",
   "metadata": {},
   "source": [
    "Pin (P):\n",
    "\n",
    "```\n",
    "\"P~show~0~1~670~30~~gge23^^670~30^^M 670 30 h -20~#880000^^1~648~33~0~1~end~~11pt^^1~655~29~0~1~start~~11pt^^0~653~30^^0~M 650 27 L 647 30 L 650 33\"\n",
    "```\n",
    "\n",
    "\n",
    "```\n",
    "P~show~0~1~460~250~~gge19~0^^460~250^^M 460 250 h -20~#880000^^1~438~253~0~1~end~~~#0000FF^^1~445~249~0~1~start~~~#0000FF^^0~443~250^^0~M 440 247 L 437 250 L 440 253\n",
    "\n",
    "P~show~0~2~340~250~180~gge26~0^^340~250^^M 340 250 h 20~#880000^^1~362~253~0~2~start~~~#0000FF^^1~355~249~0~2~end~~~#0000FF^^0~357~250^^0~M 360 253 L 363 250 L 360 247\n",
    "```"
   ]
  },
  {
   "cell_type": "markdown",
   "metadata": {},
   "source": [
    "## Layer of pads on EasyEDA footprints"
   ]
  },
  {
   "cell_type": "code",
   "execution_count": 1,
   "metadata": {},
   "outputs": [
    {
     "name": "stdout",
     "output_type": "stream",
     "text": [
      "DEBUG:  unrecognized shape:  SVGNODE\n",
      "DEBUG:  unrecognized shape:  SVGNODE\n",
      "DEBUG:  unrecognized shape:  SVGNODE\n",
      "DEBUG:  unrecognized shape:  SVGNODE\n",
      "DEBUG:  unrecognized shape:  ARC\n",
      "DEBUG:  unrecognized shape:  ARC\n"
     ]
    }
   ],
   "source": [
    "(putenv \"BHDL_LIBRARY_PATH\" \"~/bhdl/bhdl-footprints\")\n",
    "(require \"fp-easyeda.rkt\"\n",
    "         \"fp-base.rkt\"\n",
    "         \"library-io.rkt\"\n",
    "         \"library-IC.rkt\")\n",
    "(require racket/pretty\n",
    "         racket/match)"
   ]
  },
  {
   "cell_type": "code",
   "execution_count": 2,
   "metadata": {},
   "outputs": [],
   "source": [
    ";; let's look at the kailh socket first\n",
    "\n",
    "(define kailh-socket-fp (uuid->fp \"bd8c6c64dc7b4d18806bb8859f9f2606\"))"
   ]
  },
  {
   "cell_type": "code",
   "execution_count": 3,
   "metadata": {
    "scrolled": true
   },
   "outputs": [
    {
     "data": {
      "text/html": [
       "<code>'#s(footprint (#s(line-spec -6.999986000000007 -5.999988000000002 -6.999986000000007 -6.999985999999993 0.150114) #s(line-spec -6.999986000000007 -6.999985999999993 -5.999988000000002 -6.999985999999993 0.150114) #s(line-spec -5.999988000000002 6.999986000000007 -6.999986000000007 6.999986000000007 0.150114) #s(line-spec -6.999986000000007 6.999986000000007 -6.999986000000007 5.999988000000016 0.150114) #s(line-spec 6.999986000000007 5.999988000000016 6.999986000000007 6.999986000000007 0.150114) #s(line-spec 6.999986000000007 6.999986000000007 5.999988000000002 6.999986000000007 0.150114) #s(line-spec 5.999988000000002 -6.999985999999993 6.999986000000007 -6.999985999999993 0.150114) #s(line-spec 6.999986000000007 -6.999985999999993 6.999986000000007 -5.999988000000002 0.150114) #s(line-spec -6.8999100000000055 6.8999100000000055 6.8999100000000055 6.8999100000000055 0.150114) #s(line-spec 6.8999100000000055 -6.899909999999991 -6.8999100000000055 -6.899909999999991 0.150114) #s(line-spec 6.8999100000000055 -6.899909999999991 6.8999100000000055 6.8999100000000055 0.150114) #s(line-spec -6.8999100000000055 6.8999100000000055 -6.8999100000000055 -6.899909999999991 0.150114) #s(line-spec -7.499858000000003 -7.499857999999989 7.499857999999989 -7.499857999999989 0.150114) #s(line-spec 7.499857999999989 -7.499857999999989 7.499857999999989 7.499858000000003 0.150114) #s(line-spec 7.499857999999989 7.499858000000003 -7.499858000000003 7.499858000000003 0.150114) #s(line-spec -7.499858000000003 7.499858000000003 -7.499858000000003 -7.499857999999989 0.150114)) (#s(pad-spec \"1\" 6.290056000000007 -5.079999999999998 smd rect (2.549906 2.499868) (0 0) #&lt;void&gt;) #s(pad-spec \"2\" -7.560056000000003 -2.539999999999992 smd rect (2.549906 2.499868) (0 0) #&lt;void&gt;) #s(pad-spec \"\" 2.539999999999992 -5.079999999999998 thru_hole circle (2.99974 2.99974) (2.99974 2.99974) multi) #s(pad-spec \"\" -3.8100000000000023 -2.539999999999992 thru_hole circle (2.99974 2.99974) (2.99974 2.99974) multi) #s(pad-spec \"\" 0.0 0.0 thru_hole circle (3.9878 3.9878) (3.9878 3.9878) multi) #s(pad-spec \"\" 5.079999999999998 0.0 thru_hole circle (1.7018 1.7018) (1.7018 1.7018) multi) #s(pad-spec \"\" -5.079999999999998 0.0 thru_hole circle (1.7018 1.7018) (1.7018 1.7018) multi)))</code>"
      ],
      "text/plain": [
       "'#s(footprint (#s(line-spec -6.999986000000007 -5.999988000000002 -6.999986000000007 -6.999985999999993 0.150114) #s(line-spec -6.999986000000007 -6.999985999999993 -5.999988000000002 -6.999985999999993 0.150114) #s(line-spec -5.999988000000002 6.999986000000007 -6.999986000000007 6.999986000000007 0.150114) #s(line-spec -6.999986000000007 6.999986000000007 -6.999986000000007 5.999988000000016 0.150114) #s(line-spec 6.999986000000007 5.999988000000016 6.999986000000007 6.999986000000007 0.150114) #s(line-spec 6.999986000000007 6.999986000000007 5.999988000000002 6.999986000000007 0.150114) #s(line-spec 5.999988000000002 -6.999985999999993 6.999986000000007 -6.999985999999993 0.150114) #s(line-spec 6.999986000000007 -6.999985999999993 6.999986000000007 -5.999988000000002 0.150114) #s(line-spec -6.8999100000000055 6.8999100000000055 6.8999100000000055 6.8999100000000055 0.150114) #s(line-spec 6.8999100000000055 -6.899909999999991 -6.8999100000000055 -6.899909999999991 0.150114) #s(line-spec 6.8999100000000055 -6.899909999999991 6.8999100000000055 6.8999100000000055 0.150114) #s(line-spec -6.8999100000000055 6.8999100000000055 -6.8999100000000055 -6.899909999999991 0.150114) #s(line-spec -7.499858000000003 -7.499857999999989 7.499857999999989 -7.499857999999989 0.150114) #s(line-spec 7.499857999999989 -7.499857999999989 7.499857999999989 7.499858000000003 0.150114) #s(line-spec 7.499857999999989 7.499858000000003 -7.499858000000003 7.499858000000003 0.150114) #s(line-spec -7.499858000000003 7.499858000000003 -7.499858000000003 -7.499857999999989 0.150114)) (#s(pad-spec \"1\" 6.290056000000007 -5.079999999999998 smd rect (2.549906 2.499868) (0 0) #<void>) #s(pad-spec \"2\" -7.560056000000003 -2.539999999999992 smd rect (2.549906 2.499868) (0 0) #<void>) #s(pad-spec \"\" 2.539999999999992 -5.079999999999998 thru_hole circle (2.99974 2.99974) (2.99974 2.99974) multi) #s(pad-spec \"\" -3.8100000000000023 -2.539999999999992 thru_hole circle (2.99974 2.99974) (2.99974 2.99974) multi) #s(pad-spec \"\" 0.0 0.0 thru_hole circle (3.9878 3.9878) (3.9878 3.9878) multi) #s(pad-spec \"\" 5.079999999999998 0.0 thru_hole circle (1.7018 1.7018) (1.7018 1.7018) multi) #s(pad-spec \"\" -5.079999999999998 0.0 thru_hole circle (1.7018 1.7018) (1.7018 1.7018) multi)))"
      ]
     },
     "execution_count": 3,
     "metadata": {},
     "output_type": "execute_result"
    }
   ],
   "source": [
    "kailh-socket-fp"
   ]
  },
  {
   "cell_type": "code",
   "execution_count": null,
   "metadata": {},
   "outputs": [],
   "source": []
  },
  {
   "cell_type": "code",
   "execution_count": 4,
   "metadata": {
    "scrolled": true
   },
   "outputs": [
    {
     "name": "stdout",
     "output_type": "stream",
     "text": [
      "'(#s(pad-spec\n",
      "     \"1\"\n",
      "     6.290056000000007\n",
      "     -5.079999999999998\n",
      "     smd\n",
      "     rect\n",
      "     (2.549906 2.499868)\n",
      "     (0 0)\n",
      "     #<void>)\n",
      "  #s(pad-spec\n",
      "     \"2\"\n",
      "     -7.560056000000003\n",
      "     -2.539999999999992\n",
      "     smd\n",
      "     rect\n",
      "     (2.549906 2.499868)\n",
      "     (0 0)\n",
      "     #<void>)\n",
      "  #s(pad-spec\n",
      "     \"\"\n",
      "     2.539999999999992\n",
      "     -5.079999999999998\n",
      "     thru_hole\n",
      "     circle\n",
      "     (2.99974 2.99974)\n",
      "     (2.99974 2.99974)\n",
      "     multi)\n",
      "  #s(pad-spec\n",
      "     \"\"\n",
      "     -3.8100000000000023\n",
      "     -2.539999999999992\n",
      "     thru_hole\n",
      "     circle\n",
      "     (2.99974 2.99974)\n",
      "     (2.99974 2.99974)\n",
      "     multi)\n",
      "  #s(pad-spec\n",
      "     \"\"\n",
      "     0.0\n",
      "     0.0\n",
      "     thru_hole\n",
      "     circle\n",
      "     (3.9878 3.9878)\n",
      "     (3.9878 3.9878)\n",
      "     multi)\n",
      "  #s(pad-spec\n",
      "     \"\"\n",
      "     5.079999999999998\n",
      "     0.0\n",
      "     thru_hole\n",
      "     circle\n",
      "     (1.7018 1.7018)\n",
      "     (1.7018 1.7018)\n",
      "     multi)\n",
      "  #s(pad-spec\n",
      "     \"\"\n",
      "     -5.079999999999998\n",
      "     0.0\n",
      "     thru_hole\n",
      "     circle\n",
      "     (1.7018 1.7018)\n",
      "     (1.7018 1.7018)\n",
      "     multi))\n"
     ]
    }
   ],
   "source": [
    "(pretty-print (footprint-pads kailh-socket-fp))"
   ]
  },
  {
   "cell_type": "code",
   "execution_count": 5,
   "metadata": {},
   "outputs": [
    {
     "name": "stdout",
     "output_type": "stream",
     "text": [
      "\"DEBUG: /var/tmp/PKGS-bhdl-lib-bhdl-private-library-io.rkt-99-15_15985165091598516509148\"\n"
     ]
    },
    {
     "data": {
      "text/html": [
       "<code><img style=\"display: inline; vertical-align: baseline; padding: 0pt; margin: 0pt; border: 0pt\" src=\"data:image/png;base64,iVBORw0KGgoAAAANSUhEUgAAAEcAAABBCAYAAACD6bkCAAAGdElEQVR4nO2bWWxUVRjHf6d0\r\n",
       "BVtKoCwKpiUCMQIPkppAaBNAFhNRjBHBRIwgkYQggeDyIMb4IoqIGhUXEo1LRHgAUVkiYIS6\r\n",
       "kSJLNKAJwYaUtYulRTvtDH8fzm3SXmbu3OmdDtN0/snJ/e70u+c793e/s8y5HSMJt4wx7UD2\r\n",
       "dX/oOwpLyokFIFuSSWlz0kjGGEGc7OiLGdQ5KeLdeLb7gnSQMaYCWA5UACXAZeAQ8LakqgD1\r\n",
       "dhljsoI0MtUyxmQbYzblwRdrobQG8togpwZK1kF5EWzPNuY9Y0xysl3SdcV+bI8ddjoU4N2x\r\n",
       "cKoZwgK5yxXQFGgsgo9i3ZefUmzrq4gH50y6wAEqiuBScxQobkC3QOsQmBb1vnwUx6/Ss1tJ\r\n",
       "KktKeiZBBbDqZRhwUxy/QmAt5I2C14LG7DVjThZMnwv9/fjOAWphQhJi9g6FoHCYT9/hQBPk\r\n",
       "YExhkJi9Bs5AaLvo0/cidn4HioPE7DVwboezu3367gKm2oH1UpCYvQbO3fDxOqA5jl8z8Arw\r\n",
       "KPyGFAoU1Gsqd9s3tED2ImiY5UzXsabxWaDl9nxO0Kk8KXCwGbgYqDLQkgUtufAL8DiQlSxA\r\n",
       "dVC+DNrLQO+BakAh0N+gTaBSB0wrbIp2/QBow/8isBI/zlnQJBgRA0yRgQOj4K/tcKbZeYJ7\r\n",
       "QOVwtQxOToVBScyg8n1QuwA0EpRrF31aCDoE7YKXFOuBwFrBnlhlj4XScRxvnBTylLGU6pGG\r\n",
       "dPncfon55j6YuA1Gugewa8CTwGmoOwC3ITXF7+g+ZEwuMB+7pLkVuAJUA58ine5+tUaSTMcR\r\n",
       "/PfBuihZc+9o+KfN49o20HjQJ/DrDR+34g8P6nwMNFvdAs+9CANzPHxygDXADrgLY+YGiZdq\r\n",
       "BYLTApNm+PCbAfxszceCxEu1AsG5CnklPvyGAvXWvDNIvFQrEJxiuHbZh98lYLA1BwSJl2oF\r\n",
       "gjMBGvf58NsPTLZmTZB4qVYgODPh2w1Au4dPG7AeeMKe7ormY4wpNMasyDfmhwJj6voZ0z7A\r\n",
       "mIYhxhzON2alMSbeNk6PqdtTeSMU3wOhpaBIlOsioCWgefa8UTAkyvS5MAfqZkPtTgifc6b/\r\n",
       "c6CdoIcgNBBaymBJqqdyiv0vp6+DI4kTcP8MiFSAdoOanLIbNBU0066Y2wX3uq/NgucHQd1R\r\n",
       "iHg9nCP2q0FkMmxOKRzB++7yvm2U294Qq9L/oPJtuFABKnJKJegjmz2nFX0/d0EJNF7ykbkC\r\n",
       "XQSVwbUH4YXUwfFwctueBXIE9wleF3wm2Ch4QJAbpf7CAmg46hNMR6kGDYfIWzAybeEAjxTA\r\n",
       "n9kQGgbn7knwaebAygfgSiJgOsoC0Ar4LoEbrjCwNxeuFMDVUjgxLsp2RlLgON3h8kEIXwUd\r\n",
       "Ao0DvQrfy+f2RAkc+bobYAT6CjQNQoJ+PsDM6gfnN8PZelA96AvQCIgshtVJh1MIJ6tcDa4C\r\n",
       "TbL2Ij9wiqDlfDfh1IJutvadPuD8vhV+ctex3z7QkPthBoaTC63uF2vNoEJrb/EDJxsioW7C\r\n",
       "aQXlWXueDzitrRZCrDrGe8FJeBE4HBqPuz47Doy1Zp6fOoogVJ9oYEd1gLOplBvP18DpH+3G\r\n",
       "QBf9CIyxZr7X9QnDmQafLwGqgH+d4xLstgR2azSuRsDl6kQDO6oG7rBmbTxfwaqF0L4FaHDK\r\n",
       "FmARsN42/w/vChLsVoKsN+HYRFB/0ETQ5zZFTwgK/XSrufDhwm52q/mgN21X6e8n1lOwfCaE\r\n",
       "B4MGg2aDDtpF59KkD8gdgASPC7YKtgtWC/L9NFYSa2DoMIgcSRDMYWcwboAv/cZy2lsqeEOw\r\n",
       "W/CBoNzrvoPBSUJ5Fj4djV35+gFzAVQG2ma/iozpiTalDRxBv5VwajR25RsvY8pA6+z5sh5p\r\n",
       "T1rBsYAGvgvHRmBXvl9h1zEh57gD9DD21cs2O0483WNtSTs4TgbVwjMboXmmM6bkOsdZoHdA\r\n",
       "TVAtqOzRdkSBY5yTLur83qaz3aMyJh+YDkwBRmKn2hpgL9KxHo/P9e+t0gdOGsgNp9f8l8WN\r\n",
       "UAaOhzJwPJSB46EMHA9l4HgoA8dDGTgeysDxUAaOhzJwPJSB46EMHA9l4HgoA8dDnnCMMWdS\r\n",
       "1ZB0VLzMKU1FI9JVmW7loQwcD/n5cXrY/Uv9vqJ4cMJRfP5WGv2kOoicCae000fhLn+P9/ah\r\n",
       "L6rj/mNlTp/tSo7CAP8D2FTIjjULVbgAAAAASUVORK5CYII=\r\n",
       "\"/></code>"
      ],
      "text/plain": [
       "(pict '(prog #<procedure:...rivate/utils.rkt:1274:8> 64.24221235656299) 70.23955913615 64.24221235656299 32.121106178281494 32.121106178281494 (list (child (pict '(picture 16.400018 14.999716 (put 8.835009 7.499858 #0=(prog #<procedure:...erber-viewer.rkt:162:18> 0))) 16.400018 14.999716 7.499858 7.499858 (list (child (pict #0# 0 0 0 0 '() #f #f) 8.835009 7.499858 1 1 0 0)) #f #f) 0 0 4.282895246587535 4.282895246587535 0 0)) #f #f)"
      ]
     },
     "execution_count": 5,
     "metadata": {},
     "output_type": "execute_result"
    }
   ],
   "source": [
    "(footprint->pict kailh-socket-fp)"
   ]
  },
  {
   "cell_type": "markdown",
   "metadata": {},
   "source": [
    "# (canceled) functional pict library with floating numbers and a visualization scale\n",
    "\n",
    "The functional pict library of racket only support integers. I would love to have a wrapper to accept floats. When visualized, it is given a scale.\n",
    "\n",
    "This is actually tricky, because I need to hack pict's internal data structure.\n",
    "\n",
    "I probably need to walk around it. I would have an \"append\" wrapper with scale."
   ]
  },
  {
   "cell_type": "markdown",
   "metadata": {},
   "source": [
    "# HACK create kailh socket of different units"
   ]
  },
  {
   "cell_type": "code",
   "execution_count": 1,
   "metadata": {},
   "outputs": [
    {
     "name": "stdout",
     "output_type": "stream",
     "text": [
      "DEBUG:  unrecognized shape:  SVGNODE\n",
      "DEBUG:  unrecognized shape:  SVGNODE\n",
      "DEBUG:  unrecognized shape:  SVGNODE\n",
      "DEBUG:  unrecognized shape:  SVGNODE\n",
      "DEBUG:  unrecognized shape:  ARC\n",
      "DEBUG:  unrecognized shape:  ARC\n"
     ]
    }
   ],
   "source": [
    "(putenv \"BHDL_LIBRARY_PATH\" \"~/bhdl/bhdl-footprints\")\n",
    "(require \"fp-easyeda.rkt\"\n",
    "         \"fp-base.rkt\"\n",
    "         \"library-io.rkt\"\n",
    "         \"library-IC.rkt\"\n",
    "         \"utils.rkt\")\n",
    "(require racket/pretty\n",
    "         racket/match)"
   ]
  },
  {
   "cell_type": "code",
   "execution_count": 2,
   "metadata": {},
   "outputs": [
    {
     "name": "stdout",
     "output_type": "stream",
     "text": [
      "\"DEBUG: /var/tmp/PKGS-bhdl-lib-bhdl-private-library-io.rkt-99-15_15985282401598528240943\"\n"
     ]
    },
    {
     "data": {
      "text/html": [
       "<code><img style=\"display: inline; vertical-align: baseline; padding: 0pt; margin: 0pt; border: 0pt\" src=\"data:image/png;base64,iVBORw0KGgoAAAANSUhEUgAAAEcAAABBCAYAAACD6bkCAAAGcElEQVR4nO2cW2wUVRjHf6f3\r\n",
       "UrctoQUqYFoiECPwAKkJhDYBbIEEEGJEaiIGKpGEIIHg5UGM8UUUETHIRUkwIgHhgYtKIQJG\r\n",
       "KF5IkUs0oEkDDSmXXu1Nu22Xz4czm7TT3dnZznbZ2vknJ+eb2W/Od+Y357ZnulUigllKqd4n\r\n",
       "B5lERCVYfRjNysSS/I0jKBzDqTOUz/9N3RtFqBtPMF8QC1JKFQCrgQIgG6gFzgPbRaTcQbk9\r\n",
       "hpM4J5WMtpRSCUqpnclwYCPkVkFyByRWQfYmyE+HIwlK7VIq+HARlkSkV9Knde63YyEBO8bD\r\n",
       "jRboEhBzagaZDo3psDfYfdlJmbq8glBwbsYKHKAgHWpaAkAxAxoF7VkwM+B92UiGX6FltxKR\r\n",
       "vIg0zwgoFda9B2mPhPDzABsheQx86DTmgBlz4mDWAhhix3cuUA2TIhBzYMgLnhE2fUcCTZCI\r\n",
       "Uh4nMQcMnAzouG/T9z56fgcyncQcMHCegNtlNn1PADP0wFrjJOaAgfM0fLEJaAnh1wK8D7wI\r\n",
       "vyHidRTUaio32w81QcIyaCg2putg03gxyGp9PNfpVB4ROOgWuAIoV9AaB61J8AuwHIiLFKA6\r\n",
       "yF8FnXkgu0CqQLwgt0B2guQaYNphZ6Dr06AD+4vAQuw4x0GTQE4QMOkKzo6Bv47AzRbjCZ4E\r\n",
       "yYe2PLg+A4ZGsAXln4bqpSCjQZL0ok9KQM5Dp8C7EuyBwEaBk8HSSQ3Fn09URhOylNKU6hHJ\r\n",
       "6nFef4n5diFMPgyjzQPYA+AVoBLqzsLjiDSF7ug2pFQSsAS9pHkMaAYqgH2IVPa9WCUiovw5\r\n",
       "2O+DdQFazfyx8HeHxbUdIBNBvoRfH/q4FXp4kO65o9lqFLz5DmQkWvgkAhuAo/AUSi1wEi/a\r\n",
       "cgSnFabOtuE3G/hZmy85iRdtOYLTBsnZNvyGA/XanOIkXrTlCE4mPKi14VcDDNNmmpN40ZYj\r\n",
       "OJOg8bQNvzPANG1WOYkXbTmCUwTfbQE6LXw6gM3Ay/rwRCAfpZRHKbUmRakfU5Wqi1eqM02p\r\n",
       "hiylLqYotVYpFWobp9/U56m8ETLngXcliC/AdT6QUpBF+rhRICvA9FmSCHVzoPo4dN0xpv87\r\n",
       "IMdBngNvBrTmQWm0p3Iy7S+ne8EREa7BM7PBVwBSBtJkpDKQGSBFesXcKTDffG0cvDUU6i6D\r\n",
       "z+rhXNJfDXzTYE9U4QjsNqfdulJme0uwQv+Fwu1wrwAk3UiFIHt166mUwPu5S7OhscZGyxWQ\r\n",
       "+yB58OBZeDt6cCyczLZlgkSBhQIfCXwlsFVgsUBSgPI9qdBw2SYYf6oAGQm+T2B0zMIBXkiF\r\n",
       "PxPAOwLuzAvzaSbC2sXQHA4Yf1oKsga+D+OGCxScSoLmVGjLhWsTAmxnRASO0R1qz0FXG8h5\r\n",
       "kAkgH8APYnN7IhsufdMHMAJyDGQmeAXibYApjoe7e+B2PUg9yAGQHPCtgPURh+OB6+WmCpeD\r\n",
       "TNX2Mjtw0qH1bh/hVIM8qu0pNuD8fgh+MpdxRj9Qr/lhOoaTBO3mF2stIB5tH7QDJwF83j7C\r\n",
       "aQdJ1vYiG3Da2zWEYGVMtIIT9iJwJDReNZ27CozXZrKdMtLBWx9uYEN1gLGplBTKV0HlBb0x\r\n",
       "0EMXgHHaTLG6Pmw4M2F/KVAO/GPkpehtCfTWaEjlQG1FuIENVQBParM6lK/AuhLoPAg0GOkg\r\n",
       "sAzYrKv/h3UBYXYrgbhtcGUyyBCQySD7dRO9JuCx060WwOclfexWS0C26a4yxE6sV2F1EXQN\r\n",
       "AxkGMgfknF50roz4gOwHJLBc4JDAEYH1Ail2KisibIDhI8B3KUwwF43BuAG+thvLqG+uwMcC\r\n",
       "ZQKfCeRb3bczOBFIb8C+seiVrx0w90DyQA7rryLj+qNOMQNHIH4t3BiLXvmGajF5IJv08ap+\r\n",
       "qU9MwdGAMnbAlRz0yvcYeh3jNfKjIM+jX70c1uPEa/1Wl5iDY7Sganh9K7QUGWNKkpEXg3wK\r\n",
       "0gQVAoX9Wo8AcJRx0EPd39t0t/tVSqUAs4DpwGj0VFsFnELkSr/Hp/d7q9iBEwMywxkwf2Xx\r\n",
       "MOTCsZALx0IuHAu5cCzkwrGQC8dCLhwLuXAs5MKxkAvHQi4cC7lwLOTCsZALx0KWcJRSN6NV\r\n",
       "kVhUqJaTG41KxKrcbmUhF46F7Pw4vWuw/uOPUHC6Avjckhj6SbUTGRNObrdTXT0+D/X2YTDK\r\n",
       "f/9BW85g7Urd9R9stcWSllB95QAAAABJRU5ErkJggg==\r\n",
       "\"/></code>"
      ],
      "text/plain": [
       "(pict '(prog #<procedure:...rivate/utils.rkt:1274:8> 64.24221235656299) 70.23955913615 64.24221235656299 32.121106178281494 32.121106178281494 (list (child (pict '(picture 16.400018 14.999716 (put 8.835009 7.499858 #0=(prog #<procedure:...erber-viewer.rkt:162:18> 0))) 16.400018 14.999716 7.499858 7.499858 (list (child (pict #0# 0 0 0 0 '() #f #f) 8.835009 7.499858 1 1 0 0)) #f #f) 0 0 4.282895246587535 4.282895246587535 0 0)) #f #f)"
      ]
     },
     "execution_count": 2,
     "metadata": {},
     "output_type": "execute_result"
    }
   ],
   "source": [
    "(footprint->pict (fp-kailh-socket))"
   ]
  },
  {
   "cell_type": "code",
   "execution_count": 3,
   "metadata": {},
   "outputs": [
    {
     "name": "stdout",
     "output_type": "stream",
     "text": [
      "\"DEBUG: /var/tmp/PKGS-bhdl-lib-bhdl-private-library-io.rkt-99-15_15985282541598528254554\"\n"
     ]
    },
    {
     "data": {
      "text/html": [
       "<code><img style=\"display: inline; vertical-align: baseline; padding: 0pt; margin: 0pt; border: 0pt\" src=\"data:image/png;base64,iVBORw0KGgoAAAANSUhEUgAAAIEAAABBCAYAAAD2SMfkAAAHDElEQVR4nO3da4xcZR3H8c8z\r\n",
       "3XbL0qWVcim02K2INUJaFUxE3GBsKLQYVGikFeUNCoaK0cQQiInGCxdfSEhoetGYGIyxIbVC\r\n",
       "I1KtaIASgYKlChJL1HbpbWuLsGtb227798XZAk73crrszJxtzzd5Ms+ceS6/85zfPOc5/3Mm\r\n",
       "k3AQTUpOVHoSIiJSoxSklBraf6Np9P6nlKIwM0BKKRqtoc70RMToRougYKeBos0IKaV2LEQ7\r\n",
       "Tk/sCh7HoohY+zbaDQUa+0qjBRSRlFJTSmlJhZ/eTPM/6D5AZTNn3ctlp/HwaSndn1IqzIF8\r\n",
       "OxRmTdDoc+NbSSktnsCMzUw5hanVn3fjag7tZM2GiDl91M91apuA+/C5Bo9/ORNUkVJqH8Xc\r\n",
       "Dtr6MgC0YiWjurj8qynd3FeZyJFeU4ypuAgaisbCW+loZfJAhVpxG2kTd0ppRI/jiBZfCxKX\r\n",
       "fomL8pS9As8yHh+praraUprgaCZO4qQ8BSdhV5b9cA311JzSBFU009WZs2wnTs+y42ulpx6U\r\n",
       "JqjiFNY9krPsr2UBBGyvlZ56UJqgii7uvoND3YOU68b3ZZEkrKmxrJpSmqCKfRGPTeXpebID\r\n",
       "3RfdmIcrcQkPini5bgJrwIgzQUqpPaW0vJLStkpKB5tS2tGU0gMppY8OVx+zmHUqW2ZiGTpw\r\n",
       "AJuxFDNwHu5lC46KEzTxnySLxA2UJgyX4GEgIkKtk3zxk6jwenBSH/WbsKSZLd/mTx389wDR\r\n",
       "QSxi7+l0TeR+NA2LZlpWsHo+MYUYQ0wmFhBrieCPwTv7qXthsLq/tDqrvzpYfWudxn+g41K3\r\n",
       "sHFKKfLEUhOCeSJ+UVV/8TTa/8z0cRx1960bn6ZnK4+8FHHVMMkmpQuxABdgLDZiFR4+MorH\r\n",
       "3uSbIfJGh8uPhLjrNhNEjtRb7pqquu0tbOumZ6C6XcRUDl3LdY38duUaiz7yjdIyItYEFb58\r\n",
       "B5VxjBqoXCtup/JqtnAvycmIMEETs67hzDxlr8BfmSylM2os67hhRJjgEBNyOcD/hXLfXys9\r\n",
       "xxsjwgQt7BlCKLelVnqON0aECSbz4hBCuR210nO8MSJM0MpddxF5Q7k3ZmeE56s/Tym1ppRu\r\n",
       "qaT06NiU/jUqpYPjUvr32Smtn5LS7SmlcbXQPxIo/CViRJjLX2b3Xgb2d3k4m1iYvV/YR/8L\r\n",
       "KnRezAu/5PVtxAFiG7GKmM/hiey/mm+daJeIdRPRwn45IoYT+jHBGsZ/np3TiKXEZmI/sYlY\r\n",
       "QrT1GmA/K4NK1Y5+YyyvPMP2gQz4HPEu4os8HYwuTTDcieuCZdVpWXYA3njtTR/op43WFfym\r\n",
       "r1DuExwI7o6qsDHmj6Wjkz15ZqLOXiPcwx9OFBOMzKeNUzofV2G67Gd0L2CliFeq2m5NbHya\r\n",
       "+BBn5dX0XG/jT7HwnIjFeevl5YQNGw/2rehLB9qbWNNM90nsOYfnz2TWMbR9y0WszzMDVKf5\r\n",
       "xA94LWg5hv4+ezIbm9h/Bls/xm0jYSYohIi+BgOzR9P5E3btJnYTPyfO5OAn+ELOtn/3AFuG\r\n",
       "YoKHiMv6WZ/009f8Sbz6BIf3ZKenmE58h1+VJhi6CV5YxcvVB+dR4lz25Gl7FDu3D8EAQWwl\r\n",
       "zs7yS/P09Q5eXlvVxlriwiw/p8gmKGycIHHebN5dvf0SbKFFSoM+k3GYCacOsf+J2J1lp+Yp\r\n",
       "v4+pM6u2zZTdd8bcIcqoC4U1wWg2PdnH9idlT/WgebA2munaPcT+d+G0LDsmT/mzeX1D1bYN\r\n",
       "eM8bUopLYU1wmK9cx6HleLU3Lcf1uJPtIga9nTCGjc8Osf9ncX6W3Zqn/FxW3oC12Nv7egO+\r\n",
       "nn381BBl1I2Gn5P6Ozd+j2/OziJ5MZG4nHiMg8GVedqucMs89g1lTfAZYlGWz7UIDZoXs3EG\r\n",
       "0ULMIH6W1V8bjCnymqD4cYKULpA92d2Gv+M+EX/L2fa48ez4PSd/8Bg0rcOnsJF9J9MmYmeu\r\n",
       "iimNxo34uGzV/Sh+JKKnStcb+1rGCQaZCYYjvZebpnG4M+cMsIOYRqzI3t9Zy30uykxQ2DXB\r\n",
       "cPFSxLJzWX6xLBI4EOtwMW7CNVnx79ZaX1FouBPr8Y34Gj88qzcS+FBvHGB/7+uDxLWy+xAr\r\n",
       "3jyPn1HrfS7KTFD8NcEwsj6lSx/mx49z7ovevAy8AJ/E9XSN4y7cI+JArXQUbU1wQpngLZ2+\r\n",
       "D3Nki83xsl8SPYPfithb++5LExwlou4maDBFM8FxvzAsGZzSBCWlCUpKE5QoTVCiNEGJ0gQl\r\n",
       "ShOUKE1QojRBidIEJUoTlChNUKI0QYnSBCVKEzSMlNI/G63hCKUJGkdbowUcoTRBSWmCkgL9\r\n",
       "Sycn1F/l9ijQ2BdGiKMHZlNETGuUmOGkdxHY9pZNTbL9LQSFedq4Uf03mkbv/5FHzg8q1oxQ\r\n",
       "Ul96/gc8Z8xN8a9L1gAAAABJRU5ErkJggg==\r\n",
       "\"/></code>"
      ],
      "text/plain": [
       "(pict '(prog #<procedure:...rivate/utils.rkt:1274:8> 64.24221235656299) 128.48442471312597 64.24221235656299 32.121106178281494 32.121106178281494 (list (child (pict '(picture 29.999432 14.999716 (put 14.999716 7.499858 #0=(prog #<procedure:...erber-viewer.rkt:162:18> 0))) 29.999432 14.999716 7.499858 7.499858 (list (child (pict #0# 0 0 0 0 '() #f #f) 14.999716 7.499858 1 1 0 0)) #f #f) 0 0 4.282895246587535 4.282895246587535 0 0)) #f #f)"
      ]
     },
     "execution_count": 3,
     "metadata": {},
     "output_type": "execute_result"
    }
   ],
   "source": [
    "(footprint->pict (fp-kailh-socket 2))"
   ]
  },
  {
   "cell_type": "code",
   "execution_count": 4,
   "metadata": {},
   "outputs": [
    {
     "name": "stdout",
     "output_type": "stream",
     "text": [
      "\"DEBUG: /var/tmp/PKGS-bhdl-lib-bhdl-private-library-io.rkt-99-15_15985282581598528258997\"\n"
     ]
    },
    {
     "data": {
      "text/html": [
       "<code><img style=\"display: inline; vertical-align: baseline; padding: 0pt; margin: 0pt; border: 0pt\" src=\"data:image/png;base64,iVBORw0KGgoAAAANSUhEUgAAAZIAAABBCAYAAAD7XyLPAAAIlElEQVR4nO3de4xU5RnH8e/D\r\n",
       "Xll2AVmQi6hAkRQ1XLS0pQYvKEJBtI0WkRoqxUIIVUxqY29YExKlrRJjES02kdCGS7VWU+VS\r\n",
       "rKZ0KRjoH9jSopgKBeS6tMBy3YWnf5ylLsPCnpkzw5wz+/skkz2ZvHPOM5vZ/c15z/u+x4B6\r\n",
       "oBgREZH0NRjg7m75rkSkOWbWqj+frf39S/yZmetMRBLBzFrdmbMCRJKiVf1hSqIVQ/z+uZrZ\r\n",
       "MGA6MAzoAuwD/gzMdfeaCPv17FQokntt8l2ASBKZWbGZvVAOS56Avtug8iSUbIPqJ2FwFbxW\r\n",
       "ZPaCmenLmhQ8XSORWDtzjeDMN/S4fFbNbN41MHId9K4M/o7OchgYAbV/g9ePuD/YzOtDnXF0\r\n",
       "BP4Dn8X9g+hVi2SfmbnOSCQptua7gDPMbNglcO866NNciABUAaugugNMaGt2Y3NtPMTjv42H\r\n",
       "zPZ7EMkmBYkkgrv3zncNZ7SH7z4JVZUttKsCfgxte8FTF6EskbxRkIikyeHmMVASpu0ooBau\r\n",
       "z3FJInmlIBFJ0zFo1zVk227AISjDTN1TUrAUJCJp6ggNe0K23UMwJhgoy1U9IvmmIBFJ0wDY\r\n",
       "vTxk22XAUDiJ+/Fc1iSSTwoSkTTdAUtnEwzxvZDDwE+ACcEERZGCpXkkEmtN15qKzbpTZhWT\r\n",
       "Ye8OaPcqweisVIeBe4CrgLkwBPcNZ+/CPMxEEgMc+uO+OXLdIjmgeSRScMysjZl908xq2pjV\r\n",
       "FZnVlZqtNbNJZpadz7v70Tnw1c/A6YHAL4B/AyeBbcCLwACCEHkaZqWGCEBl44qpLT06ZqVg\r\n",
       "kdzSGYnEQtiZ3m3g0Cnoh/s517vNrH0RvNETLn8OyofDZQ78Bfgh1O2DbXXwpVr3Q1kqevi7\r\n",
       "sHQ+dK4B9hJcWL8RmAYnhsEPcJ9zntc+DVx7vl2vhJEjYWXjz8tx35GVmkWyzMxcQSKxkGZX\r\n",
       "z2bc+6e83sph+Z0waDF0TT31OA1MBT6AXauhT9YufptVABOA24AeBJPR1wK/ivLPv+nSMPr7\r\n",
       "lDhTkEhsRA2SYrOxfWDRJqg830zBeuA6YAasetD99ogl55SCRJJC10ikYPSCx2deIEQgmIr+\r\n",
       "KLAcRmD2xYtTmUjhU5BIQTgAA24N0e5Wgn4n4Bu5rEekNVGQSEGog9IuIdpdCtQGm9flsh6R\r\n",
       "1kRBIgXhEvB9IdrtBaqDzXa5rEekNVGQSEEYDHVvh2j3R2BosLktl/WItCYKEikIX4a3nyEY\r\n",
       "mXU+J4GfAY23K2x2uSwzqzKzh9qara4wqy0yq29ndqDa7L1Ss4fNrKXbkIi0Ohr+K7EQdfjv\r\n",
       "MbOeX4OtPaDoRc79hnQamEJwfeR3sJNgUuPRlBruK4W5t0HDNOhyPVhnYD+wAVgIJ/4A9VXw\r\n",
       "0A73BZm903A0/FeSQsN/JTYMDkZZMqSt+445MPlf4DcDK4BDjY8VwE0Ey5gshOPA+NQQKTGb\r\n",
       "2RnmvQed3oJL7wDrTjBkuDswFngFyt6FymL45WCz57P6CxBJMJ2RSDwEXUbPpD49H6ZMgfkp\r\n",
       "27twf6K53ZwwG/MyLFwEnTY2PjcImARMhH+0gQdwX3/2oW18N5j/PlSFGfm1F/gCnO4Lj61y\r\n",
       "fzr8mwxPZySSFJrZLrGX0eq/ZuUEJxE3AJ2B3cA7wErcT6Xsv6odbK+BDoPSqOuvwBg4NQ66\r\n",
       "P+ehBoylRUEiSaGuLUk8M5tQafZhidmJrmY7bzH7Hu7HcX8F90dwvx/3R3FflhoiAFUwZTSU\r\n",
       "pRMiENyE/RYoOhIs/hu21mElZqvKzQ5XmB3pZbbxSrMRaR5aJHYUJJJYjV1Sc1dA34NQ+lvo\r\n",
       "sQuemmX2Zth9dIAHJkJ5Jse/D9gCodbsMrPbS+DVl2DgJ1C5Aypmw4CTsPxus6mZHF8kLtS1\r\n",
       "JbF2oa6tTmZbfg99b2jSfg0wA9gAo3Fv8Y64Hc2ObIaKbhnU9gkwBNgJV+C+vYX38ffXwe6C\r\n",
       "q5s+/w4wFY5tca9Iaa+uLUkEdW1Joh2DKwemPDcQ+DDYHB1mH0egvFOGx6/m/8utXBGied9R\r\n",
       "KSECwUWc7dAWs64ZliGSdwoSSawecHBjynMbgX7BZlmYfXSE+toMj7+f4Eo+UNpS2xLYuqaZ\r\n",
       "59cQ3EmRDLvXROJAQSKJNRpemwzUAEcbf04mWCoeWBdmHz3hwDn3wQ1pA3BNsLmzpbYOM74O\r\n",
       "p5YABxofS4CJwOwgky7YNSYSZwoSSayfw8MzYMt0glvcTgceB8YHX/R/HWYfV8OfFmd4/EXA\r\n",
       "KDgMfNRS23r3ld+CH70M3o/grGlBsI9TY2Aq7qczLEMk73SxXWKtxXkkZiUEq58MB5xgXcaX\r\n",
       "cG8Is/9FZn2+Ax+9BZbOuvLrga8A78O8avfpoV9o1h/4NtAH+Bh4HvdN5zbTxXZJBk1IlNjL\r\n",
       "aEJimmaZvbEA7lxLcL+SluwhWEF4NhwbB71x35PtmhQkkhQatSUCzIR774btQwlmrF/IeoIQ\r\n",
       "mQo+DiblIkREkqY43wWI5J378Z+aDbkKVo+FfjcRTDb8HMGorP0EAbKY4IL+s9BwD0zDfWn+\r\n",
       "ihaJD3VtSaxdjK6tJgcr2w3f/w089iaUb+LTIb7XAncB90NNe3gE95ZOXiKWoq4tSQZdI5HY\r\n",
       "u6hB8ulBK4CRwOeBy4CDwFZgGe7/zPnxUZBIcihIJPbyEiQxoCCRpNDFdhERiUxBIiIikShI\r\n",
       "REQkEgWJiIhEoiAREZFIFCQiIhKJgkRERCJRkIiISCQKEhERiURBIiIikShIREQkEgWJiIhE\r\n",
       "oiAREZFIFCQiIhKJgkRERCJRkEgimNnH+a5BRJqnIJGk6JXvAkSkeQoSERGJREEiIiKRFOe7\r\n",
       "AJE0NJiZ57sIETmbgkSSooFzP69b3b13PorJtsbBBL2aPNWQp1JE0maAu7vluxCR5phZq/58\r\n",
       "tvb3L/FnZm5APTozERGRzDT8D2Zx7iMU42H1AAAAAElFTkSuQmCC\r\n",
       "\"/></code>"
      ],
      "text/plain": [
       "(pict '(prog #<procedure:...rivate/utils.rkt:1274:8> 64.24221235656299) 401.5138229456235 64.24221235656299 32.121106178281494 32.121106178281494 (list (child (pict '(picture 93.748224 14.999716 (put 46.874112 7.499858 #0=(prog #<procedure:...erber-viewer.rkt:162:18> 0))) 93.748224 14.999716 7.499858 7.499858 (list (child (pict #0# 0 0 0 0 '() #f #f) 46.874112 7.499858 1 1 0 0)) #f #f) 0 0 4.282895246587535 4.282895246587535 0 0)) #f #f)"
      ]
     },
     "execution_count": 4,
     "metadata": {},
     "output_type": "execute_result"
    }
   ],
   "source": [
    "(footprint->pict (fp-kailh-socket 6.25))"
   ]
  },
  {
   "cell_type": "markdown",
   "metadata": {},
   "source": [
    "# test fp sexp export drill specs"
   ]
  },
  {
   "cell_type": "code",
   "execution_count": 6,
   "metadata": {},
   "outputs": [],
   "source": [
    "(putenv \"BHDL_LIBRARY_PATH\" \"~/bhdl/bhdl-footprints\")\n",
    "(require bhdl)\n",
    "(require \"library-IC.rkt\"\n",
    "         \"fp-easyeda.rkt\")"
   ]
  },
  {
   "cell_type": "code",
   "execution_count": 2,
   "metadata": {},
   "outputs": [
    {
     "data": {
      "text/html": [
       "<code>#&lt;procedure:kailh-socket-out&gt;</code>"
      ],
      "text/plain": [
       "#<procedure:kailh-socket-out>"
      ]
     },
     "execution_count": 2,
     "metadata": {},
     "output_type": "execute_result"
    }
   ],
   "source": [
    "kailh-socket"
   ]
  },
  {
   "cell_type": "code",
   "execution_count": 10,
   "metadata": {},
   "outputs": [
    {
     "data": {
      "text/html": [
       "<code>'#s(footprint (#s(line-spec -6.999986000000007 -5.999988000000002 -6.999986000000007 -6.999985999999993 0.150114) #s(line-spec -6.999986000000007 -6.999985999999993 -5.999988000000002 -6.999985999999993 0.150114) #s(line-spec -5.999988000000002 6.999986000000007 -6.999986000000007 6.999986000000007 0.150114) #s(line-spec -6.999986000000007 6.999986000000007 -6.999986000000007 5.999988000000016 0.150114) #s(line-spec 6.999986000000007 5.999988000000016 6.999986000000007 6.999986000000007 0.150114) #s(line-spec 6.999986000000007 6.999986000000007 5.999988000000002 6.999986000000007 0.150114) #s(line-spec 5.999988000000002 -6.999985999999993 6.999986000000007 -6.999985999999993 0.150114) #s(line-spec 6.999986000000007 -6.999985999999993 6.999986000000007 -5.999988000000002 0.150114) #s(line-spec -6.8999100000000055 6.8999100000000055 6.8999100000000055 6.8999100000000055 0.150114) #s(line-spec 6.8999100000000055 -6.899909999999991 -6.8999100000000055 -6.899909999999991 0.150114) #s(line-spec 6.8999100000000055 -6.899909999999991 6.8999100000000055 6.8999100000000055 0.150114) #s(line-spec -6.8999100000000055 6.8999100000000055 -6.8999100000000055 -6.899909999999991 0.150114) #s(line-spec -7.499858000000003 -7.499857999999989 7.499857999999989 -7.499857999999989 0.150114) #s(line-spec 7.499857999999989 -7.499857999999989 7.499857999999989 7.499858000000003 0.150114) #s(line-spec 7.499857999999989 7.499858000000003 -7.499858000000003 7.499858000000003 0.150114) #s(line-spec -7.499858000000003 7.499858000000003 -7.499858000000003 -7.499857999999989 0.150114) #s(line-spec -7.499858000000003 -7.499857999999989 7.499857999999989 -7.499857999999989 0.150114) #s(line-spec 7.499857999999989 -7.499857999999989 7.499857999999989 7.499858000000003 0.150114) #s(line-spec 7.499857999999989 7.499858000000003 -7.499858000000003 7.499858000000003 0.150114) #s(line-spec -7.499858000000003 7.499858000000003 -7.499858000000003 -7.499857999999989 0.150114)) (#s(pad-spec 1 6.290056000000007 -5.079999999999998 smd rect (2.549906 2.499868) (0) #&lt;void&gt;) #s(pad-spec 2 -7.560056000000003 -2.539999999999992 smd rect (2.549906 2.499868) (0) #&lt;void&gt;)) (#s(pad-spec \"\" 2.539999999999992 -5.079999999999998 thru_hole circle (2.99974 2.99974) (2.99974) multi) #s(pad-spec \"\" -3.8100000000000023 -2.539999999999992 thru_hole circle (2.99974 2.99974) (2.99974) multi) #s(pad-spec \"\" 0.0 0.0 thru_hole circle (3.9878 3.9878) (3.9878) multi) #s(pad-spec \"\" 5.079999999999998 0.0 thru_hole circle (1.7018 1.7018) (1.7018) multi) #s(pad-spec \"\" -5.079999999999998 0.0 thru_hole circle (1.7018 1.7018) (1.7018) multi)))</code>"
      ],
      "text/plain": [
       "'#s(footprint (#s(line-spec -6.999986000000007 -5.999988000000002 -6.999986000000007 -6.999985999999993 0.150114) #s(line-spec -6.999986000000007 -6.999985999999993 -5.999988000000002 -6.999985999999993 0.150114) #s(line-spec -5.999988000000002 6.999986000000007 -6.999986000000007 6.999986000000007 0.150114) #s(line-spec -6.999986000000007 6.999986000000007 -6.999986000000007 5.999988000000016 0.150114) #s(line-spec 6.999986000000007 5.999988000000016 6.999986000000007 6.999986000000007 0.150114) #s(line-spec 6.999986000000007 6.999986000000007 5.999988000000002 6.999986000000007 0.150114) #s(line-spec 5.999988000000002 -6.999985999999993 6.999986000000007 -6.999985999999993 0.150114) #s(line-spec 6.999986000000007 -6.999985999999993 6.999986000000007 -5.999988000000002 0.150114) #s(line-spec -6.8999100000000055 6.8999100000000055 6.8999100000000055 6.8999100000000055 0.150114) #s(line-spec 6.8999100000000055 -6.899909999999991 -6.8999100000000055 -6.899909999999991 0.150114) #s(line-spec 6.8999100000000055 -6.899909999999991 6.8999100000000055 6.8999100000000055 0.150114) #s(line-spec -6.8999100000000055 6.8999100000000055 -6.8999100000000055 -6.899909999999991 0.150114) #s(line-spec -7.499858000000003 -7.499857999999989 7.499857999999989 -7.499857999999989 0.150114) #s(line-spec 7.499857999999989 -7.499857999999989 7.499857999999989 7.499858000000003 0.150114) #s(line-spec 7.499857999999989 7.499858000000003 -7.499858000000003 7.499858000000003 0.150114) #s(line-spec -7.499858000000003 7.499858000000003 -7.499858000000003 -7.499857999999989 0.150114) #s(line-spec -7.499858000000003 -7.499857999999989 7.499857999999989 -7.499857999999989 0.150114) #s(line-spec 7.499857999999989 -7.499857999999989 7.499857999999989 7.499858000000003 0.150114) #s(line-spec 7.499857999999989 7.499858000000003 -7.499858000000003 7.499858000000003 0.150114) #s(line-spec -7.499858000000003 7.499858000000003 -7.499858000000003 -7.499857999999989 0.150114)) (#s(pad-spec 1 6.290056000000007 -5.079999999999998 smd rect (2.549906 2.499868) (0) #<void>) #s(pad-spec 2 -7.560056000000003 -2.539999999999992 smd rect (2.549906 2.499868) (0) #<void>)) (#s(pad-spec \"\" 2.539999999999992 -5.079999999999998 thru_hole circle (2.99974 2.99974) (2.99974) multi) #s(pad-spec \"\" -3.8100000000000023 -2.539999999999992 thru_hole circle (2.99974 2.99974) (2.99974) multi) #s(pad-spec \"\" 0.0 0.0 thru_hole circle (3.9878 3.9878) (3.9878) multi) #s(pad-spec \"\" 5.079999999999998 0.0 thru_hole circle (1.7018 1.7018) (1.7018) multi) #s(pad-spec \"\" -5.079999999999998 0.0 thru_hole circle (1.7018 1.7018) (1.7018) multi)))"
      ]
     },
     "execution_count": 10,
     "metadata": {},
     "output_type": "execute_result"
    }
   ],
   "source": [
    "(fp-kailh-socket 1)"
   ]
  },
  {
   "cell_type": "code",
   "execution_count": 11,
   "metadata": {},
   "outputs": [
    {
     "data": {
      "text/html": [
       "<code>'#s(IC \"kailh-socket\" \"U\" \"\" () (#s(FpSpec 1 #s(footprint (#s(line-spec -6.999986000000007 -5.999988000000002 -6.999986000000007 -6.999985999999993 0.150114) #s(line-spec -6.999986000000007 -6.999985999999993 -5.999988000000002 -6.999985999999993 0.150114) #s(line-spec -5.999988000000002 6.999986000000007 -6.999986000000007 6.999986000000007 0.150114) #s(line-spec -6.999986000000007 6.999986000000007 -6.999986000000007 5.999988000000016 0.150114) #s(line-spec 6.999986000000007 5.999988000000016 6.999986000000007 6.999986000000007 0.150114) #s(line-spec 6.999986000000007 6.999986000000007 5.999988000000002 6.999986000000007 0.150114) #s(line-spec 5.999988000000002 -6.999985999999993 6.999986000000007 -6.999985999999993 0.150114) #s(line-spec 6.999986000000007 -6.999985999999993 6.999986000000007 -5.999988000000002 0.150114) #s(line-spec -6.8999100000000055 6.8999100000000055 6.8999100000000055 6.8999100000000055 0.150114) #s(line-spec 6.8999100000000055 -6.899909999999991 -6.8999100000000055 -6.899909999999991 0.150114) #s(line-spec 6.8999100000000055 -6.899909999999991 6.8999100000000055 6.8999100000000055 0.150114) #s(line-spec -6.8999100000000055 6.8999100000000055 -6.8999100000000055 -6.899909999999991 0.150114) #s(line-spec -7.499858000000003 -7.499857999999989 7.499857999999989 -7.499857999999989 0.150114) #s(line-spec 7.499857999999989 -7.499857999999989 7.499857999999989 7.499858000000003 0.150114) #s(line-spec 7.499857999999989 7.499858000000003 -7.499858000000003 7.499858000000003 0.150114) #s(line-spec -7.499858000000003 7.499858000000003 -7.499858000000003 -7.499857999999989 0.150114) #s(line-spec -7.499858000000003 -7.499857999999989 7.499857999999989 -7.499857999999989 0.150114) #s(line-spec 7.499857999999989 -7.499857999999989 7.499857999999989 7.499858000000003 0.150114) #s(line-spec 7.499857999999989 7.499858000000003 -7.499858000000003 7.499858000000003 0.150114) #s(line-spec -7.499858000000003 7.499858000000003 -7.499858000000003 -7.499857999999989 0.150114)) (#s(pad-spec 1 6.290056000000007 -5.079999999999998 smd rect (2.549906 2.499868) (0) #&lt;void&gt;) #s(pad-spec 2 -7.560056000000003 -2.539999999999992 smd rect (2.549906 2.499868) (0) #&lt;void&gt;)) (#s(pad-spec \"\" 2.539999999999992 -5.079999999999998 thru_hole circle (2.99974 2.99974) (2.99974) multi) #s(pad-spec \"\" -3.8100000000000023 -2.539999999999992 thru_hole circle (2.99974 2.99974) (2.99974) multi) #s(pad-spec \"\" 0.0 0.0 thru_hole circle (3.9878 3.9878) (3.9878) multi) #s(pad-spec \"\" 5.079999999999998 0.0 thru_hole circle (1.7018 1.7018) (1.7018) multi) #s(pad-spec \"\" -5.079999999999998 0.0 thru_hole circle (1.7018 1.7018) (1.7018) multi))) (1 2)) #s(FpSpec 1.25 #s(footprint (#s(line-spec -6.999986000000007 -5.999988000000002 -6.999986000000007 -6.999985999999993 0.150114) #s(line-spec -6.999986000000007 -6.999985999999993 -5.999988000000002 -6.999985999999993 0.150114) #s(line-spec -5.999988000000002 6.999986000000007 -6.999986000000007 6.999986000000007 0.150114) #s(line-spec -6.999986000000007 6.999986000000007 -6.999986000000007 5.999988000000016 0.150114) #s(line-spec 6.999986000000007 5.999988000000016 6.999986000000007 6.999986000000007 0.150114) #s(line-spec 6.999986000000007 6.999986000000007 5.999988000000002 6.999986000000007 0.150114) #s(line-spec 5.999988000000002 -6.999985999999993 6.999986000000007 -6.999985999999993 0.150114) #s(line-spec 6.999986000000007 -6.999985999999993 6.999986000000007 -5.999988000000002 0.150114) #s(line-spec -6.8999100000000055 6.8999100000000055 6.8999100000000055 6.8999100000000055 0.150114) #s(line-spec 6.8999100000000055 -6.899909999999991 -6.8999100000000055 -6.899909999999991 0.150114) #s(line-spec 6.8999100000000055 -6.899909999999991 6.8999100000000055 6.8999100000000055 0.150114) #s(line-spec -6.8999100000000055 6.8999100000000055 -6.8999100000000055 -6.899909999999991 0.150114) #s(line-spec -7.499858000000003 -7.499857999999989 7.499857999999989 -7.499857999999989 0.150114) #s(line-spec 7.499857999999989 -7.499857999999989 7.499857999999989 7.499858000000003 0.150114) #s(line-spec 7.499857999999989 7.499858000000003 -7.499858000000003 7.499858000000003 0.150114) #s(line-spec -7.499858000000003 7.499858000000003 -7.499858000000003 -7.499857999999989 0.150114) #s(line-spec -9.374822500000002 -7.499857999999989 9.374822499999988 -7.499857999999989 0.150114) #s(line-spec 9.374822499999988 -7.499857999999989 9.374822499999988 7.499858000000003 0.150114) #s(line-spec 9.374822499999988 7.499858000000003 -9.374822500000002 7.499858000000003 0.150114) #s(line-spec -9.374822500000002 7.499858000000003 -9.374822500000002 -7.499857999999989 0.150114)) (#s(pad-spec 1 6.290056000000007 -5.079999999999998 smd rect (2.549906 2.499868) (0) #&lt;void&gt;) #s(pad-spec 2 -7.560056000000003 -2.539999999999992 smd rect (2.549906 2.499868) (0) #&lt;void&gt;)) (#s(pad-spec \"\" 2.539999999999992 -5.079999999999998 thru_hole circle (2.99974 2.99974) (2.99974) multi) #s(pad-spec \"\" -3.8100000000000023 -2.539999999999992 thru_hole circle (2.99974 2.99974) (2.99974) multi) #s(pad-spec \"\" 0.0 0.0 thru_hole circle (3.9878 3.9878) (3.9878) multi) #s(pad-spec \"\" 5.079999999999998 0.0 thru_hole circle (1.7018 1.7018) (1.7018) multi) #s(pad-spec \"\" -5.079999999999998 0.0 thru_hole circle (1.7018 1.7018) (1.7018) multi))) (1 2)) #s(FpSpec 1.5 #s(footprint (#s(line-spec -6.999986000000007 -5.999988000000002 -6.999986000000007 -6.999985999999993 0.150114) #s(line-spec -6.999986000000007 -6.999985999999993 -5.999988000000002 -6.999985999999993 0.150114) #s(line-spec -5.999988000000002 6.999986000000007 -6.999986000000007 6.999986000000007 0.150114) #s(line-spec -6.999986000000007 6.999986000000007 -6.999986000000007 5.999988000000016 0.150114) #s(line-spec 6.999986000000007 5.999988000000016 6.999986000000007 6.999986000000007 0.150114) #s(line-spec 6.999986000000007 6.999986000000007 5.999988000000002 6.999986000000007 0.150114) #s(line-spec 5.999988000000002 -6.999985999999993 6.999986000000007 -6.999985999999993 0.150114) #s(line-spec 6.999986000000007 -6.999985999999993 6.999986000000007 -5.999988000000002 0.150114) #s(line-spec -6.8999100000000055 6.8999100000000055 6.8999100000000055 6.8999100000000055 0.150114) #s(line-spec 6.8999100000000055 -6.899909999999991 -6.8999100000000055 -6.899909999999991 0.150114) #s(line-spec 6.8999100000000055 -6.899909999999991 6.8999100000000055 6.8999100000000055 0.150114) #s(line-spec -6.8999100000000055 6.8999100000000055 -6.8999100000000055 -6.899909999999991 0.150114) #s(line-spec -7.499858000000003 -7.499857999999989 7.499857999999989 -7.499857999999989 0.150114) #s(line-spec 7.499857999999989 -7.499857999999989 7.499857999999989 7.499858000000003 0.150114) #s(line-spec 7.499857999999989 7.499858000000003 -7.499858000000003 7.499858000000003 0.150114) #s(line-spec -7.499858000000003 7.499858000000003 -7.499858000000003 -7.499857999999989 0.150114) #s(line-spec -11.249787000000001 -7.499857999999989 11.249786999999987 -7.499857999999989 0.150114) #s(line-spec 11.249786999999987 -7.499857999999989 11.249786999999987 7.499858000000003 0.150114) #s(line-spec 11.249786999999987 7.499858000000003 -11.249787000000001 7.499858000000003 0.150114) #s(line-spec -11.249787000000001 7.499858000000003 -11.249787000000001 -7.499857999999989 0.150114)) (#s(pad-spec 1 6.290056000000007 -5.079999999999998 smd rect (2.549906 2.499868) (0) #&lt;void&gt;) #s(pad-spec 2 -7.560056000000003 -2.539999999999992 smd rect (2.549906 2.499868) (0) #&lt;void&gt;)) (#s(pad-spec \"\" 2.539999999999992 -5.079999999999998 thru_hole circle (2.99974 2.99974) (2.99974) multi) #s(pad-spec \"\" -3.8100000000000023 -2.539999999999992 thru_hole circle (2.99974 2.99974) (2.99974) multi) #s(pad-spec \"\" 0.0 0.0 thru_hole circle (3.9878 3.9878) (3.9878) multi) #s(pad-spec \"\" 5.079999999999998 0.0 thru_hole circle (1.7018 1.7018) (1.7018) multi) #s(pad-spec \"\" -5.079999999999998 0.0 thru_hole circle (1.7018 1.7018) (1.7018) multi))) (1 2)) #s(FpSpec 1.75 #s(footprint (#s(line-spec -6.999986000000007 -5.999988000000002 -6.999986000000007 -6.999985999999993 0.150114) #s(line-spec -6.999986000000007 -6.999985999999993 -5.999988000000002 -6.999985999999993 0.150114) #s(line-spec -5.999988000000002 6.999986000000007 -6.999986000000007 6.999986000000007 0.150114) #s(line-spec -6.999986000000007 6.999986000000007 -6.999986000000007 5.999988000000016 0.150114) #s(line-spec 6.999986000000007 5.999988000000016 6.999986000000007 6.999986000000007 0.150114) #s(line-spec 6.999986000000007 6.999986000000007 5.999988000000002 6.999986000000007 0.150114) #s(line-spec 5.999988000000002 -6.999985999999993 6.999986000000007 -6.999985999999993 0.150114) #s(line-spec 6.999986000000007 -6.999985999999993 6.999986000000007 -5.999988000000002 0.150114) #s(line-spec -6.8999100000000055 6.8999100000000055 6.8999100000000055 6.8999100000000055 0.150114) #s(line-spec 6.8999100000000055 -6.899909999999991 -6.8999100000000055 -6.899909999999991 0.150114) #s(line-spec 6.8999100000000055 -6.899909999999991 6.8999100000000055 6.8999100000000055 0.150114) #s(line-spec -6.8999100000000055 6.8999100000000055 -6.8999100000000055 -6.899909999999991 0.150114) #s(line-spec -7.499858000000003 -7.499857999999989 7.499857999999989 -7.499857999999989 0.150114) #s(line-spec 7.499857999999989 -7.499857999999989 7.499857999999989 7.499858000000003 0.150114) #s(line-spec 7.499857999999989 7.499858000000003 -7.499858000000003 7.499858000000003 0.150114) #s(line-spec -7.499858000000003 7.499858000000003 -7.499858000000003 -7.499857999999989 0.150114) #s(line-spec -13.1247515 -7.499857999999989 13.124751499999986 -7.499857999999989 0.150114) #s(line-spec 13.124751499999986 -7.499857999999989 13.124751499999986 7.499858000000003 0.150114) #s(line-spec 13.124751499999986 7.499858000000003 -13.1247515 7.499858000000003 0.150114) #s(line-spec -13.1247515 7.499858000000003 -13.1247515 -7.499857999999989 0.150114)) (#s(pad-spec 1 6.290056000000007 -5.079999999999998 smd rect (2.549906 2.499868) (0) #&lt;void&gt;) #s(pad-spec 2 -7.560056000000003 -2.539999999999992 smd rect (2.549906 2.499868) (0) #&lt;void&gt;)) (#s(pad-spec \"\" 2.539999999999992 -5.079999999999998 thru_hole circle (2.99974 2.99974) (2.99974) multi) #s(pad-spec \"\" -3.8100000000000023 -2.539999999999992 thru_hole circle (2.99974 2.99974) (2.99974) multi) #s(pad-spec \"\" 0.0 0.0 thru_hole circle (3.9878 3.9878) (3.9878) multi) #s(pad-spec \"\" 5.079999999999998 0.0 thru_hole circle (1.7018 1.7018) (1.7018) multi) #s(pad-spec \"\" -5.079999999999998 0.0 thru_hole circle (1.7018 1.7018) (1.7018) multi))) (1 2)) #s(FpSpec 2 #s(footprint (#s(line-spec -6.999986000000007 -5.999988000000002 -6.999986000000007 -6.999985999999993 0.150114) #s(line-spec -6.999986000000007 -6.999985999999993 -5.999988000000002 -6.999985999999993 0.150114) #s(line-spec -5.999988000000002 6.999986000000007 -6.999986000000007 6.999986000000007 0.150114) #s(line-spec -6.999986000000007 6.999986000000007 -6.999986000000007 5.999988000000016 0.150114) #s(line-spec 6.999986000000007 5.999988000000016 6.999986000000007 6.999986000000007 0.150114) #s(line-spec 6.999986000000007 6.999986000000007 5.999988000000002 6.999986000000007 0.150114) #s(line-spec 5.999988000000002 -6.999985999999993 6.999986000000007 -6.999985999999993 0.150114) #s(line-spec 6.999986000000007 -6.999985999999993 6.999986000000007 -5.999988000000002 0.150114) #s(line-spec -6.8999100000000055 6.8999100000000055 6.8999100000000055 6.8999100000000055 0.150114) #s(line-spec 6.8999100000000055 -6.899909999999991 -6.8999100000000055 -6.899909999999991 0.150114) #s(line-spec 6.8999100000000055 -6.899909999999991 6.8999100000000055 6.8999100000000055 0.150114) #s(line-spec -6.8999100000000055 6.8999100000000055 -6.8999100000000055 -6.899909999999991 0.150114) #s(line-spec -7.499858000000003 -7.499857999999989 7.499857999999989 -7.499857999999989 0.150114) #s(line-spec 7.499857999999989 -7.499857999999989 7.499857999999989 7.499858000000003 0.150114) #s(line-spec 7.499857999999989 7.499858000000003 -7.499858000000003 7.499858000000003 0.150114) #s(line-spec -7.499858000000003 7.499858000000003 -7.499858000000003 -7.499857999999989 0.150114) #s(line-spec -14.999716 -7.499857999999989 14.999715999999985 -7.499857999999989 0.150114) #s(line-spec 14.999715999999985 -7.499857999999989 14.999715999999985 7.499858000000003 0.150114) #s(line-spec 14.999715999999985 7.499858000000003 -14.999716 7.499858000000003 0.150114) #s(line-spec -14.999716 7.499858000000003 -14.999716 -7.499857999999989 0.150114)) (#s(pad-spec 1 6.290056000000007 -5.079999999999998 smd rect (2.549906 2.499868) (0) #&lt;void&gt;) #s(pad-spec 2 -7.560056000000003 -2.539999999999992 smd rect (2.549906 2.499868) (0) #&lt;void&gt;)) (#s(pad-spec \"\" 2.539999999999992 -5.079999999999998 thru_hole circle (2.99974 2.99974) (2.99974) multi) #s(pad-spec \"\" -3.8100000000000023 -2.539999999999992 thru_hole circle (2.99974 2.99974) (2.99974) multi) #s(pad-spec \"\" 0.0 0.0 thru_hole circle (3.9878 3.9878) (3.9878) multi) #s(pad-spec \"\" 5.079999999999998 0.0 thru_hole circle (1.7018 1.7018) (1.7018) multi) #s(pad-spec \"\" -5.079999999999998 0.0 thru_hole circle (1.7018 1.7018) (1.7018) multi))) (1 2)) #s(FpSpec 2.25 #s(footprint (#s(line-spec -6.999986000000007 -5.999988000000002 -6.999986000000007 -6.999985999999993 0.150114) #s(line-spec -6.999986000000007 -6.999985999999993 -5.999988000000002 -6.999985999999993 0.150114) #s(line-spec -5.999988000000002 6.999986000000007 -6.999986000000007 6.999986000000007 0.150114) #s(line-spec -6.999986000000007 6.999986000000007 -6.999986000000007 5.999988000000016 0.150114) #s(line-spec 6.999986000000007 5.999988000000016 6.999986000000007 6.999986000000007 0.150114) #s(line-spec 6.999986000000007 6.999986000000007 5.999988000000002 6.999986000000007 0.150114) #s(line-spec 5.999988000000002 -6.999985999999993 6.999986000000007 -6.999985999999993 0.150114) #s(line-spec 6.999986000000007 -6.999985999999993 6.999986000000007 -5.999988000000002 0.150114) #s(line-spec -6.8999100000000055 6.8999100000000055 6.8999100000000055 6.8999100000000055 0.150114) #s(line-spec 6.8999100000000055 -6.899909999999991 -6.8999100000000055 -6.899909999999991 0.150114) #s(line-spec 6.8999100000000055 -6.899909999999991 6.8999100000000055 6.8999100000000055 0.150114) #s(line-spec -6.8999100000000055 6.8999100000000055 -6.8999100000000055 -6.899909999999991 0.150114) #s(line-spec -7.499858000000003 -7.499857999999989 7.499857999999989 -7.499857999999989 0.150114) #s(line-spec 7.499857999999989 -7.499857999999989 7.499857999999989 7.499858000000003 0.150114) #s(line-spec 7.499857999999989 7.499858000000003 -7.499858000000003 7.499858000000003 0.150114) #s(line-spec -7.499858000000003 7.499858000000003 -7.499858000000003 -7.499857999999989 0.150114) #s(line-spec -16.874680499999997 -7.499857999999989 16.874680499999982 -7.499857999999989 0.150114) #s(line-spec 16.874680499999982 -7.499857999999989 16.874680499999982 7.499858000000003 0.150114) #s(line-spec 16.874680499999982 7.499858000000003 -16.874680499999997 7.499858000000003 0.150114) #s(line-spec -16.874680499999997 7.499858000000003 -16.874680499999997 -7.499857999999989 0.150114)) (#s(pad-spec 1 6.290056000000007 -5.079999999999998 smd rect (2.549906 2.499868) (0) #&lt;void&gt;) #s(pad-spec 2 -7.560056000000003 -2.539999999999992 smd rect (2.549906 2.499868) (0) #&lt;void&gt;)) (#s(pad-spec \"\" 2.539999999999992 -5.079999999999998 thru_hole circle (2.99974 2.99974) (2.99974) multi) #s(pad-spec \"\" -3.8100000000000023 -2.539999999999992 thru_hole circle (2.99974 2.99974) (2.99974) multi) #s(pad-spec \"\" 0.0 0.0 thru_hole circle (3.9878 3.9878) (3.9878) multi) #s(pad-spec \"\" 5.079999999999998 0.0 thru_hole circle (1.7018 1.7018) (1.7018) multi) #s(pad-spec \"\" -5.079999999999998 0.0 thru_hole circle (1.7018 1.7018) (1.7018) multi))) (1 2)) #s(FpSpec 2.75 #s(footprint (#s(line-spec -6.999986000000007 -5.999988000000002 -6.999986000000007 -6.999985999999993 0.150114) #s(line-spec -6.999986000000007 -6.999985999999993 -5.999988000000002 -6.999985999999993 0.150114) #s(line-spec -5.999988000000002 6.999986000000007 -6.999986000000007 6.999986000000007 0.150114) #s(line-spec -6.999986000000007 6.999986000000007 -6.999986000000007 5.999988000000016 0.150114) #s(line-spec 6.999986000000007 5.999988000000016 6.999986000000007 6.999986000000007 0.150114) #s(line-spec 6.999986000000007 6.999986000000007 5.999988000000002 6.999986000000007 0.150114) #s(line-spec 5.999988000000002 -6.999985999999993 6.999986000000007 -6.999985999999993 0.150114) #s(line-spec 6.999986000000007 -6.999985999999993 6.999986000000007 -5.999988000000002 0.150114) #s(line-spec -6.8999100000000055 6.8999100000000055 6.8999100000000055 6.8999100000000055 0.150114) #s(line-spec 6.8999100000000055 -6.899909999999991 -6.8999100000000055 -6.899909999999991 0.150114) #s(line-spec 6.8999100000000055 -6.899909999999991 6.8999100000000055 6.8999100000000055 0.150114) #s(line-spec -6.8999100000000055 6.8999100000000055 -6.8999100000000055 -6.899909999999991 0.150114) #s(line-spec -7.499858000000003 -7.499857999999989 7.499857999999989 -7.499857999999989 0.150114) #s(line-spec 7.499857999999989 -7.499857999999989 7.499857999999989 7.499858000000003 0.150114) #s(line-spec 7.499857999999989 7.499858000000003 -7.499858000000003 7.499858000000003 0.150114) #s(line-spec -7.499858000000003 7.499858000000003 -7.499858000000003 -7.499857999999989 0.150114) #s(line-spec -20.6246095 -7.499857999999989 20.624609499999984 -7.499857999999989 0.150114) #s(line-spec 20.624609499999984 -7.499857999999989 20.624609499999984 7.499858000000003 0.150114) #s(line-spec 20.624609499999984 7.499858000000003 -20.6246095 7.499858000000003 0.150114) #s(line-spec -20.6246095 7.499858000000003 -20.6246095 -7.499857999999989 0.150114)) (#s(pad-spec 1 6.290056000000007 -5.079999999999998 smd rect (2.549906 2.499868) (0) #&lt;void&gt;) #s(pad-spec 2 -7.560056000000003 -2.539999999999992 smd rect (2.549906 2.499868) (0) #&lt;void&gt;)) (#s(pad-spec \"\" 2.539999999999992 -5.079999999999998 thru_hole circle (2.99974 2.99974) (2.99974) multi) #s(pad-spec \"\" -3.8100000000000023 -2.539999999999992 thru_hole circle (2.99974 2.99974) (2.99974) multi) #s(pad-spec \"\" 0.0 0.0 thru_hole circle (3.9878 3.9878) (3.9878) multi) #s(pad-spec \"\" 5.079999999999998 0.0 thru_hole circle (1.7018 1.7018) (1.7018) multi) #s(pad-spec \"\" -5.079999999999998 0.0 thru_hole circle (1.7018 1.7018) (1.7018) multi))) (1 2)) #s(FpSpec 6.25 #s(footprint (#s(line-spec -6.999986000000007 -5.999988000000002 -6.999986000000007 -6.999985999999993 0.150114) #s(line-spec -6.999986000000007 -6.999985999999993 -5.999988000000002 -6.999985999999993 0.150114) #s(line-spec -5.999988000000002 6.999986000000007 -6.999986000000007 6.999986000000007 0.150114) #s(line-spec -6.999986000000007 6.999986000000007 -6.999986000000007 5.999988000000016 0.150114) #s(line-spec 6.999986000000007 5.999988000000016 6.999986000000007 6.999986000000007 0.150114) #s(line-spec 6.999986000000007 6.999986000000007 5.999988000000002 6.999986000000007 0.150114) #s(line-spec 5.999988000000002 -6.999985999999993 6.999986000000007 -6.999985999999993 0.150114) #s(line-spec 6.999986000000007 -6.999985999999993 6.999986000000007 -5.999988000000002 0.150114) #s(line-spec -6.8999100000000055 6.8999100000000055 6.8999100000000055 6.8999100000000055 0.150114) #s(line-spec 6.8999100000000055 -6.899909999999991 -6.8999100000000055 -6.899909999999991 0.150114) #s(line-spec 6.8999100000000055 -6.899909999999991 6.8999100000000055 6.8999100000000055 0.150114) #s(line-spec -6.8999100000000055 6.8999100000000055 -6.8999100000000055 -6.899909999999991 0.150114) #s(line-spec -7.499858000000003 -7.499857999999989 7.499857999999989 -7.499857999999989 0.150114) #s(line-spec 7.499857999999989 -7.499857999999989 7.499857999999989 7.499858000000003 0.150114) #s(line-spec 7.499857999999989 7.499858000000003 -7.499858000000003 7.499858000000003 0.150114) #s(line-spec -7.499858000000003 7.499858000000003 -7.499858000000003 -7.499857999999989 0.150114) #s(line-spec -46.87411249999998 -7.499857999999989 46.87411249999997 -7.499857999999989 0.150114) #s(line-spec 46.87411249999997 -7.499857999999989 46.87411249999997 7.499858000000003 0.150114) #s(line-spec 46.87411249999997 7.499858000000003 -46.87411249999998 7.499858000000003 0.150114) #s(line-spec -46.87411249999998 7.499858000000003 -46.87411249999998 -7.499857999999989 0.150114)) (#s(pad-spec 1 6.290056000000007 -5.079999999999998 smd rect (2.549906 2.499868) (0) #&lt;void&gt;) #s(pad-spec 2 -7.560056000000003 -2.539999999999992 smd rect (2.549906 2.499868) (0) #&lt;void&gt;)) (#s(pad-spec \"\" 2.539999999999992 -5.079999999999998 thru_hole circle (2.99974 2.99974) (2.99974) multi) #s(pad-spec \"\" -3.8100000000000023 -2.539999999999992 thru_hole circle (2.99974 2.99974) (2.99974) multi) #s(pad-spec \"\" 0.0 0.0 thru_hole circle (3.9878 3.9878) (3.9878) multi) #s(pad-spec \"\" 5.079999999999998 0.0 thru_hole circle (1.7018 1.7018) (1.7018) multi) #s(pad-spec \"\" -5.079999999999998 0.0 thru_hole circle (1.7018 1.7018) (1.7018) multi))) (1 2))) 1 2)</code>"
      ],
      "text/plain": [
       "'#s(IC \"kailh-socket\" \"U\" \"\" () (#s(FpSpec 1 #s(footprint (#2=#s(line-spec -6.999986000000007 -5.999988000000002 -6.999986000000007 -6.999985999999993 0.150114) #3=#s(line-spec -6.999986000000007 -6.999985999999993 -5.999988000000002 -6.999985999999993 0.150114) #4=#s(line-spec -5.999988000000002 6.999986000000007 -6.999986000000007 6.999986000000007 0.150114) #5=#s(line-spec -6.999986000000007 6.999986000000007 -6.999986000000007 5.999988000000016 0.150114) #6=#s(line-spec 6.999986000000007 5.999988000000016 6.999986000000007 6.999986000000007 0.150114) #7=#s(line-spec 6.999986000000007 6.999986000000007 5.999988000000002 6.999986000000007 0.150114) #8=#s(line-spec 5.999988000000002 -6.999985999999993 6.999986000000007 -6.999985999999993 0.150114) #9=#s(line-spec 6.999986000000007 -6.999985999999993 6.999986000000007 -5.999988000000002 0.150114) #10=#s(line-spec -6.8999100000000055 6.8999100000000055 6.8999100000000055 6.8999100000000055 0.150114) #11=#s(line-spec 6.8999100000000055 -6.899909999999991 -6.8999100000000055 -6.899909999999991 0.150114) #12=#s(line-spec 6.8999100000000055 -6.899909999999991 6.8999100000000055 6.8999100000000055 0.150114) #13=#s(line-spec -6.8999100000000055 6.8999100000000055 -6.8999100000000055 -6.899909999999991 0.150114) #14=#s(line-spec -7.499858000000003 -7.499857999999989 7.499857999999989 -7.499857999999989 0.150114) #15=#s(line-spec 7.499857999999989 -7.499857999999989 7.499857999999989 7.499858000000003 0.150114) #16=#s(line-spec 7.499857999999989 7.499858000000003 -7.499858000000003 7.499858000000003 0.150114) #17=#s(line-spec -7.499858000000003 7.499858000000003 -7.499858000000003 -7.499857999999989 0.150114) #s(line-spec -7.499858000000003 -7.499857999999989 7.499857999999989 -7.499857999999989 0.150114) #s(line-spec 7.499857999999989 -7.499857999999989 7.499857999999989 7.499858000000003 0.150114) #s(line-spec 7.499857999999989 7.499858000000003 -7.499858000000003 7.499858000000003 0.150114) #s(line-spec -7.499858000000003 7.499858000000003 -7.499858000000003 -7.499857999999989 0.150114)) #1=(#s(pad-spec 1 6.290056000000007 -5.079999999999998 smd rect (2.549906 2.499868) (0) #<void>) #s(pad-spec 2 -7.560056000000003 -2.539999999999992 smd rect (2.549906 2.499868) (0) #<void>)) #0=(#s(pad-spec \"\" 2.539999999999992 -5.079999999999998 thru_hole circle (2.99974 2.99974) (2.99974) multi) #s(pad-spec \"\" -3.8100000000000023 -2.539999999999992 thru_hole circle (2.99974 2.99974) (2.99974) multi) #s(pad-spec \"\" 0.0 0.0 thru_hole circle (3.9878 3.9878) (3.9878) multi) #s(pad-spec \"\" 5.079999999999998 0.0 thru_hole circle (1.7018 1.7018) (1.7018) multi) #s(pad-spec \"\" -5.079999999999998 0.0 thru_hole circle (1.7018 1.7018) (1.7018) multi))) (1 2)) #s(FpSpec 1.25 #s(footprint (#2# #3# #4# #5# #6# #7# #8# #9# #10# #11# #12# #13# #14# #15# #16# #17# #s(line-spec -9.374822500000002 -7.499857999999989 9.374822499999988 -7.499857999999989 0.150114) #s(line-spec 9.374822499999988 -7.499857999999989 9.374822499999988 7.499858000000003 0.150114) #s(line-spec 9.374822499999988 7.499858000000003 -9.374822500000002 7.499858000000003 0.150114) #s(line-spec -9.374822500000002 7.499858000000003 -9.374822500000002 -7.499857999999989 0.150114)) #1# #0#) (1 2)) #s(FpSpec 1.5 #s(footprint (#2# #3# #4# #5# #6# #7# #8# #9# #10# #11# #12# #13# #14# #15# #16# #17# #s(line-spec -11.249787000000001 -7.499857999999989 11.249786999999987 -7.499857999999989 0.150114) #s(line-spec 11.249786999999987 -7.499857999999989 11.249786999999987 7.499858000000003 0.150114) #s(line-spec 11.249786999999987 7.499858000000003 -11.249787000000001 7.499858000000003 0.150114) #s(line-spec -11.249787000000001 7.499858000000003 -11.249787000000001 -7.499857999999989 0.150114)) #1# #0#) (1 2)) #s(FpSpec 1.75 #s(footprint (#2# #3# #4# #5# #6# #7# #8# #9# #10# #11# #12# #13# #14# #15# #16# #17# #s(line-spec -13.1247515 -7.499857999999989 13.124751499999986 -7.499857999999989 0.150114) #s(line-spec 13.124751499999986 -7.499857999999989 13.124751499999986 7.499858000000003 0.150114) #s(line-spec 13.124751499999986 7.499858000000003 -13.1247515 7.499858000000003 0.150114) #s(line-spec -13.1247515 7.499858000000003 -13.1247515 -7.499857999999989 0.150114)) #1# #0#) (1 2)) #s(FpSpec 2 #s(footprint (#2# #3# #4# #5# #6# #7# #8# #9# #10# #11# #12# #13# #14# #15# #16# #17# #s(line-spec -14.999716 -7.499857999999989 14.999715999999985 -7.499857999999989 0.150114) #s(line-spec 14.999715999999985 -7.499857999999989 14.999715999999985 7.499858000000003 0.150114) #s(line-spec 14.999715999999985 7.499858000000003 -14.999716 7.499858000000003 0.150114) #s(line-spec -14.999716 7.499858000000003 -14.999716 -7.499857999999989 0.150114)) #1# #0#) (1 2)) #s(FpSpec 2.25 #s(footprint (#2# #3# #4# #5# #6# #7# #8# #9# #10# #11# #12# #13# #14# #15# #16# #17# #s(line-spec -16.874680499999997 -7.499857999999989 16.874680499999982 -7.499857999999989 0.150114) #s(line-spec 16.874680499999982 -7.499857999999989 16.874680499999982 7.499858000000003 0.150114) #s(line-spec 16.874680499999982 7.499858000000003 -16.874680499999997 7.499858000000003 0.150114) #s(line-spec -16.874680499999997 7.499858000000003 -16.874680499999997 -7.499857999999989 0.150114)) #1# #0#) (1 2)) #s(FpSpec 2.75 #s(footprint (#2# #3# #4# #5# #6# #7# #8# #9# #10# #11# #12# #13# #14# #15# #16# #17# #s(line-spec -20.6246095 -7.499857999999989 20.624609499999984 -7.499857999999989 0.150114) #s(line-spec 20.624609499999984 -7.499857999999989 20.624609499999984 7.499858000000003 0.150114) #s(line-spec 20.624609499999984 7.499858000000003 -20.6246095 7.499858000000003 0.150114) #s(line-spec -20.6246095 7.499858000000003 -20.6246095 -7.499857999999989 0.150114)) #1# #0#) (1 2)) #s(FpSpec 6.25 #s(footprint (#2# #3# #4# #5# #6# #7# #8# #9# #10# #11# #12# #13# #14# #15# #16# #17# #s(line-spec -46.87411249999998 -7.499857999999989 46.87411249999997 -7.499857999999989 0.150114) #s(line-spec 46.87411249999997 -7.499857999999989 46.87411249999997 7.499858000000003 0.150114) #s(line-spec 46.87411249999997 7.499858000000003 -46.87411249999998 7.499858000000003 0.150114) #s(line-spec -46.87411249999998 7.499858000000003 -46.87411249999998 -7.499857999999989 0.150114)) #1# #0#) (1 2))) 1 2)"
      ]
     },
     "execution_count": 11,
     "metadata": {},
     "output_type": "execute_result"
    }
   ],
   "source": [
    "(ICAtom-ic (kailh-socket 1))"
   ]
  },
  {
   "cell_type": "code",
   "execution_count": 4,
   "metadata": {
    "scrolled": true
   },
   "outputs": [
    {
     "name": "stdout",
     "output_type": "stream",
     "text": [
      "\"DEBUG: /var/tmp/PKGS-bhdl-lib-bhdl-private-library-io.rkt-99-15_15985354631598535463963\"\n"
     ]
    },
    {
     "data": {
      "text/html": [
       "<code>(ICAtom '#hash((1 . #&lt;Pin-137312-index-1&gt;) (fp-1 . #&lt;Pin-137312-index-1&gt;) (index-1 . #&lt;Pin-137312-index-1&gt;)) <img style=\"display: inline; vertical-align: baseline; padding: 0pt; margin: 0pt; border: 0pt\" src=\"data:image/png;base64,iVBORw0KGgoAAAANSUhEUgAAABAAAAAQCAYAAAAf8/9hAAAAmklEQVQ4jd2TwQ4CIQxE3xiM\r\n",
       "x/WTNv6C8X+9+DHe9i5x9iBsFlYNcnSShrTQoS2DgAcQ6EMUYNvqyZbksHJ+qSTa3mfHtgEM\r\n",
       "3IGTbb5ZlVM4Y1o3NsDTcK4JipJtXyW9aOt+QcChju8ae/6IPyDYvPsATgMrcGwlmODCm2kn\r\n",
       "3OrAImVJzZLOZwsp540WgjUWgt4PFYDYc3NCnAGefGCpK+6q2wAAAABJRU5ErkJggg==\r\n",
       "\"/> '#s(IC \"PinHeader\" \"U\" \"\" () (#s(FpSpec 1 #s(footprint (#s(line-spec -0.635 -1.27 1.27 -1.27 0.1) #s(line-spec 1.27 -1.27 1.27 1.27 0.1) #s(line-spec 1.27 1.27 -1.27 1.27 0.1) #s(line-spec -1.27 1.27 -1.27 -0.635 0.1) #s(line-spec -1.27 -0.635 -0.635 -1.27 0.1) #s(line-spec -1.33 1.33 1.33 1.33 0.12) #s(line-spec -1.33 1.27 -1.33 1.33 0.12) #s(line-spec 1.33 1.27 1.33 1.33 0.12) #s(line-spec -1.33 1.27 1.33 1.27 0.12) #s(line-spec -1.33 0 -1.33 -1.33 0.12) #s(line-spec -1.33 -1.33 0 -1.33 0.12) #s(line-spec -1.8 -1.8 -1.8 1.8 0.05) #s(line-spec -1.8 1.8 1.8 1.8 0.05) #s(line-spec 1.8 1.8 1.8 -1.8 0.05) #s(line-spec 1.8 -1.8 -1.8 -1.8 0.05)) (#s(pad-spec 1 0 0 thru_hole rect (1.7 1.7) (1.0) 1)) #f) (1)) #s(FpSpec 2 #s(footprint (#s(line-spec -0.635 -1.27 1.27 -1.27 0.1) #s(line-spec 1.27 -1.27 1.27 3.81 0.1) #s(line-spec 1.27 3.81 -1.27 3.81 0.1) #s(line-spec -1.27 3.81 -1.27 -0.635 0.1) #s(line-spec -1.27 -0.635 -0.635 -1.27 0.1) #s(line-spec -1.33 3.87 1.33 3.87 0.12) #s(line-spec -1.33 1.27 -1.33 3.87 0.12) #s(line-spec 1.33 1.27 1.33 3.87 0.12) #s(line-spec -1.33 1.27 1.33 1.27 0.12) #s(line-spec -1.33 0 -1.33 -1.33 0.12) #s(line-spec -1.33 -1.33 0 -1.33 0.12) #s(line-spec -1.8 -1.8 -1.8 4.35 0.05) #s(line-spec -1.8 4.35 1.8 4.35 0.05) #s(line-spec 1.8 4.35 1.8 -1.8 0.05) #s(line-spec 1.8 -1.8 -1.8 -1.8 0.05)) (#s(pad-spec 1 0 0 thru_hole rect (1.7 1.7) (1.0) 1) #s(pad-spec 2 0 2.54 thru_hole oval (1.7 1.7) (1.0) 1)) #f) (1 2)) #s(FpSpec 3 #s(footprint (#s(line-spec -0.635 -1.27 1.27 -1.27 0.1) #s(line-spec 1.27 -1.27 1.27 6.35 0.1) #s(line-spec 1.27 6.35 -1.27 6.35 0.1) #s(line-spec -1.27 6.35 -1.27 -0.635 0.1) #s(line-spec -1.27 -0.635 -0.635 -1.27 0.1) #s(line-spec -1.33 6.41 1.33 6.41 0.12) #s(line-spec -1.33 1.27 -1.33 6.41 0.12) #s(line-spec 1.33 1.27 1.33 6.41 0.12) #s(line-spec -1.33 1.27 1.33 1.27 0.12) #s(line-spec -1.33 0 -1.33 -1.33 0.12) #s(line-spec -1.33 -1.33 0 -1.33 0.12) #s(line-spec -1.8 -1.8 -1.8 6.85 0.05) #s(line-spec -1.8 6.85 1.8 6.85 0.05) #s(line-spec 1.8 6.85 1.8 -1.8 0.05) #s(line-spec 1.8 -1.8 -1.8 -1.8 0.05)) (#s(pad-spec 1 0 0 thru_hole rect (1.7 1.7) (1.0) 1) #s(pad-spec 2 0 2.54 thru_hole oval (1.7 1.7) (1.0) 1) #s(pad-spec 3 0 5.08 thru_hole oval (1.7 1.7) (1.0) 1)) #f) (1 2 3)) #s(FpSpec 4 #s(footprint (#s(line-spec -0.635 -1.27 1.27 -1.27 0.1) #s(line-spec 1.27 -1.27 1.27 8.89 0.1) #s(line-spec 1.27 8.89 -1.27 8.89 0.1) #s(line-spec -1.27 8.89 -1.27 -0.635 0.1) #s(line-spec -1.27 -0.635 -0.635 -1.27 0.1) #s(line-spec -1.33 8.95 1.33 8.95 0.12) #s(line-spec -1.33 1.27 -1.33 8.95 0.12) #s(line-spec 1.33 1.27 1.33 8.95 0.12) #s(line-spec -1.33 1.27 1.33 1.27 0.12) #s(line-spec -1.33 0 -1.33 -1.33 0.12) #s(line-spec -1.33 -1.33 0 -1.33 0.12) #s(line-spec -1.8 -1.8 -1.8 9.4 0.05) #s(line-spec -1.8 9.4 1.8 9.4 0.05) #s(line-spec 1.8 9.4 1.8 -1.8 0.05) #s(line-spec 1.8 -1.8 -1.8 -1.8 0.05)) (#s(pad-spec 1 0 0 thru_hole rect (1.7 1.7) (1.0) 1) #s(pad-spec 2 0 2.54 thru_hole oval (1.7 1.7) (1.0) 1) #s(pad-spec 3 0 5.08 thru_hole oval (1.7 1.7) (1.0) 1) #s(pad-spec 4 0 7.62 thru_hole oval (1.7 1.7) (1.0) 1)) #f) (1 2 3 4)) #s(FpSpec 5 #s(footprint (#s(line-spec -0.635 -1.27 1.27 -1.27 0.1) #s(line-spec 1.27 -1.27 1.27 11.43 0.1) #s(line-spec 1.27 11.43 -1.27 11.43 0.1) #s(line-spec -1.27 11.43 -1.27 -0.635 0.1) #s(line-spec -1.27 -0.635 -0.635 -1.27 0.1) #s(line-spec -1.33 11.49 1.33 11.49 0.12) #s(line-spec -1.33 1.27 -1.33 11.49 0.12) #s(line-spec 1.33 1.27 1.33 11.49 0.12) #s(line-spec -1.33 1.27 1.33 1.27 0.12) #s(line-spec -1.33 0 -1.33 -1.33 0.12) #s(line-spec -1.33 -1.33 0 -1.33 0.12) #s(line-spec -1.8 -1.8 -1.8 11.95 0.05) #s(line-spec -1.8 11.95 1.8 11.95 0.05) #s(line-spec 1.8 11.95 1.8 -1.8 0.05) #s(line-spec 1.8 -1.8 -1.8 -1.8 0.05)) (#s(pad-spec 1 0 0 thru_hole rect (1.7 1.7) (1.0) 1) #s(pad-spec 2 0 2.54 thru_hole oval (1.7 1.7) (1.0) 1) #s(pad-spec 3 0 5.08 thru_hole oval (1.7 1.7) (1.0) 1) #s(pad-spec 4 0 7.62 thru_hole oval (1.7 1.7) (1.0) 1) #s(pad-spec 5 0 10.16 thru_hole oval (1.7 1.7) (1.0) 1)) #f) (1 2 3 4 5)) #s(FpSpec 6 #s(footprint (#s(line-spec -0.635 -1.27 1.27 -1.27 0.1) #s(line-spec 1.27 -1.27 1.27 13.97 0.1) #s(line-spec 1.27 13.97 -1.27 13.97 0.1) #s(line-spec -1.27 13.97 -1.27 -0.635 0.1) #s(line-spec -1.27 -0.635 -0.635 -1.27 0.1) #s(line-spec -1.33 14.03 1.33 14.03 0.12) #s(line-spec -1.33 1.27 -1.33 14.03 0.12) #s(line-spec 1.33 1.27 1.33 14.03 0.12) #s(line-spec -1.33 1.27 1.33 1.27 0.12) #s(line-spec -1.33 0 -1.33 -1.33 0.12) #s(line-spec -1.33 -1.33 0 -1.33 0.12) #s(line-spec -1.8 -1.8 -1.8 14.5 0.05) #s(line-spec -1.8 14.5 1.8 14.5 0.05) #s(line-spec 1.8 14.5 1.8 -1.8 0.05) #s(line-spec 1.8 -1.8 -1.8 -1.8 0.05)) (#s(pad-spec 1 0 0 thru_hole rect (1.7 1.7) (1.0) 1) #s(pad-spec 2 0 2.54 thru_hole oval (1.7 1.7) (1.0) 1) #s(pad-spec 3 0 5.08 thru_hole oval (1.7 1.7) (1.0) 1) #s(pad-spec 4 0 7.62 thru_hole oval (1.7 1.7) (1.0) 1) #s(pad-spec 5 0 10.16 thru_hole oval (1.7 1.7) (1.0) 1) #s(pad-spec 6 0 12.7 thru_hole oval (1.7 1.7) (1.0) 1)) #f) (1 2 3 4 5 6)) #s(FpSpec 7 #s(footprint (#s(line-spec -0.635 -1.27 1.27 -1.27 0.1) #s(line-spec 1.27 -1.27 1.27 16.51 0.1) #s(line-spec 1.27 16.51 -1.27 16.51 0.1) #s(line-spec -1.27 16.51 -1.27 -0.635 0.1) #s(line-spec -1.27 -0.635 -0.635 -1.27 0.1) #s(line-spec -1.33 16.57 1.33 16.57 0.12) #s(line-spec -1.33 1.27 -1.33 16.57 0.12) #s(line-spec 1.33 1.27 1.33 16.57 0.12) #s(line-spec -1.33 1.27 1.33 1.27 0.12) #s(line-spec -1.33 0 -1.33 -1.33 0.12) #s(line-spec -1.33 -1.33 0 -1.33 0.12) #s(line-spec -1.8 -1.8 -1.8 17.05 0.05) #s(line-spec -1.8 17.05 1.8 17.05 0.05) #s(line-spec 1.8 17.05 1.8 -1.8 0.05) #s(line-spec 1.8 -1.8 -1.8 -1.8 0.05)) (#s(pad-spec 1 0 0 thru_hole rect (1.7 1.7) (1.0) 1) #s(pad-spec 2 0 2.54 thru_hole oval (1.7 1.7) (1.0) 1) #s(pad-spec 3 0 5.08 thru_hole oval (1.7 1.7) (1.0) 1) #s(pad-spec 4 0 7.62 thru_hole oval (1.7 1.7) (1.0) 1) #s(pad-spec 5 0 10.16 thru_hole oval (1.7 1.7) (1.0) 1) #s(pad-spec 6 0 12.7 thru_hole oval (1.7 1.7) (1.0) 1) #s(pad-spec 7 0 15.24 thru_hole oval (1.7 1.7) (1.0) 1)) #f) (1 2 3 4 5 6 7)) #s(FpSpec 8 #s(footprint (#s(line-spec -0.635 -1.27 1.27 -1.27 0.1) #s(line-spec 1.27 -1.27 1.27 19.05 0.1) #s(line-spec 1.27 19.05 -1.27 19.05 0.1) #s(line-spec -1.27 19.05 -1.27 -0.635 0.1) #s(line-spec -1.27 -0.635 -0.635 -1.27 0.1) #s(line-spec -1.33 19.11 1.33 19.11 0.12) #s(line-spec -1.33 1.27 -1.33 19.11 0.12) #s(line-spec 1.33 1.27 1.33 19.11 0.12) #s(line-spec -1.33 1.27 1.33 1.27 0.12) #s(line-spec -1.33 0 -1.33 -1.33 0.12) #s(line-spec -1.33 -1.33 0 -1.33 0.12) #s(line-spec -1.8 -1.8 -1.8 19.55 0.05) #s(line-spec -1.8 19.55 1.8 19.55 0.05) #s(line-spec 1.8 19.55 1.8 -1.8 0.05) #s(line-spec 1.8 -1.8 -1.8 -1.8 0.05)) (#s(pad-spec 1 0 0 thru_hole rect (1.7 1.7) (1.0) 1) #s(pad-spec 2 0 2.54 thru_hole oval (1.7 1.7) (1.0) 1) #s(pad-spec 3 0 5.08 thru_hole oval (1.7 1.7) (1.0) 1) #s(pad-spec 4 0 7.62 thru_hole oval (1.7 1.7) (1.0) 1) #s(pad-spec 5 0 10.16 thru_hole oval (1.7 1.7) (1.0) 1) #s(pad-spec 6 0 12.7 thru_hole oval (1.7 1.7) (1.0) 1) #s(pad-spec 7 0 15.24 thru_hole oval (1.7 1.7) (1.0) 1) #s(pad-spec 8 0 17.78 thru_hole oval (1.7 1.7) (1.0) 1)) #f) (1 2 3 4 5 6 7 8))) #f #f) 1)</code>"
      ],
      "text/plain": [
       "(ICAtom '#hash((1 . #0=#<Pin-137312-index-1>) (fp-1 . #0#) (index-1 . #0#)) (pict '(prog #<procedure:...rivate/utils.rkt:1274:8> 15.418422887715128) 15.418422887715128 15.418422887715128 7.709211443857564 7.709211443857564 '() (bbox 0.0 0.0 15.418422887715128 15.418422887715128 7.709211443857564 7.709211443857564) #f) '#s(IC \"PinHeader\" \"U\" \"\" () (#s(FpSpec 1 #s(footprint (#s(line-spec -0.635 -1.27 1.27 -1.27 0.1) #s(line-spec 1.27 -1.27 1.27 1.27 0.1) #s(line-spec 1.27 1.27 -1.27 1.27 0.1) #s(line-spec -1.27 1.27 -1.27 -0.635 0.1) #s(line-spec -1.27 -0.635 -0.635 -1.27 0.1) #s(line-spec -1.33 1.33 1.33 1.33 0.12) #s(line-spec -1.33 1.27 -1.33 1.33 0.12) #s(line-spec 1.33 1.27 1.33 1.33 0.12) #s(line-spec -1.33 1.27 1.33 1.27 0.12) #s(line-spec -1.33 0 -1.33 -1.33 0.12) #s(line-spec -1.33 -1.33 0 -1.33 0.12) #s(line-spec -1.8 -1.8 -1.8 1.8 0.05) #s(line-spec -1.8 1.8 1.8 1.8 0.05) #s(line-spec 1.8 1.8 1.8 -1.8 0.05) #s(line-spec 1.8 -1.8 -1.8 -1.8 0.05)) (#s(pad-spec 1 0 0 thru_hole rect (1.7 1.7) (1.0) 1)) #f) (1)) #s(FpSpec 2 #s(footprint (#s(line-spec -0.635 -1.27 1.27 -1.27 0.1) #s(line-spec 1.27 -1.27 1.27 3.81 0.1) #s(line-spec 1.27 3.81 -1.27 3.81 0.1) #s(line-spec -1.27 3.81 -1.27 -0.635 0.1) #s(line-spec -1.27 -0.635 -0.635 -1.27 0.1) #s(line-spec -1.33 3.87 1.33 3.87 0.12) #s(line-spec -1.33 1.27 -1.33 3.87 0.12) #s(line-spec 1.33 1.27 1.33 3.87 0.12) #s(line-spec -1.33 1.27 1.33 1.27 0.12) #s(line-spec -1.33 0 -1.33 -1.33 0.12) #s(line-spec -1.33 -1.33 0 -1.33 0.12) #s(line-spec -1.8 -1.8 -1.8 4.35 0.05) #s(line-spec -1.8 4.35 1.8 4.35 0.05) #s(line-spec 1.8 4.35 1.8 -1.8 0.05) #s(line-spec 1.8 -1.8 -1.8 -1.8 0.05)) (#s(pad-spec 1 0 0 thru_hole rect (1.7 1.7) (1.0) 1) #s(pad-spec 2 0 2.54 thru_hole oval (1.7 1.7) (1.0) 1)) #f) (1 2)) #s(FpSpec 3 #s(footprint (#s(line-spec -0.635 -1.27 1.27 -1.27 0.1) #s(line-spec 1.27 -1.27 1.27 6.35 0.1) #s(line-spec 1.27 6.35 -1.27 6.35 0.1) #s(line-spec -1.27 6.35 -1.27 -0.635 0.1) #s(line-spec -1.27 -0.635 -0.635 -1.27 0.1) #s(line-spec -1.33 6.41 1.33 6.41 0.12) #s(line-spec -1.33 1.27 -1.33 6.41 0.12) #s(line-spec 1.33 1.27 1.33 6.41 0.12) #s(line-spec -1.33 1.27 1.33 1.27 0.12) #s(line-spec -1.33 0 -1.33 -1.33 0.12) #s(line-spec -1.33 -1.33 0 -1.33 0.12) #s(line-spec -1.8 -1.8 -1.8 6.85 0.05) #s(line-spec -1.8 6.85 1.8 6.85 0.05) #s(line-spec 1.8 6.85 1.8 -1.8 0.05) #s(line-spec 1.8 -1.8 -1.8 -1.8 0.05)) (#s(pad-spec 1 0 0 thru_hole rect (1.7 1.7) (1.0) 1) #s(pad-spec 2 0 2.54 thru_hole oval (1.7 1.7) (1.0) 1) #s(pad-spec 3 0 5.08 thru_hole oval (1.7 1.7) (1.0) 1)) #f) (1 2 3)) #s(FpSpec 4 #s(footprint (#s(line-spec -0.635 -1.27 1.27 -1.27 0.1) #s(line-spec 1.27 -1.27 1.27 8.89 0.1) #s(line-spec 1.27 8.89 -1.27 8.89 0.1) #s(line-spec -1.27 8.89 -1.27 -0.635 0.1) #s(line-spec -1.27 -0.635 -0.635 -1.27 0.1) #s(line-spec -1.33 8.95 1.33 8.95 0.12) #s(line-spec -1.33 1.27 -1.33 8.95 0.12) #s(line-spec 1.33 1.27 1.33 8.95 0.12) #s(line-spec -1.33 1.27 1.33 1.27 0.12) #s(line-spec -1.33 0 -1.33 -1.33 0.12) #s(line-spec -1.33 -1.33 0 -1.33 0.12) #s(line-spec -1.8 -1.8 -1.8 9.4 0.05) #s(line-spec -1.8 9.4 1.8 9.4 0.05) #s(line-spec 1.8 9.4 1.8 -1.8 0.05) #s(line-spec 1.8 -1.8 -1.8 -1.8 0.05)) (#s(pad-spec 1 0 0 thru_hole rect (1.7 1.7) (1.0) 1) #s(pad-spec 2 0 2.54 thru_hole oval (1.7 1.7) (1.0) 1) #s(pad-spec 3 0 5.08 thru_hole oval (1.7 1.7) (1.0) 1) #s(pad-spec 4 0 7.62 thru_hole oval (1.7 1.7) (1.0) 1)) #f) (1 2 3 4)) #s(FpSpec 5 #s(footprint (#s(line-spec -0.635 -1.27 1.27 -1.27 0.1) #s(line-spec 1.27 -1.27 1.27 11.43 0.1) #s(line-spec 1.27 11.43 -1.27 11.43 0.1) #s(line-spec -1.27 11.43 -1.27 -0.635 0.1) #s(line-spec -1.27 -0.635 -0.635 -1.27 0.1) #s(line-spec -1.33 11.49 1.33 11.49 0.12) #s(line-spec -1.33 1.27 -1.33 11.49 0.12) #s(line-spec 1.33 1.27 1.33 11.49 0.12) #s(line-spec -1.33 1.27 1.33 1.27 0.12) #s(line-spec -1.33 0 -1.33 -1.33 0.12) #s(line-spec -1.33 -1.33 0 -1.33 0.12) #s(line-spec -1.8 -1.8 -1.8 11.95 0.05) #s(line-spec -1.8 11.95 1.8 11.95 0.05) #s(line-spec 1.8 11.95 1.8 -1.8 0.05) #s(line-spec 1.8 -1.8 -1.8 -1.8 0.05)) (#s(pad-spec 1 0 0 thru_hole rect (1.7 1.7) (1.0) 1) #s(pad-spec 2 0 2.54 thru_hole oval (1.7 1.7) (1.0) 1) #s(pad-spec 3 0 5.08 thru_hole oval (1.7 1.7) (1.0) 1) #s(pad-spec 4 0 7.62 thru_hole oval (1.7 1.7) (1.0) 1) #s(pad-spec 5 0 10.16 thru_hole oval (1.7 1.7) (1.0) 1)) #f) (1 2 3 4 5)) #s(FpSpec 6 #s(footprint (#s(line-spec -0.635 -1.27 1.27 -1.27 0.1) #s(line-spec 1.27 -1.27 1.27 13.97 0.1) #s(line-spec 1.27 13.97 -1.27 13.97 0.1) #s(line-spec -1.27 13.97 -1.27 -0.635 0.1) #s(line-spec -1.27 -0.635 -0.635 -1.27 0.1) #s(line-spec -1.33 14.03 1.33 14.03 0.12) #s(line-spec -1.33 1.27 -1.33 14.03 0.12) #s(line-spec 1.33 1.27 1.33 14.03 0.12) #s(line-spec -1.33 1.27 1.33 1.27 0.12) #s(line-spec -1.33 0 -1.33 -1.33 0.12) #s(line-spec -1.33 -1.33 0 -1.33 0.12) #s(line-spec -1.8 -1.8 -1.8 14.5 0.05) #s(line-spec -1.8 14.5 1.8 14.5 0.05) #s(line-spec 1.8 14.5 1.8 -1.8 0.05) #s(line-spec 1.8 -1.8 -1.8 -1.8 0.05)) (#s(pad-spec 1 0 0 thru_hole rect (1.7 1.7) (1.0) 1) #s(pad-spec 2 0 2.54 thru_hole oval (1.7 1.7) (1.0) 1) #s(pad-spec 3 0 5.08 thru_hole oval (1.7 1.7) (1.0) 1) #s(pad-spec 4 0 7.62 thru_hole oval (1.7 1.7) (1.0) 1) #s(pad-spec 5 0 10.16 thru_hole oval (1.7 1.7) (1.0) 1) #s(pad-spec 6 0 12.7 thru_hole oval (1.7 1.7) (1.0) 1)) #f) (1 2 3 4 5 6)) #s(FpSpec 7 #s(footprint (#s(line-spec -0.635 -1.27 1.27 -1.27 0.1) #s(line-spec 1.27 -1.27 1.27 16.51 0.1) #s(line-spec 1.27 16.51 -1.27 16.51 0.1) #s(line-spec -1.27 16.51 -1.27 -0.635 0.1) #s(line-spec -1.27 -0.635 -0.635 -1.27 0.1) #s(line-spec -1.33 16.57 1.33 16.57 0.12) #s(line-spec -1.33 1.27 -1.33 16.57 0.12) #s(line-spec 1.33 1.27 1.33 16.57 0.12) #s(line-spec -1.33 1.27 1.33 1.27 0.12) #s(line-spec -1.33 0 -1.33 -1.33 0.12) #s(line-spec -1.33 -1.33 0 -1.33 0.12) #s(line-spec -1.8 -1.8 -1.8 17.05 0.05) #s(line-spec -1.8 17.05 1.8 17.05 0.05) #s(line-spec 1.8 17.05 1.8 -1.8 0.05) #s(line-spec 1.8 -1.8 -1.8 -1.8 0.05)) (#s(pad-spec 1 0 0 thru_hole rect (1.7 1.7) (1.0) 1) #s(pad-spec 2 0 2.54 thru_hole oval (1.7 1.7) (1.0) 1) #s(pad-spec 3 0 5.08 thru_hole oval (1.7 1.7) (1.0) 1) #s(pad-spec 4 0 7.62 thru_hole oval (1.7 1.7) (1.0) 1) #s(pad-spec 5 0 10.16 thru_hole oval (1.7 1.7) (1.0) 1) #s(pad-spec 6 0 12.7 thru_hole oval (1.7 1.7) (1.0) 1) #s(pad-spec 7 0 15.24 thru_hole oval (1.7 1.7) (1.0) 1)) #f) (1 2 3 4 5 6 7)) #s(FpSpec 8 #s(footprint (#s(line-spec -0.635 -1.27 1.27 -1.27 0.1) #s(line-spec 1.27 -1.27 1.27 19.05 0.1) #s(line-spec 1.27 19.05 -1.27 19.05 0.1) #s(line-spec -1.27 19.05 -1.27 -0.635 0.1) #s(line-spec -1.27 -0.635 -0.635 -1.27 0.1) #s(line-spec -1.33 19.11 1.33 19.11 0.12) #s(line-spec -1.33 1.27 -1.33 19.11 0.12) #s(line-spec 1.33 1.27 1.33 19.11 0.12) #s(line-spec -1.33 1.27 1.33 1.27 0.12) #s(line-spec -1.33 0 -1.33 -1.33 0.12) #s(line-spec -1.33 -1.33 0 -1.33 0.12) #s(line-spec -1.8 -1.8 -1.8 19.55 0.05) #s(line-spec -1.8 19.55 1.8 19.55 0.05) #s(line-spec 1.8 19.55 1.8 -1.8 0.05) #s(line-spec 1.8 -1.8 -1.8 -1.8 0.05)) (#s(pad-spec 1 0 0 thru_hole rect (1.7 1.7) (1.0) 1) #s(pad-spec 2 0 2.54 thru_hole oval (1.7 1.7) (1.0) 1) #s(pad-spec 3 0 5.08 thru_hole oval (1.7 1.7) (1.0) 1) #s(pad-spec 4 0 7.62 thru_hole oval (1.7 1.7) (1.0) 1) #s(pad-spec 5 0 10.16 thru_hole oval (1.7 1.7) (1.0) 1) #s(pad-spec 6 0 12.7 thru_hole oval (1.7 1.7) (1.0) 1) #s(pad-spec 7 0 15.24 thru_hole oval (1.7 1.7) (1.0) 1) #s(pad-spec 8 0 17.78 thru_hole oval (1.7 1.7) (1.0) 1)) #f) (1 2 3 4 5 6 7 8))) #f #f) 1)"
      ]
     },
     "execution_count": 4,
     "metadata": {},
     "output_type": "execute_result"
    }
   ],
   "source": [
    "(PinHeader 1)"
   ]
  },
  {
   "cell_type": "code",
   "execution_count": 7,
   "metadata": {},
   "outputs": [
    {
     "data": {
      "text/html": [
       "<code>'(module \"ID\" (layer F.Cu) (tedit 0) (tstamp 0) (at 0 0 0) (path placeholder) (fp_text reference \"ID\" (at 0 0 0) (layer F.SilkS) hide (effects (font (size 1.524 1.524) (thickness 0.3048)))) (fp_line (start -0.635 -1.27) (end 1.27 -1.27) (layer F.SilkS) (width 0.1)) (fp_line (start 1.27 -1.27) (end 1.27 1.27) (layer F.SilkS) (width 0.1)) (fp_line (start 1.27 1.27) (end -1.27 1.27) (layer F.SilkS) (width 0.1)) (fp_line (start -1.27 1.27) (end -1.27 -0.635) (layer F.SilkS) (width 0.1)) (fp_line (start -1.27 -0.635) (end -0.635 -1.27) (layer F.SilkS) (width 0.1)) (fp_line (start -1.33 1.33) (end 1.33 1.33) (layer F.SilkS) (width 0.12)) (fp_line (start -1.33 1.27) (end -1.33 1.33) (layer F.SilkS) (width 0.12)) (fp_line (start 1.33 1.27) (end 1.33 1.33) (layer F.SilkS) (width 0.12)) (fp_line (start -1.33 1.27) (end 1.33 1.27) (layer F.SilkS) (width 0.12)) (fp_line (start -1.33 0) (end -1.33 -1.33) (layer F.SilkS) (width 0.12)) (fp_line (start -1.33 -1.33) (end 0 -1.33) (layer F.SilkS) (width 0.12)) (fp_line (start -1.8 -1.8) (end -1.8 1.8) (layer F.SilkS) (width 0.05)) (fp_line (start -1.8 1.8) (end 1.8 1.8) (layer F.SilkS) (width 0.05)) (fp_line (start 1.8 1.8) (end 1.8 -1.8) (layer F.SilkS) (width 0.05)) (fp_line (start 1.8 -1.8) (end -1.8 -1.8) (layer F.SilkS) (width 0.05)) (pad 1 thru_hole rect (at 0 0 0) (size 1.7 1.7) (drill 1.0) (layers *.Cu *.Mask)))</code>"
      ],
      "text/plain": [
       "'(module \"ID\" (layer F.Cu) (tedit 0) (tstamp 0) (at 0 0 0) (path placeholder) (fp_text reference \"ID\" (at 0 0 0) (layer F.SilkS) hide (effects (font (size 1.524 1.524) (thickness 0.3048)))) (fp_line (start -0.635 -1.27) (end 1.27 -1.27) #0=(layer F.SilkS) (width 0.1)) (fp_line (start 1.27 -1.27) (end 1.27 1.27) #0# (width 0.1)) (fp_line (start 1.27 1.27) (end -1.27 1.27) #0# (width 0.1)) (fp_line (start -1.27 1.27) (end -1.27 -0.635) #0# (width 0.1)) (fp_line (start -1.27 -0.635) (end -0.635 -1.27) #0# (width 0.1)) (fp_line (start -1.33 1.33) (end 1.33 1.33) #0# (width 0.12)) (fp_line (start -1.33 1.27) (end -1.33 1.33) #0# (width 0.12)) (fp_line (start 1.33 1.27) (end 1.33 1.33) #0# (width 0.12)) (fp_line (start -1.33 1.27) (end 1.33 1.27) #0# (width 0.12)) (fp_line (start -1.33 0) (end -1.33 -1.33) #0# (width 0.12)) (fp_line (start -1.33 -1.33) (end 0 -1.33) #0# (width 0.12)) (fp_line (start -1.8 -1.8) (end -1.8 1.8) #0# (width 0.05)) (fp_line (start -1.8 1.8) (end 1.8 1.8) #0# (width 0.05)) (fp_line (start 1.8 1.8) (end 1.8 -1.8) #0# (width 0.05)) (fp_line (start 1.8 -1.8) (end -1.8 -1.8) #0# (width 0.05)) (pad 1 thru_hole rect (at 0 0 0) (size 1.7 1.7) (drill 1.0) (layers *.Cu *.Mask)))"
      ]
     },
     "execution_count": 7,
     "metadata": {},
     "output_type": "execute_result"
    }
   ],
   "source": [
    "(atom->fp-sexp (PinHeader 1) 0 0 0 \"ID\" (make-hash) (make-hash))"
   ]
  },
  {
   "cell_type": "code",
   "execution_count": 8,
   "metadata": {},
   "outputs": [
    {
     "name": "stdout",
     "output_type": "stream",
     "text": [
      "WARNING:  smd must have either layer 1 or 2, but got #<void>\n",
      "WARNING:  smd must have either layer 1 or 2, but got #<void>\n"
     ]
    },
    {
     "data": {
      "text/html": [
       "<code>'(module \"ID\" (layer F.Cu) (tedit 0) (tstamp 0) (at 0 0 0) (path placeholder) (fp_text reference \"ID\" (at 0 0 0) (layer F.SilkS) hide (effects (font (size 1.524 1.524) (thickness 0.3048)))) (fp_line (start -6.999986000000007 -5.999988000000002) (end -6.999986000000007 -6.999985999999993) (layer F.SilkS) (width 0.150114)) (fp_line (start -6.999986000000007 -6.999985999999993) (end -5.999988000000002 -6.999985999999993) (layer F.SilkS) (width 0.150114)) (fp_line (start -5.999988000000002 6.999986000000007) (end -6.999986000000007 6.999986000000007) (layer F.SilkS) (width 0.150114)) (fp_line (start -6.999986000000007 6.999986000000007) (end -6.999986000000007 5.999988000000016) (layer F.SilkS) (width 0.150114)) (fp_line (start 6.999986000000007 5.999988000000016) (end 6.999986000000007 6.999986000000007) (layer F.SilkS) (width 0.150114)) (fp_line (start 6.999986000000007 6.999986000000007) (end 5.999988000000002 6.999986000000007) (layer F.SilkS) (width 0.150114)) (fp_line (start 5.999988000000002 -6.999985999999993) (end 6.999986000000007 -6.999985999999993) (layer F.SilkS) (width 0.150114)) (fp_line (start 6.999986000000007 -6.999985999999993) (end 6.999986000000007 -5.999988000000002) (layer F.SilkS) (width 0.150114)) (fp_line (start -6.8999100000000055 6.8999100000000055) (end 6.8999100000000055 6.8999100000000055) (layer F.SilkS) (width 0.150114)) (fp_line (start 6.8999100000000055 -6.899909999999991) (end -6.8999100000000055 -6.899909999999991) (layer F.SilkS) (width 0.150114)) (fp_line (start 6.8999100000000055 -6.899909999999991) (end 6.8999100000000055 6.8999100000000055) (layer F.SilkS) (width 0.150114)) (fp_line (start -6.8999100000000055 6.8999100000000055) (end -6.8999100000000055 -6.899909999999991) (layer F.SilkS) (width 0.150114)) (fp_line (start -7.499858000000003 -7.499857999999989) (end 7.499857999999989 -7.499857999999989) (layer F.SilkS) (width 0.150114)) (fp_line (start 7.499857999999989 -7.499857999999989) (end 7.499857999999989 7.499858000000003) (layer F.SilkS) (width 0.150114)) (fp_line (start 7.499857999999989 7.499858000000003) (end -7.499858000000003 7.499858000000003) (layer F.SilkS) (width 0.150114)) (fp_line (start -7.499858000000003 7.499858000000003) (end -7.499858000000003 -7.499857999999989) (layer F.SilkS) (width 0.150114)) (fp_line (start -7.499858000000003 -7.499857999999989) (end 7.499857999999989 -7.499857999999989) (layer F.SilkS) (width 0.150114)) (fp_line (start 7.499857999999989 -7.499857999999989) (end 7.499857999999989 7.499858000000003) (layer F.SilkS) (width 0.150114)) (fp_line (start 7.499857999999989 7.499858000000003) (end -7.499858000000003 7.499858000000003) (layer F.SilkS) (width 0.150114)) (fp_line (start -7.499858000000003 7.499858000000003) (end -7.499858000000003 -7.499857999999989) (layer F.SilkS) (width 0.150114)) (pad 1 smd rect (at 6.290056000000007 -5.079999999999998 0) (size 2.549906 2.499868) (layers F.Cu F.Paste F.Mask)) (pad 2 smd rect (at -7.560056000000003 -2.539999999999992 0) (size 2.549906 2.499868) (layers F.Cu F.Paste F.Mask)) (pad \"\" thru_hole circle (at 2.539999999999992 -5.079999999999998 0) (size 2.99974 2.99974) (drill 2.99974) (layers *.Cu *.Mask)) (pad \"\" thru_hole circle (at -3.8100000000000023 -2.539999999999992 0) (size 2.99974 2.99974) (drill 2.99974) (layers *.Cu *.Mask)) (pad \"\" thru_hole circle (at 0.0 0.0 0) (size 3.9878 3.9878) (drill 3.9878) (layers *.Cu *.Mask)) (pad \"\" thru_hole circle (at 5.079999999999998 0.0 0) (size 1.7018 1.7018) (drill 1.7018) (layers *.Cu *.Mask)) (pad \"\" thru_hole circle (at -5.079999999999998 0.0 0) (size 1.7018 1.7018) (drill 1.7018) (layers *.Cu *.Mask)))</code>"
      ],
      "text/plain": [
       "'(module \"ID\" (layer F.Cu) (tedit 0) (tstamp 0) (at 0 0 0) (path placeholder) (fp_text reference \"ID\" (at 0 0 0) (layer F.SilkS) hide (effects (font (size 1.524 1.524) (thickness 0.3048)))) (fp_line (start -6.999986000000007 -5.999988000000002) (end -6.999986000000007 -6.999985999999993) #0=(layer F.SilkS) (width 0.150114)) (fp_line (start -6.999986000000007 -6.999985999999993) (end -5.999988000000002 -6.999985999999993) #0# (width 0.150114)) (fp_line (start -5.999988000000002 6.999986000000007) (end -6.999986000000007 6.999986000000007) #0# (width 0.150114)) (fp_line (start -6.999986000000007 6.999986000000007) (end -6.999986000000007 5.999988000000016) #0# (width 0.150114)) (fp_line (start 6.999986000000007 5.999988000000016) (end 6.999986000000007 6.999986000000007) #0# (width 0.150114)) (fp_line (start 6.999986000000007 6.999986000000007) (end 5.999988000000002 6.999986000000007) #0# (width 0.150114)) (fp_line (start 5.999988000000002 -6.999985999999993) (end 6.999986000000007 -6.999985999999993) #0# (width 0.150114)) (fp_line (start 6.999986000000007 -6.999985999999993) (end 6.999986000000007 -5.999988000000002) #0# (width 0.150114)) (fp_line (start -6.8999100000000055 6.8999100000000055) (end 6.8999100000000055 6.8999100000000055) #0# (width 0.150114)) (fp_line (start 6.8999100000000055 -6.899909999999991) (end -6.8999100000000055 -6.899909999999991) #0# (width 0.150114)) (fp_line (start 6.8999100000000055 -6.899909999999991) (end 6.8999100000000055 6.8999100000000055) #0# (width 0.150114)) (fp_line (start -6.8999100000000055 6.8999100000000055) (end -6.8999100000000055 -6.899909999999991) #0# (width 0.150114)) (fp_line (start -7.499858000000003 -7.499857999999989) (end 7.499857999999989 -7.499857999999989) #0# (width 0.150114)) (fp_line (start 7.499857999999989 -7.499857999999989) (end 7.499857999999989 7.499858000000003) #0# (width 0.150114)) (fp_line (start 7.499857999999989 7.499858000000003) (end -7.499858000000003 7.499858000000003) #0# (width 0.150114)) (fp_line (start -7.499858000000003 7.499858000000003) (end -7.499858000000003 -7.499857999999989) #0# (width 0.150114)) (fp_line (start -7.499858000000003 -7.499857999999989) (end 7.499857999999989 -7.499857999999989) #0# (width 0.150114)) (fp_line (start 7.499857999999989 -7.499857999999989) (end 7.499857999999989 7.499858000000003) #0# (width 0.150114)) (fp_line (start 7.499857999999989 7.499858000000003) (end -7.499858000000003 7.499858000000003) #0# (width 0.150114)) (fp_line (start -7.499858000000003 7.499858000000003) (end -7.499858000000003 -7.499857999999989) #0# (width 0.150114)) (pad 1 smd rect (at 6.290056000000007 -5.079999999999998 0) (size 2.549906 2.499868) (layers F.Cu . #1=(F.Paste F.Mask))) (pad 2 smd rect (at -7.560056000000003 -2.539999999999992 0) (size 2.549906 2.499868) (layers F.Cu . #1#)) (pad \"\" thru_hole circle (at 2.539999999999992 -5.079999999999998 0) (size 2.99974 2.99974) (drill 2.99974) #2=(layers *.Cu *.Mask)) (pad \"\" thru_hole circle (at -3.8100000000000023 -2.539999999999992 0) (size 2.99974 2.99974) (drill 2.99974) #2#) (pad \"\" thru_hole circle (at 0.0 0.0 0) (size 3.9878 3.9878) (drill 3.9878) #2#) (pad \"\" thru_hole circle (at 5.079999999999998 0.0 0) (size 1.7018 1.7018) (drill 1.7018) #2#) (pad \"\" thru_hole circle (at -5.079999999999998 0.0 0) (size 1.7018 1.7018) (drill 1.7018) #2#))"
      ]
     },
     "execution_count": 8,
     "metadata": {},
     "output_type": "execute_result"
    }
   ],
   "source": [
    "(atom->fp-sexp (kailh-socket 1) 0 0 0 \"ID\" (make-hash) (make-hash))"
   ]
  },
  {
   "cell_type": "code",
   "execution_count": 9,
   "metadata": {},
   "outputs": [
    {
     "name": "stdout",
     "output_type": "stream",
     "text": [
      "\"DEBUG: /var/tmp/PKGS-bhdl-lib-bhdl-private-library-io.rkt-99-15_15985354991598535499030\"\n",
      "WARNING:  smd must have either layer 1 or 2, but got #<void>\n",
      "WARNING:  smd must have either layer 1 or 2, but got #<void>\n",
      "WARNING:  smd must have either layer 1 or 2, but got #<void>\n",
      "WARNING:  smd must have either layer 1 or 2, but got #<void>\n",
      "WARNING:  smd must have either layer 1 or 2, but got #<void>\n",
      "WARNING:  smd must have either layer 1 or 2, but got #<void>\n",
      "WARNING:  smd must have either layer 1 or 2, but got #<void>\n",
      "WARNING:  smd must have either layer 1 or 2, but got #<void>\n",
      "WARNING:  smd must have either layer 1 or 2, but got #<void>\n",
      "WARNING:  smd must have either layer 1 or 2, but got #<void>\n",
      "WARNING:  smd must have either layer 1 or 2, but got #<void>\n",
      "WARNING:  smd must have either layer 1 or 2, but got #<void>\n"
     ]
    },
    {
     "data": {
      "text/html": [
       "<code>'(module \"ID\" (layer F.Cu) (tedit 0) (tstamp 0) (at 0 0 0) (path placeholder) (fp_text reference \"ID\" (at 0 0 0) (layer F.SilkS) hide (effects (font (size 1.524 1.524) (thickness 0.3048)))) (fp_line (start 4.3179746000000705 1.1430761999999959) (end 4.3179746000000705 -0.38092380000000503) (layer F.SilkS) (width 0.254)) (fp_line (start -4.3180254000000104 3.556076200000007) (end -4.3180254000000104 5.080076200000008) (layer F.SilkS) (width 0.254)) (fp_line (start -4.3180254000000104 5.080076200000008) (end 4.3179746000000705 5.080076200000008) (layer F.SilkS) (width 0.254)) (fp_line (start 4.3179746000000705 5.080076200000008) (end 4.3179746000000705 3.556076200000007) (layer F.SilkS) (width 0.254)) (fp_line (start -4.3180254000000104 -0.38092380000000503) (end -4.3180254000000104 1.1430761999999959) (layer F.SilkS) (width 0.254)) (fp_line (start -4.3180254000000104 -3.1749237999999878) (end 4.3179746000000705 -3.1749237999999878) (layer F.SilkS) (width 0.254)) (pad A1B12 smd rect (at -3.200146000000018 -2.362453999999957 0) (size 0.5999987999999999 1.1500103999999998) (layers F.Cu F.Paste F.Mask)) (pad A4B9 smd rect (at -2.400045999999975 -2.362453999999957 0) (size 0.5999987999999999 1.1500103999999998) (layers F.Cu F.Paste F.Mask)) (pad B1A12 smd rect (at 3.1998920000000908 -2.362453999999957 0) (size 0.5999987999999999 1.1500103999999998) (layers F.Cu F.Paste F.Mask)) (pad B4A9 smd rect (at 2.400045999999975 -2.362453999999957 0) (size 0.5999987999999999 1.1500103999999998) (layers F.Cu F.Paste F.Mask)) (pad B5 smd rect (at 1.7500599999999622 -2.362453999999957 0) (size 0.29999939999999997 1.1500103999999998) (layers F.Cu F.Paste F.Mask)) (pad B8 smd rect (at 1.2499339999998256 -2.362453999999957 0) (size 0.29999939999999997 1.1500103999999998) (layers F.Cu F.Paste F.Mask)) (pad B6 smd rect (at 0.7500620000001845 -2.362453999999957 0) (size 0.29999939999999997 1.1500103999999998) (layers F.Cu F.Paste F.Mask)) (pad A7 smd rect (at 0.2499360000000479 -2.362453999999957 0) (size 0.29999939999999997 1.1500103999999998) (layers F.Cu F.Paste F.Mask)) (pad A6 smd rect (at -0.2499359999999342 -2.362453999999957 0) (size 0.29999939999999997 1.1500103999999998) (layers F.Cu F.Paste F.Mask)) (pad B7 smd rect (at -0.7500620000000708 -2.362453999999957 0) (size 0.29999939999999997 1.1500103999999998) (layers F.Cu F.Paste F.Mask)) (pad A5 smd rect (at -1.249934000000053 -2.362453999999957 0) (size 0.29999939999999997 1.1500103999999998) (layers F.Cu F.Paste F.Mask)) (pad A8 smd rect (at -1.7500599999999622 -2.362453999999957 0) (size 0.29999939999999997 1.1500103999999998) (layers F.Cu F.Paste F.Mask)) (pad 4 thru_hole oval (at 4.320031999999969 2.362453999999957 0) (size 0.9999979999999998 1.7999964) (drill oval 0.1523996952 1.3999971999999998) (layers *.Cu *.Mask)) (pad 3 thru_hole oval (at -4.320032000000197 2.362453999999957 0) (size 0.9999979999999998 1.7999964) (drill oval 0.1523996952 1.3999971999999998) (layers *.Cu *.Mask)) (pad 2 thru_hole oval (at 4.320031999999969 -1.7873980000000529 0) (size 0.9999979999999998 2.0999957999999994) (drill oval 0.1523996952 1.6999966) (layers *.Cu *.Mask)) (pad 1 thru_hole oval (at -4.320032000000197 -1.7873980000000529 0) (size 0.9999979999999998 2.0999957999999994) (drill oval 0.1523996952 1.6999966) (layers *.Cu *.Mask)) (pad \"\" thru_hole circle (at 2.890011999999956 -1.287525999999957 0) (size 0.6499860000000001 0.6499860000000001) (drill 0.6499860000000001) (layers *.Cu *.Mask)) (pad \"\" thru_hole circle (at -2.890011999999956 -1.287525999999957 0) (size 0.6499860000000001 0.6499860000000001) (drill 0.6499860000000001) (layers *.Cu *.Mask)))</code>"
      ],
      "text/plain": [
       "'(module \"ID\" (layer F.Cu) (tedit 0) (tstamp 0) (at 0 0 0) (path placeholder) (fp_text reference \"ID\" (at 0 0 0) (layer F.SilkS) hide (effects (font (size 1.524 1.524) (thickness 0.3048)))) (fp_line (start 4.3179746000000705 1.1430761999999959) (end 4.3179746000000705 -0.38092380000000503) #0=(layer F.SilkS) (width 0.254)) (fp_line (start -4.3180254000000104 3.556076200000007) (end -4.3180254000000104 5.080076200000008) #0# (width 0.254)) (fp_line (start -4.3180254000000104 5.080076200000008) (end 4.3179746000000705 5.080076200000008) #0# (width 0.254)) (fp_line (start 4.3179746000000705 5.080076200000008) (end 4.3179746000000705 3.556076200000007) #0# (width 0.254)) (fp_line (start -4.3180254000000104 -0.38092380000000503) (end -4.3180254000000104 1.1430761999999959) #0# (width 0.254)) (fp_line (start -4.3180254000000104 -3.1749237999999878) (end 4.3179746000000705 -3.1749237999999878) #0# (width 0.254)) (pad A1B12 smd rect (at -3.200146000000018 -2.362453999999957 0) (size 0.5999987999999999 1.1500103999999998) (layers F.Cu . #1=(F.Paste F.Mask))) (pad A4B9 smd rect (at -2.400045999999975 -2.362453999999957 0) (size 0.5999987999999999 1.1500103999999998) (layers F.Cu . #1#)) (pad B1A12 smd rect (at 3.1998920000000908 -2.362453999999957 0) (size 0.5999987999999999 1.1500103999999998) (layers F.Cu . #1#)) (pad B4A9 smd rect (at 2.400045999999975 -2.362453999999957 0) (size 0.5999987999999999 1.1500103999999998) (layers F.Cu . #1#)) (pad B5 smd rect (at 1.7500599999999622 -2.362453999999957 0) (size 0.29999939999999997 1.1500103999999998) (layers F.Cu . #1#)) (pad B8 smd rect (at 1.2499339999998256 -2.362453999999957 0) (size 0.29999939999999997 1.1500103999999998) (layers F.Cu . #1#)) (pad B6 smd rect (at 0.7500620000001845 -2.362453999999957 0) (size 0.29999939999999997 1.1500103999999998) (layers F.Cu . #1#)) (pad A7 smd rect (at 0.2499360000000479 -2.362453999999957 0) (size 0.29999939999999997 1.1500103999999998) (layers F.Cu . #1#)) (pad A6 smd rect (at -0.2499359999999342 -2.362453999999957 0) (size 0.29999939999999997 1.1500103999999998) (layers F.Cu . #1#)) (pad B7 smd rect (at -0.7500620000000708 -2.362453999999957 0) (size 0.29999939999999997 1.1500103999999998) (layers F.Cu . #1#)) (pad A5 smd rect (at -1.249934000000053 -2.362453999999957 0) (size 0.29999939999999997 1.1500103999999998) (layers F.Cu . #1#)) (pad A8 smd rect (at -1.7500599999999622 -2.362453999999957 0) (size 0.29999939999999997 1.1500103999999998) (layers F.Cu . #1#)) (pad 4 thru_hole oval (at 4.320031999999969 2.362453999999957 0) (size 0.9999979999999998 1.7999964) (drill oval 0.1523996952 1.3999971999999998) #2=(layers *.Cu *.Mask)) (pad 3 thru_hole oval (at -4.320032000000197 2.362453999999957 0) (size 0.9999979999999998 1.7999964) (drill oval 0.1523996952 1.3999971999999998) #2#) (pad 2 thru_hole oval (at 4.320031999999969 -1.7873980000000529 0) (size 0.9999979999999998 2.0999957999999994) (drill oval 0.1523996952 1.6999966) #2#) (pad 1 thru_hole oval (at -4.320032000000197 -1.7873980000000529 0) (size 0.9999979999999998 2.0999957999999994) (drill oval 0.1523996952 1.6999966) #2#) (pad \"\" thru_hole circle (at 2.890011999999956 -1.287525999999957 0) (size 0.6499860000000001 0.6499860000000001) (drill 0.6499860000000001) #2#) (pad \"\" thru_hole circle (at -2.890011999999956 -1.287525999999957 0) (size 0.6499860000000001 0.6499860000000001) (drill 0.6499860000000001) #2#))"
      ]
     },
     "execution_count": 9,
     "metadata": {},
     "output_type": "execute_result"
    }
   ],
   "source": [
    "(atom->fp-sexp (USB-C-16 1) 0 0 0 \"ID\" (make-hash) (make-hash))"
   ]
  },
  {
   "cell_type": "code",
   "execution_count": null,
   "metadata": {},
   "outputs": [],
   "source": []
  }
 ],
 "metadata": {
  "kernelspec": {
   "display_name": "Racket",
   "language": "racket",
   "name": "racket"
  },
  "language_info": {
   "codemirror_mode": "scheme",
   "file_extension": ".rkt",
   "mimetype": "text/x-racket",
   "name": "Racket",
   "pygments_lexer": "racket",
   "version": "7.7"
  }
 },
 "nbformat": 4,
 "nbformat_minor": 4
}
